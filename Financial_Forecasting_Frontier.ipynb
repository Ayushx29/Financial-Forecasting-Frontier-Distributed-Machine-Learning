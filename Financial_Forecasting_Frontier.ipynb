{
  "nbformat": 4,
  "nbformat_minor": 0,
  "metadata": {
    "colab": {
      "provenance": [],
      "collapsed_sections": [
        "mDgbUHAGgjLW",
        "HhfV-JJviCcP",
        "JlHwYmJAmNHm",
        "35m5QtbWiB9F",
        "DiFvGvKD3J6-",
        "1Hwj9JOW7OhL",
        "nA9Y7ga8ng1Z",
        "dauF4eBmngu3",
        "GF8Ens_Soomf",
        "gIfDvo9L0UH2"
      ],
      "include_colab_link": true
    },
    "kernelspec": {
      "name": "python3",
      "display_name": "Python 3"
    },
    "language_info": {
      "name": "python"
    }
  },
  "cells": [
    {
      "cell_type": "markdown",
      "metadata": {
        "id": "view-in-github",
        "colab_type": "text"
      },
      "source": [
        "<a href=\"https://colab.research.google.com/github/Ayushx29/Financial-Forecasting-Frontier-Distributed-Machine-Learning/blob/main/Financial_Forecasting_Frontier.ipynb\" target=\"_parent\"><img src=\"https://colab.research.google.com/assets/colab-badge.svg\" alt=\"Open In Colab\"/></a>"
      ]
    },
    {
      "cell_type": "markdown",
      "source": [
        "# **Project Name**    - Financial Forecasting Frontier : Distributed Machine Learning\n",
        "\n",
        "\n"
      ],
      "metadata": {
        "id": "vncDsAP0Gaoa"
      }
    },
    {
      "cell_type": "markdown",
      "source": [
        "##### **Project Type**    - EDA/Classification\n",
        "##### **Contribution**    - Individual\n",
        "##### **Team Member -** Ayush Bhagat\n"
      ],
      "metadata": {
        "id": "beRrZCGUAJYm"
      }
    },
    {
      "cell_type": "markdown",
      "source": [
        "# **Project Summary -**"
      ],
      "metadata": {
        "id": "FJNUwmbgGyua"
      }
    },
    {
      "cell_type": "markdown",
      "source": [
        "The project titled \"Financial Forecasting Frontier: Distributed ML\" is an end-to-end data analytics and machine learning initiative focusing on the banking sector, designed to demonstrate the application of distributed computing technologies in handling and analyzing large-scale banking datasets. The project primarily leverages Apache Spark and PySpark to execute exploratory data analysis (EDA) and build classification models on a dataset sourced from real-world banking marketing campaigns.\n",
        "\n",
        "At the core of the project is the bank.csv dataset, which includes detailed information about customer demographics, campaign outreach efforts, financial attributes, and the final outcome of marketing efforts — whether a client subscribed to a term deposit. This dataset simulates a common challenge faced by financial institutions: understanding customer behavior and predicting responses to banking products using data-driven methods.\n",
        "\n",
        "The notebook starts by setting up the Spark environment using SparkSession. This initialization includes configurations for memory allocation and partitioning, which are crucial for enabling efficient distributed computation. The use of PySpark allows seamless scaling of data processing across multiple cores or nodes, simulating the environment of a production-level distributed system within the financial industry.\n",
        "\n",
        "Once the Spark environment is initialized, the notebook proceeds to load the dataset into a Spark DataFrame. The initial phase includes a schema check and data overview. This step ensures that the data is loaded correctly and helps in identifying data types, null values, and general statistics. Operations such as describe(), select(), and groupBy() are used to derive insights into features like customer age distribution, job type prevalence, and loan statuses. This phase forms the Exploratory Data Analysis (EDA) part of the project, which aims to uncover hidden patterns, detect outliers, and establish initial relationships between input features and the target variable y (whether the customer subscribed to the term deposit).\n",
        "\n",
        "Following EDA, the notebook focuses on data preprocessing — a crucial step in machine learning pipelines. Categorical variables like job, marital status, and education are transformed using techniques such as string indexing and one-hot encoding, converting them into numerical formats suitable for modeling. Null handling, feature engineering, and data normalization are also addressed to ensure clean and consistent input to the machine learning models.\n",
        "\n",
        "The core of the project lies in building and evaluating classification models using Spark ML. The target variable y is binary, making it suitable for binary classification algorithms such as Logistic Regression, Random Forest Classifier, and Decision Trees. These models are trained to predict whether a client is likely to subscribe to a term deposit based on their personal and financial attributes. The notebook demonstrates the use of pipelines in Spark ML, where preprocessing steps and models are chained together for streamlined execution.\n",
        "\n",
        "Performance evaluation is conducted using metrics like accuracy, precision, recall, and area under the ROC curve (AUC). These metrics help determine the efficacy of the models in predicting customer behavior and identifying key decision factors. Confusion matrices and classification reports further aid in interpreting model strengths and areas of improvement.\n",
        "\n",
        "Although the primary focus is on batch processing and supervised learning, the notebook architecture leaves room for extension into real-time analytics using Spark Streaming, which would allow banks to monitor transactions in real time for fraud detection or customer engagement. Additionally, data parallelism techniques employed in Spark ensure that the solution remains scalable as data volume grows — a critical requirement in modern banking systems.\n",
        "\n",
        "In conclusion, this notebook serves as a comprehensive demonstration of how distributed machine learning techniques can be effectively applied to banking data. It mirrors real-world applications where banks utilize big data technologies to enhance marketing efforts, improve customer understanding, and drive business decisions. Through the integration of EDA, preprocessing, classification modeling, and distributed processing, the project provides valuable insights into the practical implementation of scalable ML pipelines in the financial services domain."
      ],
      "metadata": {
        "id": "F6v_1wHtG2nS"
      }
    },
    {
      "cell_type": "markdown",
      "source": [
        "# **GitHub Link -**"
      ],
      "metadata": {
        "id": "w6K7xa23Elo4"
      }
    },
    {
      "cell_type": "markdown",
      "source": [
        "https://github.com/Ayushx29/Financial-Forecasting-Frontier-Distributed-Machine-Learning"
      ],
      "metadata": {
        "id": "h1o69JH3Eqqn"
      }
    },
    {
      "cell_type": "markdown",
      "source": [
        "# **Problem Statement**\n"
      ],
      "metadata": {
        "id": "yQaldy8SH6Dl"
      }
    },
    {
      "cell_type": "markdown",
      "source": [
        "**In the modern banking sector, the ability to efficiently process, analyze, and draw insights from vast volumes of data is crucial for improving customer engagement, managing risk, and making informed business decisions. However, banks face significant challenges due to the sheer volume, variety, and velocity of data, which traditional data processing methods cannot handle effectively—especially for real-time analysis.**\n",
        "\n",
        "**This project addresses the problem of predicting whether a customer will subscribe to a term deposit by applying distributed machine learning techniques on large-scale banking data. Using Apache Spark and the bank.csv dataset, the goal is to build a scalable pipeline that performs data exploration, transformation, and classification. The project also explores real-time data processing using Spark Streaming, simulating how banks can make timely decisions based on live transaction data.**"
      ],
      "metadata": {
        "id": "DpeJGUA3kjGy"
      }
    },
    {
      "cell_type": "markdown",
      "source": [
        "# **General Guidelines** : -  "
      ],
      "metadata": {
        "id": "mDgbUHAGgjLW"
      }
    },
    {
      "cell_type": "markdown",
      "source": [
        "1.   Well-structured, formatted, and commented code is required.\n",
        "2.   Exception Handling, Production Grade Code & Deployment Ready Code will be a plus. Those students will be awarded some additional credits.\n",
        "     \n",
        "     The additional credits will have advantages over other students during Star Student selection.\n",
        "       \n",
        "             [ Note: - Deployment Ready Code is defined as, the whole .ipynb notebook should be executable in one go\n",
        "                       without a single error logged. ]\n",
        "\n",
        "3.   Each and every logic should have proper comments.\n",
        "4. You may add as many number of charts you want. Make Sure for each and every chart the following format should be answered.\n",
        "        \n",
        "\n",
        "```\n",
        "# Chart visualization code\n",
        "```\n",
        "            \n",
        "\n",
        "*   Why did you pick the specific chart?\n",
        "*   What is/are the insight(s) found from the chart?\n",
        "* Will the gained insights help creating a positive business impact?\n",
        "Are there any insights that lead to negative growth? Justify with specific reason.\n",
        "\n",
        "5. You have to create at least 15 logical & meaningful charts having important insights.\n",
        "\n",
        "\n",
        "[ Hints : - Do the Vizualization in  a structured way while following \"UBM\" Rule.\n",
        "\n",
        "U - Univariate Analysis,\n",
        "\n",
        "B - Bivariate Analysis (Numerical - Categorical, Numerical - Numerical, Categorical - Categorical)\n",
        "\n",
        "M - Multivariate Analysis\n",
        " ]\n",
        "\n",
        "\n",
        "\n",
        "\n",
        "\n",
        "6. You may add more ml algorithms for model creation. Make sure for each and every algorithm, the following format should be answered.\n",
        "\n",
        "\n",
        "*   Explain the ML Model used and it's performance using Evaluation metric Score Chart.\n",
        "\n",
        "\n",
        "*   Cross- Validation & Hyperparameter Tuning\n",
        "\n",
        "*   Have you seen any improvement? Note down the improvement with updates Evaluation metric Score Chart.\n",
        "\n",
        "*   Explain each evaluation metric's indication towards business and the business impact pf the ML model used.\n",
        "\n",
        "\n",
        "\n",
        "\n",
        "\n",
        "\n",
        "\n",
        "\n",
        "\n",
        "\n",
        "\n",
        "\n",
        "\n",
        "\n",
        "\n",
        "\n",
        "\n",
        "\n"
      ],
      "metadata": {
        "id": "ZrxVaUj-hHfC"
      }
    },
    {
      "cell_type": "markdown",
      "source": [
        "# ***Let's Begin !***"
      ],
      "metadata": {
        "id": "O_i_v8NEhb9l"
      }
    },
    {
      "cell_type": "markdown",
      "source": [
        "# ***Task 1: Efficient Data Handling through Data Parallelism***"
      ],
      "metadata": {
        "id": "HhfV-JJviCcP"
      }
    },
    {
      "cell_type": "markdown",
      "source": [
        "### Import Libraries"
      ],
      "metadata": {
        "id": "Y3lxredqlCYt"
      }
    },
    {
      "cell_type": "code",
      "source": [
        "# Import Libraries\n",
        "from pyspark.sql import SparkSession"
      ],
      "metadata": {
        "id": "M8Vqi-pPk-HR"
      },
      "execution_count": 3,
      "outputs": []
    },
    {
      "cell_type": "code",
      "source": [
        "# Create Spark session\n",
        "spark = SparkSession.builder \\\n",
        "    .appName(\"DataParallelismBank\") \\\n",
        "    .config(\"spark.sql.shuffle.partitions\", \"4\") \\\n",
        "    .config(\"spark.executor.memory\", \"2g\") \\\n",
        "    .config(\"spark.driver.memory\", \"2g\") \\\n",
        "    .getOrCreate()"
      ],
      "metadata": {
        "id": "ikH6cLNgyjhX"
      },
      "execution_count": 4,
      "outputs": []
    },
    {
      "cell_type": "code",
      "source": [
        "from google.colab import drive\n",
        "drive.mount('/content/drive')"
      ],
      "metadata": {
        "colab": {
          "base_uri": "https://localhost:8080/"
        },
        "id": "PwthrgPczOQr",
        "outputId": "e1e90b7c-e049-46b1-f6ef-be60d0598434"
      },
      "execution_count": 5,
      "outputs": [
        {
          "output_type": "stream",
          "name": "stdout",
          "text": [
            "Mounted at /content/drive\n"
          ]
        }
      ]
    },
    {
      "cell_type": "markdown",
      "source": [
        "### Dataset Loading"
      ],
      "metadata": {
        "id": "3RnN4peoiCZX"
      }
    },
    {
      "cell_type": "code",
      "source": [
        "# Load Dataset\n",
        "data_path = \"/content/drive/MyDrive/AlmaBetter Masters Projects/Financial Forecasting Frontier /bank.csv\"\n",
        "df = spark.read.csv(data_path, header=True, inferSchema=True)"
      ],
      "metadata": {
        "id": "4CkvbW_SlZ_R"
      },
      "execution_count": 6,
      "outputs": []
    },
    {
      "cell_type": "markdown",
      "source": [
        "### Dataset First View"
      ],
      "metadata": {
        "id": "x71ZqKXriCWQ"
      }
    },
    {
      "cell_type": "code",
      "source": [
        "# Dataset First Look\n",
        "df.show(10)"
      ],
      "metadata": {
        "id": "LWNFOSvLl09H",
        "colab": {
          "base_uri": "https://localhost:8080/"
        },
        "outputId": "9c29aa4e-d6e3-4a01-b435-e3738a390c6f"
      },
      "execution_count": 8,
      "outputs": [
        {
          "output_type": "stream",
          "name": "stdout",
          "text": [
            "+---+-------------+-------+---------+-------+-------+-------+----+--------+---+-----+--------+--------+-----+--------+--------+---+\n",
            "|age|          job|marital|education|default|balance|housing|loan| contact|day|month|duration|campaign|pdays|previous|poutcome|  y|\n",
            "+---+-------------+-------+---------+-------+-------+-------+----+--------+---+-----+--------+--------+-----+--------+--------+---+\n",
            "| 30|   unemployed|married|  primary|     no|   1787|     no|  no|cellular| 19|  oct|      79|       1|   -1|       0| unknown| no|\n",
            "| 33|     services|married|secondary|     no|   4789|    yes| yes|cellular| 11|  may|     220|       1|  339|       4| failure| no|\n",
            "| 35|   management| single| tertiary|     no|   1350|    yes|  no|cellular| 16|  apr|     185|       1|  330|       1| failure| no|\n",
            "| 30|   management|married| tertiary|     no|   1476|    yes| yes| unknown|  3|  jun|     199|       4|   -1|       0| unknown| no|\n",
            "| 59|  blue-collar|married|secondary|     no|      0|    yes|  no| unknown|  5|  may|     226|       1|   -1|       0| unknown| no|\n",
            "| 35|   management| single| tertiary|     no|    747|     no|  no|cellular| 23|  feb|     141|       2|  176|       3| failure| no|\n",
            "| 36|self-employed|married| tertiary|     no|    307|    yes|  no|cellular| 14|  may|     341|       1|  330|       2|   other| no|\n",
            "| 39|   technician|married|secondary|     no|    147|    yes|  no|cellular|  6|  may|     151|       2|   -1|       0| unknown| no|\n",
            "| 41| entrepreneur|married| tertiary|     no|    221|    yes|  no| unknown| 14|  may|      57|       2|   -1|       0| unknown| no|\n",
            "| 43|     services|married|  primary|     no|    -88|    yes| yes|cellular| 17|  apr|     313|       1|  147|       2| failure| no|\n",
            "+---+-------------+-------+---------+-------+-------+-------+----+--------+---+-----+--------+--------+-----+--------+--------+---+\n",
            "only showing top 10 rows\n",
            "\n"
          ]
        }
      ]
    },
    {
      "cell_type": "markdown",
      "source": [
        "### Data Preparation and Partitioning:\n"
      ],
      "metadata": {
        "id": "7hBIi_osiCS2"
      }
    },
    {
      "cell_type": "code",
      "source": [
        "# Partition the dataset by the 'balance' column\n",
        "partitioned_df = df.repartition(4, \"balance\")\n",
        "\n",
        "# Verify the number of partitions\n",
        "print(f\"Number of partitions: {partitioned_df.rdd.getNumPartitions()}\")\n",
        "\n",
        "# Show the first few rows of one partition to verify\n",
        "partitioned_df.show(5)"
      ],
      "metadata": {
        "id": "Kllu7SJgmLij",
        "colab": {
          "base_uri": "https://localhost:8080/"
        },
        "outputId": "805e4b97-5e8d-409d-f8dd-6c3f5aea7331"
      },
      "execution_count": 9,
      "outputs": [
        {
          "output_type": "stream",
          "name": "stdout",
          "text": [
            "Number of partitions: 4\n",
            "+---+-------------+-------+---------+-------+-------+-------+----+--------+---+-----+--------+--------+-----+--------+--------+---+\n",
            "|age|          job|marital|education|default|balance|housing|loan| contact|day|month|duration|campaign|pdays|previous|poutcome|  y|\n",
            "+---+-------------+-------+---------+-------+-------+-------+----+--------+---+-----+--------+--------+-----+--------+--------+---+\n",
            "| 33|     services|married|secondary|     no|   4789|    yes| yes|cellular| 11|  may|     220|       1|  339|       4| failure| no|\n",
            "| 36|self-employed|married| tertiary|     no|    307|    yes|  no|cellular| 14|  may|     341|       1|  330|       2|   other| no|\n",
            "| 41| entrepreneur|married| tertiary|     no|    221|    yes|  no| unknown| 14|  may|      57|       2|   -1|       0| unknown| no|\n",
            "| 56|   technician|married|secondary|     no|   4073|     no|  no|cellular| 27|  aug|     239|       5|   -1|       0| unknown| no|\n",
            "| 37|       admin.| single| tertiary|     no|   2317|    yes|  no|cellular| 20|  apr|     114|       1|  152|       2| failure| no|\n",
            "+---+-------------+-------+---------+-------+-------+-------+----+--------+---+-----+--------+--------+-----+--------+--------+---+\n",
            "only showing top 5 rows\n",
            "\n"
          ]
        }
      ]
    },
    {
      "cell_type": "markdown",
      "source": [
        "We applied the repartition() method on the balance column to ensure more balanced data distribution across partitions. This enhances Spark’s ability to process data in parallel and improves overall performance.\n",
        "\n",
        "**Why We Used repartition() on Balance:**\n",
        "\n",
        "*   Balanced Workload: Partitioning by balance helps evenly distribute records, avoiding data skew.\n",
        "\n",
        "*   Optimized Parallelism: Uniform partitions enable Spark to run tasks in parallel efficiently, reducing execution time.\n",
        "*   Scalable Design: Works well with large datasets, making the pipeline scalable for big data applications.\n",
        "\n",
        "\n"
      ],
      "metadata": {
        "id": "lmszpS4O0Lo1"
      }
    },
    {
      "cell_type": "markdown",
      "source": [
        "## **Data Analysis and Processing in Parallel:**\n",
        "Identify and calculate the average balance for each job category in the \"bank.csv\" dataset. Use parallel processing to perform this calculation. Describe your approach and the results."
      ],
      "metadata": {
        "id": "JlHwYmJAmNHm"
      }
    },
    {
      "cell_type": "code",
      "source": [
        "from pyspark.sql.functions import avg, sum as spark_sum\n",
        "\n",
        "# Calculate average balance for each job category\n",
        "avg_balance_per_job = df.groupBy(\"job\").agg(avg(\"balance\").alias(\"avg_balance\"))\n",
        "avg_balance_per_job.show()"
      ],
      "metadata": {
        "id": "e9hRXRi6meOf",
        "colab": {
          "base_uri": "https://localhost:8080/"
        },
        "outputId": "d4ea0a0a-ab3d-444d-a079-658bed07a0b5"
      },
      "execution_count": 10,
      "outputs": [
        {
          "output_type": "stream",
          "name": "stdout",
          "text": [
            "+-------------+------------------+\n",
            "|          job|       avg_balance|\n",
            "+-------------+------------------+\n",
            "|   unemployed|       1089.421875|\n",
            "|     services|1103.9568345323742|\n",
            "|      student|1543.8214285714287|\n",
            "|      unknown|1501.7105263157894|\n",
            "|   management|1766.9287925696594|\n",
            "|  blue-collar| 1085.161733615222|\n",
            "|self-employed|1392.4098360655737|\n",
            "|       admin.|  1226.73640167364|\n",
            "|   technician|     1330.99609375|\n",
            "|    housemaid|2083.8035714285716|\n",
            "| entrepreneur|          1645.125|\n",
            "|      retired| 2319.191304347826|\n",
            "+-------------+------------------+\n",
            "\n"
          ]
        }
      ]
    },
    {
      "cell_type": "markdown",
      "source": [
        "Perform a parallel operation to identify the top 5 age groups in the dataset that have the highest loan amounts. Explain your methodology and present your findings.\n",
        "\n",
        "Identify Top 5 Age Groups with Highest Loan Amounts:\n",
        "\n",
        "Use the groupBy and agg functions to calculate the total loan amounts for each age group and then identify the top 5 age groups."
      ],
      "metadata": {
        "id": "9u2zopJD10az"
      }
    },
    {
      "cell_type": "code",
      "source": [
        "# Calculate the total loan amounts for each age group\n",
        "# Assuming 'loan' column indicates loan amounts (replace this if 'loan' is a binary indicator)\n",
        "total_loan_per_age_group = df.groupBy(\"age\").agg(spark_sum(\"balance\").alias(\"total_loan\"))\n",
        "\n",
        "# Identify the top 5 age groups with the highest loan amounts\n",
        "top_5_age_groups = total_loan_per_age_group.orderBy(\"total_loan\", ascending=False).limit(5)\n",
        "top_5_age_groups.show()\n",
        "\n",
        "# Stop the Spark session\n",
        "spark.stop()"
      ],
      "metadata": {
        "colab": {
          "base_uri": "https://localhost:8080/"
        },
        "id": "0eSqTT6R19ZH",
        "outputId": "f9392a57-8402-45a3-a055-7fc51e054bf5"
      },
      "execution_count": 11,
      "outputs": [
        {
          "output_type": "stream",
          "name": "stdout",
          "text": [
            "+---+----------+\n",
            "|age|total_loan|\n",
            "+---+----------+\n",
            "| 33|    287447|\n",
            "| 32|    281467|\n",
            "| 38|    273320|\n",
            "| 34|    256765|\n",
            "| 31|    256408|\n",
            "+---+----------+\n",
            "\n"
          ]
        }
      ]
    },
    {
      "cell_type": "markdown",
      "source": [
        "### **Results:**\n",
        "**Average Balance for Each Job Category:**\n",
        "\n",
        "This will display the average account balance for each job category.\n",
        "\n",
        "**Top 5 Age Groups with Highest Loan Amounts:**\n",
        "\n",
        "This will display the age groups that have the highest total loan amounts.\n",
        "\n",
        "### **Approach:**\n",
        "\n",
        "**Parallel Processing:**\n",
        "\n",
        "By using groupBy and agg functions, Spark performs these operations in parallel across partitions, leveraging the distributed computing power of the cluster.\n",
        "\n",
        "**Efficiency:**\n",
        "\n",
        "Partitioning and parallel processing ensure that the computations are performed efficiently, even on large datasets."
      ],
      "metadata": {
        "id": "H8bsxgKh2ELr"
      }
    },
    {
      "cell_type": "markdown",
      "source": [
        "## **Model Training on Partitioned Data:**\n",
        "\n",
        "Choose a classification model to predict whether a client will subscribe to a term deposit (target variable 'y').\n",
        "\n",
        "Briefly explain why you selected this model.\n",
        "\n",
        "Partition the dataset into training and testing sets and train your model on these partitions.\n",
        "\n",
        "Discuss any challenges you faced in parallelizing the training process and how you addressed them."
      ],
      "metadata": {
        "id": "35m5QtbWiB9F"
      }
    },
    {
      "cell_type": "markdown",
      "source": [
        "### **Model Selection:**\n",
        "\n",
        "We will use a Random Forest Classifier to predict whether a client will subscribe to a term deposit (target variable 'y').\n",
        "\n",
        "We used Random Forests classifier for this task because these are ensemble methods that combine multiple decision trees to improve predictive accuracy and control overfitting.\n",
        "\n",
        "Here are the steps to implement a Random Forest classifier in PySpark:\n",
        "### **Data Partitioning and Model Training:**\n",
        "\n",
        "1.Load and Prepare Data: Ensure the data is ready for modeling.\n",
        "\n",
        "2.Partition the Dataset: Split the data into training and testing sets.\n",
        "\n",
        "3.Train the Random Forest Model: Fit the Random Forest model on the training set.\n",
        "\n",
        "4.Evaluate the Model: Assess the model’s performance on the testing set.\n",
        "\n",
        "### **Challenges and Solutions:**\n",
        "\n",
        "1. Parallelization: PySpark inherently parallelizes the training of Random Forests, but ensuring efficient data partitioning and avoiding bottlenecks in resource allocation is key to speeding up the training process.\n"
      ],
      "metadata": {
        "id": "PoPl-ycgm1ru"
      }
    },
    {
      "cell_type": "code",
      "source": [
        "from pyspark.sql import SparkSession\n",
        "from pyspark.ml.feature import VectorAssembler, StringIndexer\n",
        "from pyspark.ml.classification import RandomForestClassifier\n",
        "from pyspark.ml import Pipeline\n",
        "from pyspark.ml.evaluation import BinaryClassificationEvaluator\n",
        "\n",
        "# Create Spark session\n",
        "spark = SparkSession.builder \\\n",
        "    .appName(\"BankTermDepositPrediction\") \\\n",
        "    .config(\"spark.sql.shuffle.partitions\", \"4\") \\\n",
        "    .config(\"spark.executor.memory\", \"2g\") \\\n",
        "    .config(\"spark.driver.memory\", \"2g\") \\\n",
        "    .getOrCreate()\n",
        "\n",
        "# Load the dataset\n",
        "data_path = \"/content/drive/MyDrive/AlmaBetter Masters Projects/Financial Forecasting Frontier /bank.csv\"\n",
        "data = spark.read.csv(data_path, header=True, inferSchema=True)\n",
        "# data = df\n",
        "# Handle categorical variables using StringIndexer\n",
        "categorical_columns = [\"job\", \"marital\", \"education\", \"default\", \"housing\", \"loan\", \"contact\", \"month\", \"poutcome\"]\n",
        "indexers = [StringIndexer(inputCol=col, outputCol=col+\"_index\") for col in categorical_columns]\n",
        "\n",
        "# Rename the target column to 'label'\n",
        "data = data.withColumnRenamed(\"y\", \"label\")\n",
        "\n",
        "# Convert the label column to numerical values\n",
        "label_indexer = StringIndexer(inputCol=\"label\", outputCol=\"label_index\")\n",
        "data = label_indexer.fit(data).transform(data)\n",
        "\n",
        "# Assemble features into a single vector\n",
        "assembler = VectorAssembler(\n",
        "    inputCols=[\"age\", \"balance\", \"day\", \"duration\", \"campaign\", \"pdays\", \"previous\"] + [col+\"_index\" for col in categorical_columns],\n",
        "    outputCol=\"features\"\n",
        ")\n",
        "\n",
        "# Initialize the Random Forest classifier\n",
        "rf = RandomForestClassifier(labelCol=\"label_index\", featuresCol=\"features\", numTrees=100)\n",
        "\n",
        "# Define the pipeline\n",
        "pipeline = Pipeline(stages=indexers + [assembler, rf])\n",
        "\n",
        "# Split the data into training and test sets\n",
        "train_data, test_data = data.randomSplit([0.8, 0.2], seed=1234)\n",
        "\n",
        "# Train the model\n",
        "model = pipeline.fit(train_data)\n",
        "\n",
        "# Evaluate the model\n",
        "predictions = model.transform(test_data)\n",
        "evaluator = BinaryClassificationEvaluator(labelCol=\"label_index\", metricName=\"areaUnderROC\")\n",
        "auc = evaluator.evaluate(predictions)\n",
        "print(f\"Test AUC: {auc}\")\n",
        "\n",
        "\n",
        "# Save the trained model, overwriting if the path already exists\n",
        "model.write().overwrite().save(\"/content/drive/MyDrive/AlmaBetter Masters Projects/Financial Forecasting Frontier\")\n",
        "\n",
        "# Stop the Spark session\n",
        "spark.stop()"
      ],
      "metadata": {
        "id": "3q5wnI3om9sJ",
        "colab": {
          "base_uri": "https://localhost:8080/"
        },
        "outputId": "5bfb9806-fed1-4231-b3fd-fd39de32714f"
      },
      "execution_count": 12,
      "outputs": [
        {
          "output_type": "stream",
          "name": "stdout",
          "text": [
            "Test AUC: 0.8745620915032659\n"
          ]
        }
      ]
    },
    {
      "cell_type": "markdown",
      "source": [
        "### **Summary:**\n",
        "\n",
        "1.**Data Loading and Preparation:**\n",
        "\n",
        "**Spark Session:**\n",
        "\n",
        "We set up a Spark session with specific configurations to optimize parallel processing.\n",
        "\n",
        "**Load Dataset:**\n",
        "\n",
        "The dataset is loaded into a Spark DataFrame.\n",
        "\n",
        "**Handle Categorical Variables:**\n",
        "\n",
        "We use StringIndexer to convert categorical variables to numerical values.\n",
        "\n",
        "**Rename Target Column:**\n",
        "\n",
        "The target variable 'y' is renamed to 'label'.\n",
        "\n",
        "**Convert Label Column:**\n",
        "\n",
        "The label column is converted to numerical values using StringIndexer.\n",
        "**Assemble Features:**\n",
        "\n",
        "We use VectorAssembler to combine all features into a single vector column.\n",
        "\n",
        "2.**Training the model**\n",
        "\n",
        "**Initialize and Train the Model:**\n",
        "\n",
        "A Random Forest classifier is initialized and trained using the pipeline.\n",
        "\n",
        "**Evaluate the Model:**\n",
        "\n",
        "The model is evaluated on the test set using the AUC metric.\n",
        "\n",
        "**Save the Model:**\n",
        "\n",
        "The trained model is saved for future use.\n",
        "\n",
        "### **Challenges and Solutions:**\n",
        "\n",
        "**Handling Categorical Variables:**\n",
        "\n",
        "The categorical variables were handled using StringIndexer to convert them to numerical values required for the Random Forest algorithm.\n",
        "\n",
        "**Parallel Processing:**\n",
        "\n",
        "By using Spark's MLlib and ensuring the data was evenly partitioned, we leveraged Spark's distributed computing capabilities to speed up the training process.\n",
        "\n",
        "**Resource Management:**\n",
        "\n",
        "Setting appropriate configurations for executor and driver memory ensured efficient resource usage."
      ],
      "metadata": {
        "id": "tNy3WAf829mh"
      }
    },
    {
      "cell_type": "markdown",
      "source": [
        "## **Resource Monitoring and Management:**\n",
        "Implement resource monitoring during data processing and model training. What observations did you make regarding CPU and memory usage?\n",
        "\n",
        "\n",
        "\n",
        "We will use **Using Spark Event Logging** to capture detailed information about your Spark application’s execution.\n"
      ],
      "metadata": {
        "id": "DiFvGvKD3J6-"
      }
    },
    {
      "cell_type": "markdown",
      "source": [
        "### **Resource Monitoring Observations**\n",
        "\n",
        "Spark Event Logging is a powerful feature that enables us to capture detailed logs about our Spark applications, including job execution details, stage breakdowns, task attempts, and resource usage. These logs are extremely useful for debugging, performance tuning, and understanding the behavior of our Spark applications."
      ],
      "metadata": {
        "id": "H0kj-8xxnORC"
      }
    },
    {
      "cell_type": "code",
      "source": [
        "import os\n",
        "from pyspark.sql import SparkSession\n",
        "from pyspark.ml.feature import VectorAssembler, StringIndexer\n",
        "from pyspark.ml.classification import RandomForestClassifier\n",
        "from pyspark.ml import Pipeline\n",
        "from pyspark.ml.evaluation import BinaryClassificationEvaluator\n",
        "\n",
        "# Path to the event log directory\n",
        "event_log_dir = \"/content/drive/MyDrive/eventlog\"\n",
        "\n",
        "# Create the event log directory if it doesn't exist\n",
        "if not os.path.exists(event_log_dir):\n",
        "    os.makedirs(event_log_dir)\n",
        "\n",
        "# Create Spark session with resource monitoring enabled\n",
        "spark = SparkSession.builder \\\n",
        "    .appName(\"BankTermDepositPredictionlog\") \\\n",
        "    .config(\"spark.sql.shuffle.partitions\", \"4\") \\\n",
        "    .config(\"spark.executor.memory\", \"2g\") \\\n",
        "    .config(\"spark.driver.memory\", \"2g\") \\\n",
        "    .config(\"spark.eventLog.enabled\", \"true\") \\\n",
        "    .config(\"spark.eventLog.dir\", event_log_dir) \\\n",
        "    .getOrCreate()\n",
        "\n",
        "# Load the dataset\n",
        "data_path = \"/content/drive/MyDrive/AlmaBetter Masters Projects/Financial Forecasting Frontier /bank.csv\"\n",
        "data = spark.read.csv(data_path, header=True, inferSchema=True)\n",
        "\n",
        "# Handle categorical variables using StringIndexer\n",
        "categorical_columns = [\"job\", \"marital\", \"education\", \"default\", \"housing\", \"loan\", \"contact\", \"month\", \"poutcome\"]\n",
        "indexers = [StringIndexer(inputCol=col, outputCol=col+\"_index\") for col in categorical_columns]\n",
        "\n",
        "# Rename the target column to 'label'\n",
        "data = data.withColumnRenamed(\"y\", \"label\")\n",
        "\n",
        "# Convert the label column to numerical values\n",
        "label_indexer = StringIndexer(inputCol=\"label\", outputCol=\"label_index\")\n",
        "data = label_indexer.fit(data).transform(data)\n",
        "\n",
        "# Assemble features into a single vector\n",
        "assembler = VectorAssembler(\n",
        "    inputCols=[\"age\", \"balance\", \"day\", \"duration\", \"campaign\", \"pdays\", \"previous\"] + [col+\"_index\" for col in categorical_columns],\n",
        "    outputCol=\"features\"\n",
        ")\n",
        "\n",
        "# Initialize the Random Forest classifier\n",
        "rf = RandomForestClassifier(labelCol=\"label_index\", featuresCol=\"features\", numTrees=100)\n",
        "\n",
        "# Define the pipeline\n",
        "pipeline = Pipeline(stages=indexers + [assembler, rf])\n",
        "\n",
        "# Split the data into training and test sets\n",
        "train_data, test_data = data.randomSplit([0.8, 0.2], seed=1234)\n",
        "\n",
        "# Train the model\n",
        "model = pipeline.fit(train_data)\n",
        "\n",
        "# Evaluate the model\n",
        "predictions = model.transform(test_data)\n",
        "evaluator = BinaryClassificationEvaluator(labelCol=\"label_index\", metricName=\"areaUnderROC\")\n",
        "auc = evaluator.evaluate(predictions)\n",
        "print(f\"Test AUC: {auc}\")\n",
        "\n",
        "\n",
        "# Stop the Spark session\n",
        "spark.stop()\n"
      ],
      "metadata": {
        "colab": {
          "base_uri": "https://localhost:8080/"
        },
        "id": "JWYWiwwQ3SSY",
        "outputId": "15d8cb47-2919-40b9-a9e8-1b61476a84dd"
      },
      "execution_count": 13,
      "outputs": [
        {
          "output_type": "stream",
          "name": "stdout",
          "text": [
            "Test AUC: 0.8745620915032659\n"
          ]
        }
      ]
    },
    {
      "cell_type": "markdown",
      "source": [
        "### **Summary:**\n",
        "1. **Event Log Directory Creation:** - The code now checks if the event log directory exists, and creates it if it does not.\n",
        "2. **Spark Session Configuration:** - The eventLog.dir configuration is updated to use the newly created directory.\n",
        "\n",
        "3. **Data Preparation and Model Training:** - The rest of the code loads the dataset, processes it, trains a Random Forest classifier and evaluates the model.\n",
        "\n",
        "4. **Stopping the Spark Session:** - Ensures the Spark session is properly stopped after the model training and evaluation are complete."
      ],
      "metadata": {
        "id": "n9NIoRcw7NlF"
      }
    },
    {
      "cell_type": "markdown",
      "source": [
        "## **Task Management and Scheduling:**\n",
        "\n",
        "Manage multiple parallel tasks, such as different preprocessing tasks. How did you ensure the effective management of these tasks?\n",
        "\n",
        "\n",
        "Managing multiple parallel tasks, such as different preprocessing tasks, is essential in data processing workflows, especially when working with large datasets or complex pipelines. Effective management of these tasks involves optimizing resource usage, minimizing task execution time, and ensuring that tasks do not interfere with each other.\n",
        "\n",
        "\n"
      ],
      "metadata": {
        "id": "1Hwj9JOW7OhL"
      }
    },
    {
      "cell_type": "code",
      "source": [
        "from pyspark.sql import SparkSession\n",
        "from pyspark.sql.functions import col\n",
        "from pyspark.ml.feature import StringIndexer, VectorAssembler\n",
        "from pyspark.ml.classification import RandomForestClassifier\n",
        "from pyspark.ml import Pipeline\n",
        "from pyspark.ml.evaluation import BinaryClassificationEvaluator\n",
        "\n",
        "# Create Spark session with optimized configurations\n",
        "spark = SparkSession.builder \\\n",
        "    .appName(\"ParallelPreprocessing\") \\\n",
        "    .config(\"spark.sql.shuffle.partitions\", \"4\") \\\n",
        "    .config(\"spark.executor.memory\", \"2g\") \\\n",
        "    .config(\"spark.driver.memory\", \"2g\") \\\n",
        "    .getOrCreate()\n",
        "\n",
        "# Load the dataset\n",
        "data_path = \"/content/drive/MyDrive/AlmaBetter Masters Projects/Financial Forecasting Frontier /bank.csv\"\n",
        "data = spark.read.csv(data_path, header=True, inferSchema=True)\n",
        "\n",
        "# Preprocessing tasks as separate functions\n",
        "def index_categorical_columns(df):\n",
        "    categorical_columns = [\"job\", \"marital\", \"education\", \"default\", \"housing\", \"loan\", \"contact\", \"month\", \"poutcome\"]\n",
        "    indexers = [StringIndexer(inputCol=col, outputCol=col+\"_index\") for col in categorical_columns]\n",
        "    pipeline = Pipeline(stages=indexers)\n",
        "    return pipeline.fit(df).transform(df)\n",
        "\n",
        "def assemble_features(df):\n",
        "    feature_columns = [\"age\", \"balance\", \"day\", \"duration\", \"campaign\", \"pdays\", \"previous\",\n",
        "                       \"job_index\", \"marital_index\", \"education_index\", \"default_index\",\n",
        "                       \"housing_index\", \"loan_index\", \"contact_index\", \"month_index\", \"poutcome_index\"]\n",
        "    assembler = VectorAssembler(inputCols=feature_columns, outputCol=\"features\")\n",
        "    return assembler.transform(df)\n",
        "\n",
        "def rename_label_column(df):\n",
        "    return df.withColumnRenamed(\"y\", \"label\")\n",
        "\n",
        "def index_label_column(df):\n",
        "    label_indexer = StringIndexer(inputCol=\"label\", outputCol=\"label_index\")\n",
        "    return label_indexer.fit(df).transform(df)\n",
        "\n",
        "# Apply preprocessing tasks in parallel\n",
        "data = rename_label_column(data)\n",
        "data = index_categorical_columns(data)\n",
        "data = assemble_features(data)\n",
        "data = index_label_column(data)\n",
        "\n",
        "# Initialize the Random Forest classifier\n",
        "rf = RandomForestClassifier(labelCol=\"label_index\", featuresCol=\"features\", numTrees=100)\n",
        "\n",
        "# Define the pipeline\n",
        "pipeline = Pipeline(stages=[rf])\n",
        "\n",
        "# Split the data into training and test sets\n",
        "train_data, test_data = data.randomSplit([0.8, 0.2], seed=1234)\n",
        "\n",
        "# Train the model\n",
        "model = pipeline.fit(train_data)\n",
        "\n",
        "# Evaluate the model\n",
        "predictions = model.transform(test_data)\n",
        "evaluator = BinaryClassificationEvaluator(labelCol=\"label_index\", metricName=\"areaUnderROC\")\n",
        "auc = evaluator.evaluate(predictions)\n",
        "print(f\"Test AUC: {auc}\")\n",
        "\n",
        "# Stop the Spark session\n",
        "spark.stop()"
      ],
      "metadata": {
        "colab": {
          "base_uri": "https://localhost:8080/"
        },
        "id": "i7NWtLHu7RlU",
        "outputId": "4441d641-c42d-4a00-c3f1-e38d56c7bbb4"
      },
      "execution_count": 14,
      "outputs": [
        {
          "output_type": "stream",
          "name": "stdout",
          "text": [
            "Test AUC: 0.8745620915032659\n"
          ]
        }
      ]
    },
    {
      "cell_type": "markdown",
      "source": [
        "### **Summary:**\n",
        "\n",
        "\n",
        "Here’s how we can manage multiple parallel tasks effectively in Spark:\n",
        "\n",
        "**Parallelizing Tasks in Spark:**\n",
        "\n",
        "Spark inherently supports parallel processing, but ensuring that multiple tasks run efficiently in parallel requires careful management of resources and task dependencies.\n",
        "Here, the Spark session is configured with optimal resource allocations and parallelism settings.\n",
        "\n",
        "**Managing Resources:**\n",
        "\n",
        "Managing resources effectively is crucial when running multiple tasks in parallel, especially in a distributed environment like Spark.\n",
        "\n",
        "Data Partitioning and Task Parallelism\n",
        "\n",
        "Effective data partitioning is essential to ensure that tasks run in parallel without contention.\n",
        "\n",
        "**Preprocessing Functions:**\n",
        "\n",
        "index_categorical_columns(df): Indexes categorical columns using StringIndexer.\n",
        "\n",
        "assemble_features(df): Assembles feature columns into a feature vector.\n",
        "\n",
        "rename_label_column(df): Renames the target column to \"label\".\n",
        "\n",
        "index_label_column(df): Indexes the label column.\n",
        "\n",
        "**Pipeline Construction:**\n",
        "\n",
        "A Pipeline object is created to encapsulate the preprocessing and model training steps.\n",
        "\n",
        "\n",
        "**Model Training and Evaluation:**\n",
        "\n",
        "The Random Forest model is trained and evaluated using the preprocessed data.\n",
        "Resource Monitoring and Management:\n",
        "\n",
        "The code includes configurations for resource allocation, such as setting the number of shuffle partitions and memory allocations for the driver and executors.\n",
        "\n",
        "**Monitoring and Managing Task Execution:**\n",
        "\n",
        "Monitor the progress of parallel tasks using the Spark UI, where you can see the execution of jobs and stages in real-time. This helps in identifying any bottlenecks or imbalances in task execution.\n",
        "\n",
        "**Monitoring Tools:**\n",
        "\n",
        "Use Spark UI to monitor job progress, task execution, and resource usage.\n",
        "Use tools like Ganglia or Prometheus for detailed resource monitoring.\n",
        "\n",
        "**Tuning Configurations:**\n",
        "\n",
        "Adjust spark.sql.shuffle.partitions based on the size of the data and cluster resources.\n",
        "Allocate sufficient memory to executors and driver based on the data size and complexity of transformations.\n",
        "This approach ensures that multiple preprocessing tasks are managed and executed effectively in parallel, leveraging Spark's capabilities for distributed data processing."
      ],
      "metadata": {
        "id": "czZ6Q6ur7v2w"
      }
    },
    {
      "cell_type": "markdown",
      "source": [
        "# ***Task 2: Predictive Modeling for Banking Trends***"
      ],
      "metadata": {
        "id": "nA9Y7ga8ng1Z"
      }
    },
    {
      "cell_type": "markdown",
      "source": [
        "## **Import Libraries**"
      ],
      "metadata": {
        "id": "_gRI3JwP-v5b"
      }
    },
    {
      "cell_type": "code",
      "source": [
        "from pyspark.sql import SparkSession\n",
        "\n",
        "# Initialize a Spark session\n",
        "spark = SparkSession.builder.appName(\"PySpark\").getOrCreate()"
      ],
      "metadata": {
        "id": "j7xfkqrt5Ag5"
      },
      "execution_count": 15,
      "outputs": []
    },
    {
      "cell_type": "markdown",
      "source": [
        "## **Data Loading:**\n",
        "\n",
        "Loading data is the first step in any data analysis process. PySpark supports various data sources such as CSV files, Parquet files, and databases. Here's an example of loading data from a CSV file:"
      ],
      "metadata": {
        "id": "PIxbJOnt-1ZV"
      }
    },
    {
      "cell_type": "code",
      "source": [
        "# Load data from a CSV file\n",
        "bank_df = spark.read.csv(\"/content/drive/MyDrive/AlmaBetter Masters Projects/Financial Forecasting Frontier /bank.csv\", header=True, inferSchema=True)"
      ],
      "metadata": {
        "id": "DnOaZdaE5Q5t"
      },
      "execution_count": 16,
      "outputs": []
    },
    {
      "cell_type": "markdown",
      "source": [
        "## **Data Exploration:**\n",
        "\n",
        "Data exploration involves understanding the structure and content of the data. PySpark provides methods like show(), head(), and describe() for this purpose:"
      ],
      "metadata": {
        "id": "Y1oPGauw-_j0"
      }
    },
    {
      "cell_type": "code",
      "source": [
        "bank_df.show()"
      ],
      "metadata": {
        "colab": {
          "base_uri": "https://localhost:8080/"
        },
        "id": "dyaOD4CP_APp",
        "outputId": "5014fbea-a797-44a3-bd82-360f14f55fd7"
      },
      "execution_count": 17,
      "outputs": [
        {
          "output_type": "stream",
          "name": "stdout",
          "text": [
            "+---+-------------+-------+---------+-------+-------+-------+----+--------+---+-----+--------+--------+-----+--------+--------+---+\n",
            "|age|          job|marital|education|default|balance|housing|loan| contact|day|month|duration|campaign|pdays|previous|poutcome|  y|\n",
            "+---+-------------+-------+---------+-------+-------+-------+----+--------+---+-----+--------+--------+-----+--------+--------+---+\n",
            "| 30|   unemployed|married|  primary|     no|   1787|     no|  no|cellular| 19|  oct|      79|       1|   -1|       0| unknown| no|\n",
            "| 33|     services|married|secondary|     no|   4789|    yes| yes|cellular| 11|  may|     220|       1|  339|       4| failure| no|\n",
            "| 35|   management| single| tertiary|     no|   1350|    yes|  no|cellular| 16|  apr|     185|       1|  330|       1| failure| no|\n",
            "| 30|   management|married| tertiary|     no|   1476|    yes| yes| unknown|  3|  jun|     199|       4|   -1|       0| unknown| no|\n",
            "| 59|  blue-collar|married|secondary|     no|      0|    yes|  no| unknown|  5|  may|     226|       1|   -1|       0| unknown| no|\n",
            "| 35|   management| single| tertiary|     no|    747|     no|  no|cellular| 23|  feb|     141|       2|  176|       3| failure| no|\n",
            "| 36|self-employed|married| tertiary|     no|    307|    yes|  no|cellular| 14|  may|     341|       1|  330|       2|   other| no|\n",
            "| 39|   technician|married|secondary|     no|    147|    yes|  no|cellular|  6|  may|     151|       2|   -1|       0| unknown| no|\n",
            "| 41| entrepreneur|married| tertiary|     no|    221|    yes|  no| unknown| 14|  may|      57|       2|   -1|       0| unknown| no|\n",
            "| 43|     services|married|  primary|     no|    -88|    yes| yes|cellular| 17|  apr|     313|       1|  147|       2| failure| no|\n",
            "| 39|     services|married|secondary|     no|   9374|    yes|  no| unknown| 20|  may|     273|       1|   -1|       0| unknown| no|\n",
            "| 43|       admin.|married|secondary|     no|    264|    yes|  no|cellular| 17|  apr|     113|       2|   -1|       0| unknown| no|\n",
            "| 36|   technician|married| tertiary|     no|   1109|     no|  no|cellular| 13|  aug|     328|       2|   -1|       0| unknown| no|\n",
            "| 20|      student| single|secondary|     no|    502|     no|  no|cellular| 30|  apr|     261|       1|   -1|       0| unknown|yes|\n",
            "| 31|  blue-collar|married|secondary|     no|    360|    yes| yes|cellular| 29|  jan|      89|       1|  241|       1| failure| no|\n",
            "| 40|   management|married| tertiary|     no|    194|     no| yes|cellular| 29|  aug|     189|       2|   -1|       0| unknown| no|\n",
            "| 56|   technician|married|secondary|     no|   4073|     no|  no|cellular| 27|  aug|     239|       5|   -1|       0| unknown| no|\n",
            "| 37|       admin.| single| tertiary|     no|   2317|    yes|  no|cellular| 20|  apr|     114|       1|  152|       2| failure| no|\n",
            "| 25|  blue-collar| single|  primary|     no|   -221|    yes|  no| unknown| 23|  may|     250|       1|   -1|       0| unknown| no|\n",
            "| 31|     services|married|secondary|     no|    132|     no|  no|cellular|  7|  jul|     148|       1|  152|       1|   other| no|\n",
            "+---+-------------+-------+---------+-------+-------+-------+----+--------+---+-----+--------+--------+-----+--------+--------+---+\n",
            "only showing top 20 rows\n",
            "\n"
          ]
        }
      ]
    },
    {
      "cell_type": "code",
      "source": [
        "bank_df.head(10)"
      ],
      "metadata": {
        "colab": {
          "base_uri": "https://localhost:8080/"
        },
        "id": "9clOVuPY_Ger",
        "outputId": "eb707ad7-fdca-4846-d975-17d749a5960c"
      },
      "execution_count": 19,
      "outputs": [
        {
          "output_type": "execute_result",
          "data": {
            "text/plain": [
              "[Row(age=30, job='unemployed', marital='married', education='primary', default='no', balance=1787, housing='no', loan='no', contact='cellular', day=19, month='oct', duration=79, campaign=1, pdays=-1, previous=0, poutcome='unknown', y='no'),\n",
              " Row(age=33, job='services', marital='married', education='secondary', default='no', balance=4789, housing='yes', loan='yes', contact='cellular', day=11, month='may', duration=220, campaign=1, pdays=339, previous=4, poutcome='failure', y='no'),\n",
              " Row(age=35, job='management', marital='single', education='tertiary', default='no', balance=1350, housing='yes', loan='no', contact='cellular', day=16, month='apr', duration=185, campaign=1, pdays=330, previous=1, poutcome='failure', y='no'),\n",
              " Row(age=30, job='management', marital='married', education='tertiary', default='no', balance=1476, housing='yes', loan='yes', contact='unknown', day=3, month='jun', duration=199, campaign=4, pdays=-1, previous=0, poutcome='unknown', y='no'),\n",
              " Row(age=59, job='blue-collar', marital='married', education='secondary', default='no', balance=0, housing='yes', loan='no', contact='unknown', day=5, month='may', duration=226, campaign=1, pdays=-1, previous=0, poutcome='unknown', y='no'),\n",
              " Row(age=35, job='management', marital='single', education='tertiary', default='no', balance=747, housing='no', loan='no', contact='cellular', day=23, month='feb', duration=141, campaign=2, pdays=176, previous=3, poutcome='failure', y='no'),\n",
              " Row(age=36, job='self-employed', marital='married', education='tertiary', default='no', balance=307, housing='yes', loan='no', contact='cellular', day=14, month='may', duration=341, campaign=1, pdays=330, previous=2, poutcome='other', y='no'),\n",
              " Row(age=39, job='technician', marital='married', education='secondary', default='no', balance=147, housing='yes', loan='no', contact='cellular', day=6, month='may', duration=151, campaign=2, pdays=-1, previous=0, poutcome='unknown', y='no'),\n",
              " Row(age=41, job='entrepreneur', marital='married', education='tertiary', default='no', balance=221, housing='yes', loan='no', contact='unknown', day=14, month='may', duration=57, campaign=2, pdays=-1, previous=0, poutcome='unknown', y='no'),\n",
              " Row(age=43, job='services', marital='married', education='primary', default='no', balance=-88, housing='yes', loan='yes', contact='cellular', day=17, month='apr', duration=313, campaign=1, pdays=147, previous=2, poutcome='failure', y='no')]"
            ]
          },
          "metadata": {},
          "execution_count": 19
        }
      ]
    },
    {
      "cell_type": "code",
      "source": [
        "bank_df.describe()"
      ],
      "metadata": {
        "colab": {
          "base_uri": "https://localhost:8080/"
        },
        "id": "9I5G1PKq_Ibm",
        "outputId": "028053ee-242c-4111-9301-12aaae13b324"
      },
      "execution_count": 20,
      "outputs": [
        {
          "output_type": "execute_result",
          "data": {
            "text/plain": [
              "DataFrame[summary: string, age: string, job: string, marital: string, education: string, default: string, balance: string, housing: string, loan: string, contact: string, day: string, month: string, duration: string, campaign: string, pdays: string, previous: string, poutcome: string, y: string]"
            ]
          },
          "metadata": {},
          "execution_count": 20
        }
      ]
    },
    {
      "cell_type": "code",
      "source": [
        "bank_df.describe().show()"
      ],
      "metadata": {
        "colab": {
          "base_uri": "https://localhost:8080/"
        },
        "id": "Yiv4BnFe_Lue",
        "outputId": "8697e5f2-5189-4a0e-f907-b81edb3a44fe"
      },
      "execution_count": 21,
      "outputs": [
        {
          "output_type": "stream",
          "name": "stdout",
          "text": [
            "+-------+------------------+-------+--------+---------+-------+------------------+-------+----+--------+------------------+-----+------------------+------------------+------------------+------------------+--------+----+\n",
            "|summary|               age|    job| marital|education|default|           balance|housing|loan| contact|               day|month|          duration|          campaign|             pdays|          previous|poutcome|   y|\n",
            "+-------+------------------+-------+--------+---------+-------+------------------+-------+----+--------+------------------+-----+------------------+------------------+------------------+------------------+--------+----+\n",
            "|  count|              4521|   4521|    4521|     4521|   4521|              4521|   4521|4521|    4521|              4521| 4521|              4521|              4521|              4521|              4521|    4521|4521|\n",
            "|   mean| 41.17009511170095|   NULL|    NULL|     NULL|   NULL|1422.6578190665782|   NULL|NULL|    NULL|15.915284229152842| NULL|263.96129174961294| 2.793629727936297|39.766644547666445|0.5425790754257908|    NULL|NULL|\n",
            "| stddev|10.576210958711263|   NULL|    NULL|     NULL|   NULL|3009.6381424673395|   NULL|NULL|    NULL| 8.247667327229934| NULL|259.85663262468216|3.1098066601885823|100.12112444301656|1.6935623506071211|    NULL|NULL|\n",
            "|    min|                19| admin.|divorced|  primary|     no|             -3313|     no|  no|cellular|                 1|  apr|                 4|                 1|                -1|                 0| failure|  no|\n",
            "|    max|                87|unknown|  single|  unknown|    yes|             71188|    yes| yes| unknown|                31|  sep|              3025|                50|               871|                25| unknown| yes|\n",
            "+-------+------------------+-------+--------+---------+-------+------------------+-------+----+--------+------------------+-----+------------------+------------------+------------------+------------------+--------+----+\n",
            "\n"
          ]
        }
      ]
    },
    {
      "cell_type": "markdown",
      "source": [
        "## **Data Preprocessing**\n",
        "\n",
        "let's proceed with the data preprocessing steps:\n",
        "\n",
        "1. Handle Missing Values:\n",
        "\n",
        "To handle missing values in the dataset, we'll need to identify columns with missing values and decide on an appropriate strategy to handle them. Common strategies include imputation (replacing missing values with a statistical measure such as mean, median, or mode) or dropping rows or columns with missing values depending on the context.\n",
        "\n",
        "2. Handle Outliers:\n",
        "\n",
        "Outliers can be handled by either removing them or transforming them to mitigate their impact on the model. Techniques like winsorization (replacing extreme values with less extreme values) or using robust estimators can be employed.\n",
        "\n",
        "3. Convert Categorical Variables:\n",
        "\n",
        "Categorical variables need to be converted into numerical format for the machine learning model to process them. This can be done using techniques like StringIndexer (assigning a unique numerical index to each category) or OneHotEncoder (creating binary columns for each category)."
      ],
      "metadata": {
        "id": "PBTbrJXOngz2"
      }
    },
    {
      "cell_type": "code",
      "source": [
        "from pyspark.ml.feature import StringIndexer, OneHotEncoder, Imputer\n",
        "from pyspark.ml import Pipeline\n",
        "from pyspark.sql.functions import col\n",
        "\n",
        "# 1. Handle Missing Values\n",
        "# Identify columns with missing values\n",
        "missing_cols = [col_name for col_name in bank_df.columns if bank_df.filter(col(col_name).isNull()).count() > 0]"
      ],
      "metadata": {
        "id": "1Xw4OG57_Tjw"
      },
      "execution_count": 22,
      "outputs": []
    },
    {
      "cell_type": "code",
      "source": [
        "missing_cols"
      ],
      "metadata": {
        "colab": {
          "base_uri": "https://localhost:8080/"
        },
        "id": "AR2MnRIU_V8d",
        "outputId": "4a5ecf3d-011a-4cd3-83c7-d1b5ace8cf3b"
      },
      "execution_count": 24,
      "outputs": [
        {
          "output_type": "execute_result",
          "data": {
            "text/plain": [
              "[]"
            ]
          },
          "metadata": {},
          "execution_count": 24
        }
      ]
    },
    {
      "cell_type": "code",
      "source": [
        "#Handle Outliers in balance column\n",
        "bank_df = bank_df.filter((col(\"balance\") > 0) & (col(\"balance\") < 72000))\n",
        "bank_df.show()"
      ],
      "metadata": {
        "colab": {
          "base_uri": "https://localhost:8080/"
        },
        "id": "IZX91vZU_k4B",
        "outputId": "6b4c0aee-4fc7-4736-b3d2-56eb32effa9a"
      },
      "execution_count": 25,
      "outputs": [
        {
          "output_type": "stream",
          "name": "stdout",
          "text": [
            "+---+-------------+--------+---------+-------+-------+-------+----+--------+---+-----+--------+--------+-----+--------+--------+---+\n",
            "|age|          job| marital|education|default|balance|housing|loan| contact|day|month|duration|campaign|pdays|previous|poutcome|  y|\n",
            "+---+-------------+--------+---------+-------+-------+-------+----+--------+---+-----+--------+--------+-----+--------+--------+---+\n",
            "| 30|   unemployed| married|  primary|     no|   1787|     no|  no|cellular| 19|  oct|      79|       1|   -1|       0| unknown| no|\n",
            "| 33|     services| married|secondary|     no|   4789|    yes| yes|cellular| 11|  may|     220|       1|  339|       4| failure| no|\n",
            "| 35|   management|  single| tertiary|     no|   1350|    yes|  no|cellular| 16|  apr|     185|       1|  330|       1| failure| no|\n",
            "| 30|   management| married| tertiary|     no|   1476|    yes| yes| unknown|  3|  jun|     199|       4|   -1|       0| unknown| no|\n",
            "| 35|   management|  single| tertiary|     no|    747|     no|  no|cellular| 23|  feb|     141|       2|  176|       3| failure| no|\n",
            "| 36|self-employed| married| tertiary|     no|    307|    yes|  no|cellular| 14|  may|     341|       1|  330|       2|   other| no|\n",
            "| 39|   technician| married|secondary|     no|    147|    yes|  no|cellular|  6|  may|     151|       2|   -1|       0| unknown| no|\n",
            "| 41| entrepreneur| married| tertiary|     no|    221|    yes|  no| unknown| 14|  may|      57|       2|   -1|       0| unknown| no|\n",
            "| 39|     services| married|secondary|     no|   9374|    yes|  no| unknown| 20|  may|     273|       1|   -1|       0| unknown| no|\n",
            "| 43|       admin.| married|secondary|     no|    264|    yes|  no|cellular| 17|  apr|     113|       2|   -1|       0| unknown| no|\n",
            "| 36|   technician| married| tertiary|     no|   1109|     no|  no|cellular| 13|  aug|     328|       2|   -1|       0| unknown| no|\n",
            "| 20|      student|  single|secondary|     no|    502|     no|  no|cellular| 30|  apr|     261|       1|   -1|       0| unknown|yes|\n",
            "| 31|  blue-collar| married|secondary|     no|    360|    yes| yes|cellular| 29|  jan|      89|       1|  241|       1| failure| no|\n",
            "| 40|   management| married| tertiary|     no|    194|     no| yes|cellular| 29|  aug|     189|       2|   -1|       0| unknown| no|\n",
            "| 56|   technician| married|secondary|     no|   4073|     no|  no|cellular| 27|  aug|     239|       5|   -1|       0| unknown| no|\n",
            "| 37|       admin.|  single| tertiary|     no|   2317|    yes|  no|cellular| 20|  apr|     114|       1|  152|       2| failure| no|\n",
            "| 31|     services| married|secondary|     no|    132|     no|  no|cellular|  7|  jul|     148|       1|  152|       1|   other| no|\n",
            "| 42|   management|divorced| tertiary|     no|     16|     no|  no|cellular| 19|  nov|     140|       3|   -1|       0| unknown| no|\n",
            "| 44|     services|  single|secondary|     no|    106|     no|  no| unknown| 12|  jun|     109|       2|   -1|       0| unknown| no|\n",
            "| 44| entrepreneur| married|secondary|     no|     93|     no|  no|cellular|  7|  jul|     125|       2|   -1|       0| unknown| no|\n",
            "+---+-------------+--------+---------+-------+-------+-------+----+--------+---+-----+--------+--------+-----+--------+--------+---+\n",
            "only showing top 20 rows\n",
            "\n"
          ]
        }
      ]
    },
    {
      "cell_type": "code",
      "source": [
        "# Convert Categorical Variables\n",
        "# List of categorical columns\n",
        "categorical_columns = [\"job\", \"marital\", \"education\", \"default\", \"housing\", \"loan\", \"contact\", \"month\", \"poutcome\"]\n",
        "\n",
        "# StringIndexer stages for categorical columns\n",
        "indexers = [StringIndexer(inputCol=column, outputCol=column+\"_index\") for column in categorical_columns]\n",
        "\n",
        "\n",
        "\n",
        "# Combine all stages into a single list\n",
        "stages = indexers\n",
        "\n",
        "# Create and fit the pipeline\n",
        "pipeline = Pipeline(stages=stages)\n",
        "pipeline_model = pipeline.fit(bank_df)\n",
        "encoded_df = pipeline_model.transform(bank_df)\n",
        "\n",
        "# Display the processed DataFrame\n",
        "encoded_df.show(5)"
      ],
      "metadata": {
        "colab": {
          "base_uri": "https://localhost:8080/"
        },
        "id": "3XC2uYpO_pAN",
        "outputId": "1935dc38-89cf-42aa-81aa-7ae69d72fcb4"
      },
      "execution_count": 26,
      "outputs": [
        {
          "output_type": "stream",
          "name": "stdout",
          "text": [
            "+---+----------+-------+---------+-------+-------+-------+----+--------+---+-----+--------+--------+-----+--------+--------+---+---------+-------------+---------------+-------------+-------------+----------+-------------+-----------+--------------+\n",
            "|age|       job|marital|education|default|balance|housing|loan| contact|day|month|duration|campaign|pdays|previous|poutcome|  y|job_index|marital_index|education_index|default_index|housing_index|loan_index|contact_index|month_index|poutcome_index|\n",
            "+---+----------+-------+---------+-------+-------+-------+----+--------+---+-----+--------+--------+-----+--------+--------+---+---------+-------------+---------------+-------------+-------------+----------+-------------+-----------+--------------+\n",
            "| 30|unemployed|married|  primary|     no|   1787|     no|  no|cellular| 19|  oct|      79|       1|   -1|       0| unknown| no|      8.0|          0.0|            2.0|          0.0|          1.0|       0.0|          0.0|        8.0|           0.0|\n",
            "| 33|  services|married|secondary|     no|   4789|    yes| yes|cellular| 11|  may|     220|       1|  339|       4| failure| no|      4.0|          0.0|            0.0|          0.0|          0.0|       1.0|          0.0|        0.0|           1.0|\n",
            "| 35|management| single| tertiary|     no|   1350|    yes|  no|cellular| 16|  apr|     185|       1|  330|       1| failure| no|      0.0|          1.0|            1.0|          0.0|          0.0|       0.0|          0.0|        5.0|           1.0|\n",
            "| 30|management|married| tertiary|     no|   1476|    yes| yes| unknown|  3|  jun|     199|       4|   -1|       0| unknown| no|      0.0|          0.0|            1.0|          0.0|          0.0|       1.0|          1.0|        3.0|           0.0|\n",
            "| 35|management| single| tertiary|     no|    747|     no|  no|cellular| 23|  feb|     141|       2|  176|       3| failure| no|      0.0|          1.0|            1.0|          0.0|          1.0|       0.0|          0.0|        6.0|           1.0|\n",
            "+---+----------+-------+---------+-------+-------+-------+----+--------+---+-----+--------+--------+-----+--------+--------+---+---------+-------------+---------------+-------------+-------------+----------+-------------+-----------+--------------+\n",
            "only showing top 5 rows\n",
            "\n"
          ]
        }
      ]
    },
    {
      "cell_type": "markdown",
      "source": [
        "## **Feature Engineering and Data Transformation:**\n",
        "\n",
        "Define Numeric and Encoded Columns: Define lists of numeric columns and one-hot encoded categorical columns that will be combined into the feature vector.\n",
        "\n",
        "Combine Feature Columns: Create a list assembler_inputs that contains all the feature columns (both numeric and string indexer).\n",
        "\n",
        "VectorAssembler: Initialize VectorAssembler with inputCols set to the combined list of feature columns and outputCol set to \"features\".\n",
        "\n",
        "Transform DataFrame: Apply the VectorAssembler to the DataFrame to create the \"features\" column.\n",
        "\n",
        "Display Processed DataFrame: Display the first few rows of the DataFrame, showing only the \"features\" column.\n"
      ],
      "metadata": {
        "id": "u3PMJOP6ngxN"
      }
    },
    {
      "cell_type": "code",
      "source": [
        "from pyspark.ml.feature import VectorAssembler\n",
        "\n",
        "# List of numeric columns\n",
        "numeric_columns = [\"age\", \"balance\", \"day\", \"duration\", \"campaign\", \"pdays\", \"previous\"]\n",
        "\n",
        "# List of string indexer categorical columns (assuming these have been created in preprocessing)\n",
        "encoded_categorical_columns = [\n",
        "    \"job_index\",\n",
        "    \"marital_index\",\n",
        "    \"education_index\",\n",
        "    \"default_index\",\n",
        "    \"housing_index\",\n",
        "    \"loan_index\",\n",
        "    \"contact_index\",\n",
        "    \"month_index\",\n",
        "    \"poutcome_index\"\n",
        "]\n",
        "\n",
        "# Combine all feature columns (numeric and one-hot encoded categorical columns)\n",
        "assembler_inputs = numeric_columns + encoded_categorical_columns\n",
        "\n",
        "# Create the VectorAssembler\n",
        "assembler = VectorAssembler(inputCols=assembler_inputs, outputCol=\"features\")\n",
        "\n",
        "# Transform the DataFrame\n",
        "assembled_df = assembler.transform(encoded_df)\n",
        "\n",
        "# Display the processed DataFrame\n",
        "assembled_df.select(\"features\").show(5, truncate=False)"
      ],
      "metadata": {
        "id": "zms12Yq5n-jE",
        "colab": {
          "base_uri": "https://localhost:8080/"
        },
        "outputId": "57e15d68-50a4-470d-b9f3-0ab54adc8c17"
      },
      "execution_count": 27,
      "outputs": [
        {
          "output_type": "stream",
          "name": "stdout",
          "text": [
            "+--------------------------------------------------------------------------+\n",
            "|features                                                                  |\n",
            "+--------------------------------------------------------------------------+\n",
            "|[30.0,1787.0,19.0,79.0,1.0,-1.0,0.0,8.0,0.0,2.0,0.0,1.0,0.0,0.0,8.0,0.0]  |\n",
            "|[33.0,4789.0,11.0,220.0,1.0,339.0,4.0,4.0,0.0,0.0,0.0,0.0,1.0,0.0,0.0,1.0]|\n",
            "|[35.0,1350.0,16.0,185.0,1.0,330.0,1.0,0.0,1.0,1.0,0.0,0.0,0.0,0.0,5.0,1.0]|\n",
            "|[30.0,1476.0,3.0,199.0,4.0,-1.0,0.0,0.0,0.0,1.0,0.0,0.0,1.0,1.0,3.0,0.0]  |\n",
            "|[35.0,747.0,23.0,141.0,2.0,176.0,3.0,0.0,1.0,1.0,0.0,1.0,0.0,0.0,6.0,1.0] |\n",
            "+--------------------------------------------------------------------------+\n",
            "only showing top 5 rows\n",
            "\n"
          ]
        }
      ]
    },
    {
      "cell_type": "markdown",
      "source": [
        "## **Model Training and Selection:**\n",
        "\n",
        "\n",
        "Choose a classification model (e.g., Logistic Regression, Decision Tree Classifier) for predicting the subscription to a term deposit.\n",
        "\n",
        "Split the data into training and test sets.\n",
        "\n",
        "Train the model on the training dataset.\n",
        "\n",
        "Explanation:\n",
        "\n",
        "\n",
        "Split Data: Split the data into training (80%) and test (20%) sets.\n",
        "\n",
        "Train Model: Initialize a LogisticRegression model and use TrainValidationSplit for hyperparameter tuning. Train the model on the training dataset.\n",
        "\n",
        "\n"
      ],
      "metadata": {
        "id": "fUWq1Y-S_3e_"
      }
    },
    {
      "cell_type": "code",
      "source": [
        "from pyspark.ml.classification import GBTClassifier\n",
        "from pyspark.ml.evaluation import BinaryClassificationEvaluator\n",
        "from pyspark.ml.tuning import ParamGridBuilder, TrainValidationSplit\n",
        "from pyspark.ml.classification import LogisticRegression\n",
        "import pandas as pd"
      ],
      "metadata": {
        "id": "mlC4Pg1s_1Tf"
      },
      "execution_count": 28,
      "outputs": []
    },
    {
      "cell_type": "code",
      "source": [
        "final_df = assembled_df.select(\"features\",\"y\")\n",
        "\n",
        "# StringIndexer for the label column\n",
        "label_indexer = StringIndexer(inputCol=\"y\", outputCol=\"label\")\n",
        "final_df = label_indexer.fit(final_df).transform(final_df)"
      ],
      "metadata": {
        "id": "uIl11UZ__--3"
      },
      "execution_count": 29,
      "outputs": []
    },
    {
      "cell_type": "code",
      "source": [
        "# Split the data into training and test sets\n",
        "train_df, test_df = final_df.randomSplit([0.8, 0.2], seed=42)"
      ],
      "metadata": {
        "id": "fsuOlG17_-1Z"
      },
      "execution_count": 30,
      "outputs": []
    },
    {
      "cell_type": "code",
      "source": [
        "# Initialize the Logistic Regression model\n",
        "lr = LogisticRegression(featuresCol=\"features\", labelCol=\"label\")"
      ],
      "metadata": {
        "id": "PM9xIvKB_-vl"
      },
      "execution_count": 31,
      "outputs": []
    },
    {
      "cell_type": "markdown",
      "source": [
        "## **Hyperparameter Tuning:**\n",
        "\n",
        "Perform hyperparameter tuning (using ParamGridBuilder and CrossValidator.)"
      ],
      "metadata": {
        "id": "_J4aAF8aAM2W"
      }
    },
    {
      "cell_type": "code",
      "source": [
        "# Importing libraries\n",
        "from pyspark.ml.tuning import ParamGridBuilder, CrossValidator\n",
        "from pyspark.ml.evaluation import BinaryClassificationEvaluator"
      ],
      "metadata": {
        "id": "t1cQgVUYANYc"
      },
      "execution_count": 32,
      "outputs": []
    },
    {
      "cell_type": "code",
      "source": [
        "# Define a parameter grid for hyperparameter tuning\n",
        "paramGrid = ParamGridBuilder() \\\n",
        "    .addGrid(lr.regParam, [0.1, 0.01, 0.001,0.0001]) \\\n",
        "    .addGrid(lr.elasticNetParam, [0.0, 0.5, 1.0]) \\\n",
        "    .build()\n",
        "\n",
        "# Define a CrossValidator for model selection\n",
        "crossval = CrossValidator(estimator=lr,\n",
        "                          estimatorParamMaps=paramGrid,\n",
        "                          evaluator=BinaryClassificationEvaluator(),\n",
        "                          numFolds=5)  # 5-fold cross-validation"
      ],
      "metadata": {
        "id": "j4nXqsFIAWvA"
      },
      "execution_count": 33,
      "outputs": []
    },
    {
      "cell_type": "code",
      "source": [
        "# Train the model with hyperparameter tuning\n",
        "cv_model = crossval.fit(train_df)"
      ],
      "metadata": {
        "id": "vA8HVO-7AbOk"
      },
      "execution_count": 34,
      "outputs": []
    },
    {
      "cell_type": "markdown",
      "source": [
        "## **Model Evaluation:**\n",
        "\n",
        "\n",
        "Evaluate the model on the test dataset using appropriate metrics.\n",
        "\n"
      ],
      "metadata": {
        "id": "tFj1619UAgYe"
      }
    },
    {
      "cell_type": "code",
      "source": [
        "from pyspark.sql import SparkSession\n",
        "from pyspark.ml import Pipeline\n",
        "from pyspark.ml.feature import StringIndexer, OneHotEncoder, VectorAssembler\n",
        "from pyspark.ml.classification import LogisticRegression\n",
        "from pyspark.ml.evaluation import BinaryClassificationEvaluator\n",
        "from pyspark.ml.tuning import ParamGridBuilder, CrossValidator\n",
        "import pandas as pd\n",
        "import matplotlib.pyplot as plt\n",
        "\n",
        "# Make predictions on the training set\n",
        "train_predictions = cv_model.transform(train_df)\n",
        "\n",
        "# Evaluate the model on the training set\n",
        "evaluator = BinaryClassificationEvaluator(labelCol=\"label\")\n",
        "\n",
        "\n",
        "# Calculate training accuracy\n",
        "train_accuracy = train_predictions.filter(train_predictions.label == train_predictions.prediction).count() / float(train_df.count())\n",
        "print(f\"Train Accuracy: {train_accuracy}\")\n",
        "\n",
        "# Make predictions on the test set\n",
        "test_predictions = cv_model.transform(test_df)\n",
        "\n",
        "\n",
        "# Calculate test accuracy\n",
        "test_accuracy = test_predictions.filter(test_predictions.label == test_predictions.prediction).count() / float(test_df.count())\n",
        "print(f\"Test Accuracy: {test_accuracy}\")\n",
        "\n",
        "# Visualize the comparison of train and test accuracy\n",
        "metrics = pd.DataFrame({\n",
        "    'Data Set': ['Train', 'Test'],\n",
        "    'Accuracy': [train_accuracy, test_accuracy]\n",
        "})\n",
        "\n",
        "# Plot the comparison\n",
        "plt.figure(figsize=(10, 6))\n",
        "plt.bar(metrics['Data Set'], metrics['Accuracy'], color=['teal', 'plum'])\n",
        "plt.ylim(0, 1)\n",
        "plt.xlabel('Data Set')\n",
        "plt.ylabel('Accuracy')\n",
        "plt.title('Comparison of Train and Test Accuracy')\n",
        "plt.show()"
      ],
      "metadata": {
        "colab": {
          "base_uri": "https://localhost:8080/",
          "height": 600
        },
        "id": "pSB5c9YxAhAx",
        "outputId": "b946a6da-553f-4638-b091-4fb522ff73c7"
      },
      "execution_count": 35,
      "outputs": [
        {
          "output_type": "stream",
          "name": "stdout",
          "text": [
            "Train Accuracy: 0.8846153846153846\n",
            "Test Accuracy: 0.8977272727272727\n"
          ]
        },
        {
          "output_type": "display_data",
          "data": {
            "text/plain": [
              "<Figure size 1000x600 with 1 Axes>"
            ],
            "image/png": "[encoded data removed]"
          },
          "metadata": {}
        }
      ]
    },
    {
      "cell_type": "markdown",
      "source": [
        "## **Advanced Analysis:**\n",
        "\n",
        "Analyze the feature importances (if applicable) or coefficients of the model to gain insights into which features are most influential in predicting the outcome.\n"
      ],
      "metadata": {
        "id": "J18QYwqBA9f5"
      }
    },
    {
      "cell_type": "code",
      "source": [
        "# Extracting the best model\n",
        "best_model = cv_model.bestModel\n",
        "\n",
        "# Extracting feature names\n",
        "feature_names = numeric_columns + [column + \"_index\" for column in categorical_columns]\n",
        "\n",
        "# Get the coefficients from the best model\n",
        "coefficients = best_model.coefficients\n",
        "\n",
        "# Map coefficients to feature names\n",
        "coef_feature_map = pd.DataFrame({\n",
        "    'Feature': feature_names,\n",
        "    'Coefficient': coefficients.toArray()\n",
        "})\n",
        "\n",
        "# Sort the features by the absolute value of their coefficients\n",
        "coef_feature_map['AbsCoefficient'] = coef_feature_map['Coefficient'].abs()\n",
        "sorted_coef_feature_map = coef_feature_map.sort_values(by='AbsCoefficient', ascending=False)\n",
        "\n",
        "print(\"Top 10 Most Influential Features:\")\n",
        "print(sorted_coef_feature_map.head(10))\n",
        "\n",
        "# Stop the Spark session\n",
        "spark.stop()"
      ],
      "metadata": {
        "colab": {
          "base_uri": "https://localhost:8080/"
        },
        "id": "vgTOi1iDA-Sk",
        "outputId": "e0c37060-0f81-430e-f462-6b796dce7342"
      },
      "execution_count": 36,
      "outputs": [
        {
          "output_type": "stream",
          "name": "stdout",
          "text": [
            "Top 10 Most Influential Features:\n",
            "           Feature  Coefficient  AbsCoefficient\n",
            "15  poutcome_index     0.530326        0.530326\n",
            "11   housing_index     0.433794        0.433794\n",
            "12      loan_index    -0.329097        0.329097\n",
            "14     month_index     0.117725        0.117725\n",
            "13   contact_index    -0.113275        0.113275\n",
            "3         duration     0.003487        0.003487\n",
            "1          balance     0.000000        0.000000\n",
            "0              age     0.000000        0.000000\n",
            "7        job_index     0.000000        0.000000\n",
            "6         previous     0.000000        0.000000\n"
          ]
        }
      ]
    },
    {
      "cell_type": "markdown",
      "source": [
        "# ***Task 3: Exploratory Data Analysis (EDA)***"
      ],
      "metadata": {
        "id": "dauF4eBmngu3"
      }
    },
    {
      "cell_type": "markdown",
      "source": [
        "## **Import Libraries**\n",
        "\n"
      ],
      "metadata": {
        "id": "bKJF3rekwFvQ"
      }
    },
    {
      "cell_type": "code",
      "source": [
        "# Initialize a Spark session\n",
        "spark = SparkSession.builder.appName(\"EDA with PySpark\").getOrCreate()"
      ],
      "metadata": {
        "id": "wk-9a2fpoLcV"
      },
      "execution_count": 37,
      "outputs": []
    },
    {
      "cell_type": "code",
      "source": [
        "# Load the bank.csv dataset into a Spark DataFrame.\n",
        "\n",
        "bank_df = spark.read.csv(\"/content/drive/MyDrive/AlmaBetter Masters Projects/Financial Forecasting Frontier /bank.csv\", header=True, inferSchema=True)"
      ],
      "metadata": {
        "id": "s39o5CMSCCvz"
      },
      "execution_count": 38,
      "outputs": []
    },
    {
      "cell_type": "markdown",
      "source": [
        "## **Data Exploration:**\n",
        "\n",
        "Data exploration involves understanding the structure and content of the data. PySpark provides methods like show(), head(), and describe() for this purpose:"
      ],
      "metadata": {
        "id": "PfYxR97sCPT2"
      }
    },
    {
      "cell_type": "code",
      "source": [
        "bank_df.show(5)"
      ],
      "metadata": {
        "colab": {
          "base_uri": "https://localhost:8080/"
        },
        "id": "p7l8i_cCCClG",
        "outputId": "af646672-4716-42c7-8189-7acaa815de7f"
      },
      "execution_count": 39,
      "outputs": [
        {
          "output_type": "stream",
          "name": "stdout",
          "text": [
            "+---+-----------+-------+---------+-------+-------+-------+----+--------+---+-----+--------+--------+-----+--------+--------+---+\n",
            "|age|        job|marital|education|default|balance|housing|loan| contact|day|month|duration|campaign|pdays|previous|poutcome|  y|\n",
            "+---+-----------+-------+---------+-------+-------+-------+----+--------+---+-----+--------+--------+-----+--------+--------+---+\n",
            "| 30| unemployed|married|  primary|     no|   1787|     no|  no|cellular| 19|  oct|      79|       1|   -1|       0| unknown| no|\n",
            "| 33|   services|married|secondary|     no|   4789|    yes| yes|cellular| 11|  may|     220|       1|  339|       4| failure| no|\n",
            "| 35| management| single| tertiary|     no|   1350|    yes|  no|cellular| 16|  apr|     185|       1|  330|       1| failure| no|\n",
            "| 30| management|married| tertiary|     no|   1476|    yes| yes| unknown|  3|  jun|     199|       4|   -1|       0| unknown| no|\n",
            "| 59|blue-collar|married|secondary|     no|      0|    yes|  no| unknown|  5|  may|     226|       1|   -1|       0| unknown| no|\n",
            "+---+-----------+-------+---------+-------+-------+-------+----+--------+---+-----+--------+--------+-----+--------+--------+---+\n",
            "only showing top 5 rows\n",
            "\n"
          ]
        }
      ]
    },
    {
      "cell_type": "code",
      "source": [
        "bank_df.head(10)"
      ],
      "metadata": {
        "colab": {
          "base_uri": "https://localhost:8080/"
        },
        "id": "ILnjTr_cCRwQ",
        "outputId": "e254f1dd-feec-4bfb-cd34-ddd3e56a4b7a"
      },
      "execution_count": 40,
      "outputs": [
        {
          "output_type": "execute_result",
          "data": {
            "text/plain": [
              "[Row(age=30, job='unemployed', marital='married', education='primary', default='no', balance=1787, housing='no', loan='no', contact='cellular', day=19, month='oct', duration=79, campaign=1, pdays=-1, previous=0, poutcome='unknown', y='no'),\n",
              " Row(age=33, job='services', marital='married', education='secondary', default='no', balance=4789, housing='yes', loan='yes', contact='cellular', day=11, month='may', duration=220, campaign=1, pdays=339, previous=4, poutcome='failure', y='no'),\n",
              " Row(age=35, job='management', marital='single', education='tertiary', default='no', balance=1350, housing='yes', loan='no', contact='cellular', day=16, month='apr', duration=185, campaign=1, pdays=330, previous=1, poutcome='failure', y='no'),\n",
              " Row(age=30, job='management', marital='married', education='tertiary', default='no', balance=1476, housing='yes', loan='yes', contact='unknown', day=3, month='jun', duration=199, campaign=4, pdays=-1, previous=0, poutcome='unknown', y='no'),\n",
              " Row(age=59, job='blue-collar', marital='married', education='secondary', default='no', balance=0, housing='yes', loan='no', contact='unknown', day=5, month='may', duration=226, campaign=1, pdays=-1, previous=0, poutcome='unknown', y='no'),\n",
              " Row(age=35, job='management', marital='single', education='tertiary', default='no', balance=747, housing='no', loan='no', contact='cellular', day=23, month='feb', duration=141, campaign=2, pdays=176, previous=3, poutcome='failure', y='no'),\n",
              " Row(age=36, job='self-employed', marital='married', education='tertiary', default='no', balance=307, housing='yes', loan='no', contact='cellular', day=14, month='may', duration=341, campaign=1, pdays=330, previous=2, poutcome='other', y='no'),\n",
              " Row(age=39, job='technician', marital='married', education='secondary', default='no', balance=147, housing='yes', loan='no', contact='cellular', day=6, month='may', duration=151, campaign=2, pdays=-1, previous=0, poutcome='unknown', y='no'),\n",
              " Row(age=41, job='entrepreneur', marital='married', education='tertiary', default='no', balance=221, housing='yes', loan='no', contact='unknown', day=14, month='may', duration=57, campaign=2, pdays=-1, previous=0, poutcome='unknown', y='no'),\n",
              " Row(age=43, job='services', marital='married', education='primary', default='no', balance=-88, housing='yes', loan='yes', contact='cellular', day=17, month='apr', duration=313, campaign=1, pdays=147, previous=2, poutcome='failure', y='no')]"
            ]
          },
          "metadata": {},
          "execution_count": 40
        }
      ]
    },
    {
      "cell_type": "code",
      "source": [
        "bank_df.printSchema()"
      ],
      "metadata": {
        "colab": {
          "base_uri": "https://localhost:8080/"
        },
        "id": "kTu3t0W5CXL7",
        "outputId": "e3bf1db5-0eee-4a5c-d930-39afe3911043"
      },
      "execution_count": 41,
      "outputs": [
        {
          "output_type": "stream",
          "name": "stdout",
          "text": [
            "root\n",
            " |-- age: integer (nullable = true)\n",
            " |-- job: string (nullable = true)\n",
            " |-- marital: string (nullable = true)\n",
            " |-- education: string (nullable = true)\n",
            " |-- default: string (nullable = true)\n",
            " |-- balance: integer (nullable = true)\n",
            " |-- housing: string (nullable = true)\n",
            " |-- loan: string (nullable = true)\n",
            " |-- contact: string (nullable = true)\n",
            " |-- day: integer (nullable = true)\n",
            " |-- month: string (nullable = true)\n",
            " |-- duration: integer (nullable = true)\n",
            " |-- campaign: integer (nullable = true)\n",
            " |-- pdays: integer (nullable = true)\n",
            " |-- previous: integer (nullable = true)\n",
            " |-- poutcome: string (nullable = true)\n",
            " |-- y: string (nullable = true)\n",
            "\n"
          ]
        }
      ]
    },
    {
      "cell_type": "code",
      "source": [
        "bank_df.describe()"
      ],
      "metadata": {
        "colab": {
          "base_uri": "https://localhost:8080/"
        },
        "id": "V8GAVLCLCYj4",
        "outputId": "03431209-2c9e-4e61-f282-edfcb3517e63"
      },
      "execution_count": 42,
      "outputs": [
        {
          "output_type": "execute_result",
          "data": {
            "text/plain": [
              "DataFrame[summary: string, age: string, job: string, marital: string, education: string, default: string, balance: string, housing: string, loan: string, contact: string, day: string, month: string, duration: string, campaign: string, pdays: string, previous: string, poutcome: string, y: string]"
            ]
          },
          "metadata": {},
          "execution_count": 42
        }
      ]
    },
    {
      "cell_type": "code",
      "source": [
        "bank_df.describe().show()"
      ],
      "metadata": {
        "colab": {
          "base_uri": "https://localhost:8080/"
        },
        "id": "pGCUvz6rCYdO",
        "outputId": "5cff0f6f-11a0-457b-a498-004b01b47aca"
      },
      "execution_count": 43,
      "outputs": [
        {
          "output_type": "stream",
          "name": "stdout",
          "text": [
            "+-------+------------------+-------+--------+---------+-------+------------------+-------+----+--------+------------------+-----+------------------+------------------+------------------+------------------+--------+----+\n",
            "|summary|               age|    job| marital|education|default|           balance|housing|loan| contact|               day|month|          duration|          campaign|             pdays|          previous|poutcome|   y|\n",
            "+-------+------------------+-------+--------+---------+-------+------------------+-------+----+--------+------------------+-----+------------------+------------------+------------------+------------------+--------+----+\n",
            "|  count|              4521|   4521|    4521|     4521|   4521|              4521|   4521|4521|    4521|              4521| 4521|              4521|              4521|              4521|              4521|    4521|4521|\n",
            "|   mean| 41.17009511170095|   NULL|    NULL|     NULL|   NULL|1422.6578190665782|   NULL|NULL|    NULL|15.915284229152842| NULL|263.96129174961294| 2.793629727936297|39.766644547666445|0.5425790754257908|    NULL|NULL|\n",
            "| stddev|10.576210958711263|   NULL|    NULL|     NULL|   NULL|3009.6381424673395|   NULL|NULL|    NULL| 8.247667327229934| NULL|259.85663262468216|3.1098066601885823|100.12112444301656|1.6935623506071211|    NULL|NULL|\n",
            "|    min|                19| admin.|divorced|  primary|     no|             -3313|     no|  no|cellular|                 1|  apr|                 4|                 1|                -1|                 0| failure|  no|\n",
            "|    max|                87|unknown|  single|  unknown|    yes|             71188|    yes| yes| unknown|                31|  sep|              3025|                50|               871|                25| unknown| yes|\n",
            "+-------+------------------+-------+--------+---------+-------+------------------+-------+----+--------+------------------+-----+------------------+------------------+------------------+------------------+--------+----+\n",
            "\n"
          ]
        }
      ]
    },
    {
      "cell_type": "markdown",
      "source": [
        "## **Data Filtering and Column Operations:**\n",
        "Filter the dataset to include only clients with a balance greater than a certain threshold.\n"
      ],
      "metadata": {
        "id": "MSa1f5Uengrz"
      }
    },
    {
      "cell_type": "code",
      "source": [
        "from pyspark.sql.functions import col, quarter\n",
        "# Filter the dataset to include only clients with a balance greater than 1000\n",
        "filtered_df = bank_df.filter(col(\"balance\") > 1000)"
      ],
      "metadata": {
        "id": "pUmmuYzjCjhL"
      },
      "execution_count": 44,
      "outputs": []
    },
    {
      "cell_type": "code",
      "source": [
        "filtered_df.show()"
      ],
      "metadata": {
        "colab": {
          "base_uri": "https://localhost:8080/"
        },
        "id": "xpTIMlptComk",
        "outputId": "93a9e6eb-f67b-4780-e02e-5de305a36602"
      },
      "execution_count": 45,
      "outputs": [
        {
          "output_type": "stream",
          "name": "stdout",
          "text": [
            "+---+-----------+--------+---------+-------+-------+-------+----+---------+---+-----+--------+--------+-----+--------+--------+---+\n",
            "|age|        job| marital|education|default|balance|housing|loan|  contact|day|month|duration|campaign|pdays|previous|poutcome|  y|\n",
            "+---+-----------+--------+---------+-------+-------+-------+----+---------+---+-----+--------+--------+-----+--------+--------+---+\n",
            "| 30| unemployed| married|  primary|     no|   1787|     no|  no| cellular| 19|  oct|      79|       1|   -1|       0| unknown| no|\n",
            "| 33|   services| married|secondary|     no|   4789|    yes| yes| cellular| 11|  may|     220|       1|  339|       4| failure| no|\n",
            "| 35| management|  single| tertiary|     no|   1350|    yes|  no| cellular| 16|  apr|     185|       1|  330|       1| failure| no|\n",
            "| 30| management| married| tertiary|     no|   1476|    yes| yes|  unknown|  3|  jun|     199|       4|   -1|       0| unknown| no|\n",
            "| 39|   services| married|secondary|     no|   9374|    yes|  no|  unknown| 20|  may|     273|       1|   -1|       0| unknown| no|\n",
            "| 36| technician| married| tertiary|     no|   1109|     no|  no| cellular| 13|  aug|     328|       2|   -1|       0| unknown| no|\n",
            "| 56| technician| married|secondary|     no|   4073|     no|  no| cellular| 27|  aug|     239|       5|   -1|       0| unknown| no|\n",
            "| 37|     admin.|  single| tertiary|     no|   2317|    yes|  no| cellular| 20|  apr|     114|       1|  152|       2| failure| no|\n",
            "| 41| management| married| tertiary|     no|   5883|     no|  no| cellular| 20|  nov|     182|       2|   -1|       0| unknown| no|\n",
            "| 68|    retired|divorced|secondary|     no|   4189|     no|  no|telephone| 14|  jul|     897|       2|   -1|       0| unknown|yes|\n",
            "| 32| management|  single| tertiary|     no|   2536|    yes|  no| cellular| 26|  aug|     958|       6|   -1|       0| unknown|yes|\n",
            "| 49| technician| married| tertiary|     no|   1235|     no|  no| cellular| 13|  aug|     354|       3|   -1|       0| unknown|yes|\n",
            "| 42|     admin.|divorced|secondary|     no|   1811|    yes|  no|  unknown| 14|  may|     150|       1|   -1|       0| unknown| no|\n",
            "| 32|blue-collar| married|secondary|     no|   2089|    yes|  no| cellular| 14|  nov|     132|       1|   -1|       0| unknown|yes|\n",
            "| 33| management| married|secondary|     no|   3935|    yes|  no| cellular|  6|  may|     765|       1|  342|       2| failure|yes|\n",
            "| 38| management|  single| tertiary|     no|  11971|    yes|  no|  unknown| 17|  nov|     609|       2|  101|       3| failure| no|\n",
            "| 52|blue-collar| married|secondary|     no|   1117|    yes|  no| cellular| 13|  may|     365|       1|   -1|       0| unknown| no|\n",
            "| 32| technician|  single| tertiary|     no|   2204|    yes|  no| cellular| 21|  nov|      11|       4|   -1|       0| unknown| no|\n",
            "| 61|     admin.| married|  unknown|     no|   4629|    yes|  no| cellular| 27|  jan|     181|       1|   92|       1| success|yes|\n",
            "| 34| technician| married| tertiary|     no|   1539|    yes|  no| cellular| 15|  jun|     441|       1|   56|       1|   other|yes|\n",
            "+---+-----------+--------+---------+-------+-------+-------+----+---------+---+-----+--------+--------+-----+--------+--------+---+\n",
            "only showing top 20 rows\n",
            "\n"
          ]
        }
      ]
    },
    {
      "cell_type": "markdown",
      "source": [
        "## **Column Operations**\n",
        "\n",
        "Extract the month from the 'month' column and create a new column for the quarter of the year."
      ],
      "metadata": {
        "id": "2a3qYRmECtYz"
      }
    },
    {
      "cell_type": "code",
      "source": [
        "month_to_quarter = {\n",
        "    \"jan\": 1, \"feb\": 1, \"mar\": 1,\n",
        "    \"apr\": 2, \"may\": 2, \"jun\": 2,\n",
        "    \"jul\": 3, \"aug\": 3, \"sep\": 3,\n",
        "    \"oct\": 4, \"nov\": 4, \"dec\": 4}"
      ],
      "metadata": {
        "id": "m4suElP5CuCN"
      },
      "execution_count": 46,
      "outputs": []
    },
    {
      "cell_type": "code",
      "source": [
        "from pyspark.sql.functions import col, when\n",
        "bank_data = filtered_df.withColumn(\"quarter\",\n",
        "    when(col(\"month\").isin(\"jan\", \"feb\", \"mar\"), 1)\n",
        "    .when(col(\"month\").isin(\"apr\", \"may\", \"jun\"), 2)\n",
        "    .when(col(\"month\").isin(\"jul\", \"aug\", \"sep\"), 3)\n",
        "    .when(col(\"month\").isin(\"oct\", \"nov\", \"dec\"), 4))\n",
        "\n",
        "bank_data.show()"
      ],
      "metadata": {
        "colab": {
          "base_uri": "https://localhost:8080/"
        },
        "id": "3yOJrd-hCyQ-",
        "outputId": "c924b7cb-dd98-43d4-f3f4-123115e65954"
      },
      "execution_count": 47,
      "outputs": [
        {
          "output_type": "stream",
          "name": "stdout",
          "text": [
            "+---+-----------+--------+---------+-------+-------+-------+----+---------+---+-----+--------+--------+-----+--------+--------+---+-------+\n",
            "|age|        job| marital|education|default|balance|housing|loan|  contact|day|month|duration|campaign|pdays|previous|poutcome|  y|quarter|\n",
            "+---+-----------+--------+---------+-------+-------+-------+----+---------+---+-----+--------+--------+-----+--------+--------+---+-------+\n",
            "| 30| unemployed| married|  primary|     no|   1787|     no|  no| cellular| 19|  oct|      79|       1|   -1|       0| unknown| no|      4|\n",
            "| 33|   services| married|secondary|     no|   4789|    yes| yes| cellular| 11|  may|     220|       1|  339|       4| failure| no|      2|\n",
            "| 35| management|  single| tertiary|     no|   1350|    yes|  no| cellular| 16|  apr|     185|       1|  330|       1| failure| no|      2|\n",
            "| 30| management| married| tertiary|     no|   1476|    yes| yes|  unknown|  3|  jun|     199|       4|   -1|       0| unknown| no|      2|\n",
            "| 39|   services| married|secondary|     no|   9374|    yes|  no|  unknown| 20|  may|     273|       1|   -1|       0| unknown| no|      2|\n",
            "| 36| technician| married| tertiary|     no|   1109|     no|  no| cellular| 13|  aug|     328|       2|   -1|       0| unknown| no|      3|\n",
            "| 56| technician| married|secondary|     no|   4073|     no|  no| cellular| 27|  aug|     239|       5|   -1|       0| unknown| no|      3|\n",
            "| 37|     admin.|  single| tertiary|     no|   2317|    yes|  no| cellular| 20|  apr|     114|       1|  152|       2| failure| no|      2|\n",
            "| 41| management| married| tertiary|     no|   5883|     no|  no| cellular| 20|  nov|     182|       2|   -1|       0| unknown| no|      4|\n",
            "| 68|    retired|divorced|secondary|     no|   4189|     no|  no|telephone| 14|  jul|     897|       2|   -1|       0| unknown|yes|      3|\n",
            "| 32| management|  single| tertiary|     no|   2536|    yes|  no| cellular| 26|  aug|     958|       6|   -1|       0| unknown|yes|      3|\n",
            "| 49| technician| married| tertiary|     no|   1235|     no|  no| cellular| 13|  aug|     354|       3|   -1|       0| unknown|yes|      3|\n",
            "| 42|     admin.|divorced|secondary|     no|   1811|    yes|  no|  unknown| 14|  may|     150|       1|   -1|       0| unknown| no|      2|\n",
            "| 32|blue-collar| married|secondary|     no|   2089|    yes|  no| cellular| 14|  nov|     132|       1|   -1|       0| unknown|yes|      4|\n",
            "| 33| management| married|secondary|     no|   3935|    yes|  no| cellular|  6|  may|     765|       1|  342|       2| failure|yes|      2|\n",
            "| 38| management|  single| tertiary|     no|  11971|    yes|  no|  unknown| 17|  nov|     609|       2|  101|       3| failure| no|      4|\n",
            "| 52|blue-collar| married|secondary|     no|   1117|    yes|  no| cellular| 13|  may|     365|       1|   -1|       0| unknown| no|      2|\n",
            "| 32| technician|  single| tertiary|     no|   2204|    yes|  no| cellular| 21|  nov|      11|       4|   -1|       0| unknown| no|      4|\n",
            "| 61|     admin.| married|  unknown|     no|   4629|    yes|  no| cellular| 27|  jan|     181|       1|   92|       1| success|yes|      1|\n",
            "| 34| technician| married| tertiary|     no|   1539|    yes|  no| cellular| 15|  jun|     441|       1|   56|       1|   other|yes|      2|\n",
            "+---+-----------+--------+---------+-------+-------+-------+----+---------+---+-----+--------+--------+-----+--------+--------+---+-------+\n",
            "only showing top 20 rows\n",
            "\n"
          ]
        }
      ]
    },
    {
      "cell_type": "markdown",
      "source": [
        "## **GroupBy and Aggregation:**\n",
        "\n",
        "Group the data by job type and calculate the average balance and median age for each job category.\n",
        "\n",
        "Find the total number of clients for each marital status who have subscribed to a term deposit.\n"
      ],
      "metadata": {
        "id": "5zBQEyB8C6JJ"
      }
    },
    {
      "cell_type": "code",
      "source": [
        "from pyspark.sql import Window\n",
        "from pyspark.sql.functions import avg, col, expr, percentile_approx\n",
        "\n",
        "\n",
        "# Group by job type and calculate the average balance\n",
        "avg_balance_df = bank_data.groupBy(\"job\").agg(avg(\"balance\").alias(\"avg_balance\"))\n",
        "\n",
        "# Calculate the median age using percentile_approx function\n",
        "median_age_df = bank_data.groupBy(\"job\").agg(percentile_approx(\"age\", 0.5).alias(\"median_age\"))\n",
        "\n",
        "# Join the two DataFrames on the job column\n",
        "result_df = avg_balance_df.join(median_age_df, on=\"job\")\n",
        "\n",
        "# Show the result\n",
        "result_df.show()"
      ],
      "metadata": {
        "colab": {
          "base_uri": "https://localhost:8080/"
        },
        "id": "q_hoOIjVC6tZ",
        "outputId": "0a64671f-f810-4995-d3d7-c01b45f53495"
      },
      "execution_count": 48,
      "outputs": [
        {
          "output_type": "stream",
          "name": "stdout",
          "text": [
            "+-------------+------------------+----------+\n",
            "|          job|       avg_balance|median_age|\n",
            "+-------------+------------------+----------+\n",
            "|   unemployed|3017.8205128205127|        43|\n",
            "|     services|3529.6724137931033|        40|\n",
            "|      unknown|            3294.6|        44|\n",
            "|      student|3794.8064516129034|        25|\n",
            "|   management| 4229.221621621622|        39|\n",
            "|       admin.|3342.1710526315787|        41|\n",
            "|  blue-collar|3143.5575539568345|        41|\n",
            "|self-employed|3623.7903225806454|        41|\n",
            "|   technician|3768.2928870292885|        38|\n",
            "|    housemaid| 6592.242424242424|        46|\n",
            "|      retired| 5290.106382978724|        59|\n",
            "| entrepreneur| 4851.423076923077|        40|\n",
            "+-------------+------------------+----------+\n",
            "\n"
          ]
        }
      ]
    },
    {
      "cell_type": "code",
      "source": [
        "# Find the total number of clients for each marital status who have subscribed to a term deposit.\n",
        "\n",
        "from pyspark.sql.functions import col, count\n",
        "\n",
        "# Filter the data to include only clients who have subscribed to a term deposit\n",
        "subscribed_df = bank_data.filter(col(\"y\") == \"yes\")\n",
        "\n",
        "# Group by marital status and count the total number of clients in each group\n",
        "subscription_count_df = subscribed_df.groupBy(\"marital\") \\\n",
        "                                     .agg(count(\"*\").alias(\"total_clients_subscribed\"))\n",
        "\n",
        "# Show the result\n",
        "subscription_count_df.show()"
      ],
      "metadata": {
        "colab": {
          "base_uri": "https://localhost:8080/"
        },
        "id": "5UR_eqKQDBEh",
        "outputId": "d83a3e82-d1fc-4c29-920a-c0c6d5056364"
      },
      "execution_count": 50,
      "outputs": [
        {
          "output_type": "stream",
          "name": "stdout",
          "text": [
            "+--------+------------------------+\n",
            "| marital|total_clients_subscribed|\n",
            "+--------+------------------------+\n",
            "|divorced|                      29|\n",
            "| married|                     128|\n",
            "|  single|                      64|\n",
            "+--------+------------------------+\n",
            "\n"
          ]
        }
      ]
    },
    {
      "cell_type": "markdown",
      "source": [
        "## **Use UDF to Categorize Age Groups:**\n",
        "\n",
        "Write a UDF that categorizes clients into age groups ('<30', '30-60', '>60') and apply it to create a new column age_group.\n"
      ],
      "metadata": {
        "id": "zPRaB6_TDJGP"
      }
    },
    {
      "cell_type": "code",
      "source": [
        "from pyspark.sql.functions import udf\n",
        "from pyspark.sql.types import StringType"
      ],
      "metadata": {
        "id": "jCGzPUzEDJ1r"
      },
      "execution_count": 51,
      "outputs": []
    },
    {
      "cell_type": "code",
      "source": [
        "# Define a UDF to categorize age groups\n",
        "def categorize_age(age):\n",
        "    if age < 30:\n",
        "        return '<30'\n",
        "    elif 30 <= age <= 60:\n",
        "        return '30-60'\n",
        "    else:\n",
        "        return '>60'\n",
        "\n",
        "# Register the UDF\n",
        "categorize_age_udf = udf(categorize_age, StringType())"
      ],
      "metadata": {
        "id": "zI2UtA2tDMIB"
      },
      "execution_count": 52,
      "outputs": []
    },
    {
      "cell_type": "code",
      "source": [
        "udf_df = bank_data.withColumn(\"age_group\", categorize_age_udf(bank_data[\"age\"]))\n",
        "\n",
        "# Show the result\n",
        "udf_df.show()"
      ],
      "metadata": {
        "colab": {
          "base_uri": "https://localhost:8080/"
        },
        "id": "bP98RDt2DOcU",
        "outputId": "6179a86b-72c2-41c1-883e-16866ed54842"
      },
      "execution_count": 53,
      "outputs": [
        {
          "output_type": "stream",
          "name": "stdout",
          "text": [
            "+---+-----------+--------+---------+-------+-------+-------+----+---------+---+-----+--------+--------+-----+--------+--------+---+-------+---------+\n",
            "|age|        job| marital|education|default|balance|housing|loan|  contact|day|month|duration|campaign|pdays|previous|poutcome|  y|quarter|age_group|\n",
            "+---+-----------+--------+---------+-------+-------+-------+----+---------+---+-----+--------+--------+-----+--------+--------+---+-------+---------+\n",
            "| 30| unemployed| married|  primary|     no|   1787|     no|  no| cellular| 19|  oct|      79|       1|   -1|       0| unknown| no|      4|    30-60|\n",
            "| 33|   services| married|secondary|     no|   4789|    yes| yes| cellular| 11|  may|     220|       1|  339|       4| failure| no|      2|    30-60|\n",
            "| 35| management|  single| tertiary|     no|   1350|    yes|  no| cellular| 16|  apr|     185|       1|  330|       1| failure| no|      2|    30-60|\n",
            "| 30| management| married| tertiary|     no|   1476|    yes| yes|  unknown|  3|  jun|     199|       4|   -1|       0| unknown| no|      2|    30-60|\n",
            "| 39|   services| married|secondary|     no|   9374|    yes|  no|  unknown| 20|  may|     273|       1|   -1|       0| unknown| no|      2|    30-60|\n",
            "| 36| technician| married| tertiary|     no|   1109|     no|  no| cellular| 13|  aug|     328|       2|   -1|       0| unknown| no|      3|    30-60|\n",
            "| 56| technician| married|secondary|     no|   4073|     no|  no| cellular| 27|  aug|     239|       5|   -1|       0| unknown| no|      3|    30-60|\n",
            "| 37|     admin.|  single| tertiary|     no|   2317|    yes|  no| cellular| 20|  apr|     114|       1|  152|       2| failure| no|      2|    30-60|\n",
            "| 41| management| married| tertiary|     no|   5883|     no|  no| cellular| 20|  nov|     182|       2|   -1|       0| unknown| no|      4|    30-60|\n",
            "| 68|    retired|divorced|secondary|     no|   4189|     no|  no|telephone| 14|  jul|     897|       2|   -1|       0| unknown|yes|      3|      >60|\n",
            "| 32| management|  single| tertiary|     no|   2536|    yes|  no| cellular| 26|  aug|     958|       6|   -1|       0| unknown|yes|      3|    30-60|\n",
            "| 49| technician| married| tertiary|     no|   1235|     no|  no| cellular| 13|  aug|     354|       3|   -1|       0| unknown|yes|      3|    30-60|\n",
            "| 42|     admin.|divorced|secondary|     no|   1811|    yes|  no|  unknown| 14|  may|     150|       1|   -1|       0| unknown| no|      2|    30-60|\n",
            "| 32|blue-collar| married|secondary|     no|   2089|    yes|  no| cellular| 14|  nov|     132|       1|   -1|       0| unknown|yes|      4|    30-60|\n",
            "| 33| management| married|secondary|     no|   3935|    yes|  no| cellular|  6|  may|     765|       1|  342|       2| failure|yes|      2|    30-60|\n",
            "| 38| management|  single| tertiary|     no|  11971|    yes|  no|  unknown| 17|  nov|     609|       2|  101|       3| failure| no|      4|    30-60|\n",
            "| 52|blue-collar| married|secondary|     no|   1117|    yes|  no| cellular| 13|  may|     365|       1|   -1|       0| unknown| no|      2|    30-60|\n",
            "| 32| technician|  single| tertiary|     no|   2204|    yes|  no| cellular| 21|  nov|      11|       4|   -1|       0| unknown| no|      4|    30-60|\n",
            "| 61|     admin.| married|  unknown|     no|   4629|    yes|  no| cellular| 27|  jan|     181|       1|   92|       1| success|yes|      1|      >60|\n",
            "| 34| technician| married| tertiary|     no|   1539|    yes|  no| cellular| 15|  jun|     441|       1|   56|       1|   other|yes|      2|    30-60|\n",
            "+---+-----------+--------+---------+-------+-------+-------+----+---------+---+-----+--------+--------+-----+--------+--------+---+-------+---------+\n",
            "only showing top 20 rows\n",
            "\n"
          ]
        }
      ]
    },
    {
      "cell_type": "markdown",
      "source": [
        "## **Advanced Data Transformations:**\n",
        "\n",
        "Calculate the subscription rate (percentage of clients who subscribed to a term deposit) for each education level.\n",
        "\n"
      ],
      "metadata": {
        "id": "Z90DWtMjDU6S"
      }
    },
    {
      "cell_type": "code",
      "source": [
        "from pyspark.sql.functions import col, count, expr"
      ],
      "metadata": {
        "id": "5e5rgFjFDVdJ"
      },
      "execution_count": 54,
      "outputs": []
    },
    {
      "cell_type": "code",
      "source": [
        "# Calculate the subscription rate (percentage of clients who subscribed to a term deposit) for each education level\n",
        "subscription_rate_df = bank_data.groupBy(\"education\").agg(\n",
        "    (count(when(col(\"y\") == \"yes\", True)) / count(\"*\") * 100).alias(\"subscription_rate\")\n",
        ")\n",
        "\n",
        "# Show the subscription rate by education level\n",
        "subscription_rate_df.show()"
      ],
      "metadata": {
        "colab": {
          "base_uri": "https://localhost:8080/"
        },
        "id": "YguSMiZPDXQI",
        "outputId": "9b8172b0-59cc-4469-dca0-69daf8d7b0ca"
      },
      "execution_count": 55,
      "outputs": [
        {
          "output_type": "stream",
          "name": "stdout",
          "text": [
            "+---------+------------------+\n",
            "|education| subscription_rate|\n",
            "+---------+------------------+\n",
            "| tertiary|17.898832684824903|\n",
            "|  unknown|17.647058823529413|\n",
            "|secondary| 13.39155749636099|\n",
            "|  primary| 11.79245283018868|\n",
            "+---------+------------------+\n",
            "\n"
          ]
        }
      ]
    },
    {
      "cell_type": "code",
      "source": [
        "# Calculate loan default rate (percentage of clients who defaulted on a loan) for each job\n",
        "loan_default_rate_df = bank_data.groupBy(\"job\").agg(\n",
        "    (count(when(col(\"loan\") == \"yes\", True)) / count(\"*\") * 100).alias(\"default_rate\")\n",
        ")\n",
        "\n",
        "# Show the loan default rate by education level\n",
        "loan_default_rate_df.show()"
      ],
      "metadata": {
        "colab": {
          "base_uri": "https://localhost:8080/"
        },
        "id": "sCJq4ky1DXN7",
        "outputId": "6710e4fa-cc6f-4372-e59b-ce4d7648b30a"
      },
      "execution_count": 56,
      "outputs": [
        {
          "output_type": "stream",
          "name": "stdout",
          "text": [
            "+-------------+------------------+\n",
            "|          job|      default_rate|\n",
            "+-------------+------------------+\n",
            "|   unemployed|7.6923076923076925|\n",
            "|     services|11.206896551724139|\n",
            "|      unknown|               0.0|\n",
            "|      student| 3.225806451612903|\n",
            "|   management|  9.45945945945946|\n",
            "|       admin.|10.526315789473683|\n",
            "|  blue-collar|11.870503597122301|\n",
            "|self-employed|12.903225806451612|\n",
            "|   technician| 9.205020920502092|\n",
            "|    housemaid|6.0606060606060606|\n",
            "|      retired| 12.76595744680851|\n",
            "| entrepreneur|28.846153846153843|\n",
            "+-------------+------------------+\n",
            "\n"
          ]
        }
      ]
    },
    {
      "cell_type": "code",
      "source": [
        "# Identify the top 3 professions with the highest loan default rate\n",
        "top_3_default_jobs = loan_default_rate_df.orderBy(col(\"default_rate\").desc()).limit(3)\n",
        "\n",
        "# Show the top 3 professions with the highest loan default rate\n",
        "top_3_default_jobs.show()"
      ],
      "metadata": {
        "colab": {
          "base_uri": "https://localhost:8080/"
        },
        "id": "b6VUt5yIDhlb",
        "outputId": "47edacc5-1329-4ece-ff89-f201ae076beb"
      },
      "execution_count": 57,
      "outputs": [
        {
          "output_type": "stream",
          "name": "stdout",
          "text": [
            "+-------------+------------------+\n",
            "|          job|      default_rate|\n",
            "+-------------+------------------+\n",
            "| entrepreneur|28.846153846153843|\n",
            "|self-employed|12.903225806451612|\n",
            "|      retired| 12.76595744680851|\n",
            "+-------------+------------------+\n",
            "\n"
          ]
        }
      ]
    },
    {
      "cell_type": "markdown",
      "source": [
        "## **String Manipulation and Date Functions:**\n",
        "\n",
        "Concatenate the 'job' and 'marital' columns into a new column 'job_marital'.\n",
        "\n",
        "Use string functions to convert the 'contact' column to uppercase.\n"
      ],
      "metadata": {
        "id": "VF62PnAZDkLH"
      }
    },
    {
      "cell_type": "code",
      "source": [
        "from pyspark.sql.functions import concat, col, lit, upper\n",
        "\n",
        "# Concatenate 'job' and 'marital' columns into a new column 'job_marital'\n",
        "df = bank_data.withColumn(\"job_marital\", concat(col(\"job\"), lit(\"_\"), col(\"marital\")))\n",
        "\n",
        "# Convert the 'contact' column to uppercase\n",
        "df = df.withColumn(\"contact\", upper(col(\"contact\")))\n",
        "\n",
        "# Show the result\n",
        "df.show()"
      ],
      "metadata": {
        "colab": {
          "base_uri": "https://localhost:8080/"
        },
        "id": "jcvtU4fVDkm0",
        "outputId": "4b84a8c5-d90c-4d80-9161-32fbc8c23004"
      },
      "execution_count": 58,
      "outputs": [
        {
          "output_type": "stream",
          "name": "stdout",
          "text": [
            "+---+-----------+--------+---------+-------+-------+-------+----+---------+---+-----+--------+--------+-----+--------+--------+---+-------+-------------------+\n",
            "|age|        job| marital|education|default|balance|housing|loan|  contact|day|month|duration|campaign|pdays|previous|poutcome|  y|quarter|        job_marital|\n",
            "+---+-----------+--------+---------+-------+-------+-------+----+---------+---+-----+--------+--------+-----+--------+--------+---+-------+-------------------+\n",
            "| 30| unemployed| married|  primary|     no|   1787|     no|  no| CELLULAR| 19|  oct|      79|       1|   -1|       0| unknown| no|      4| unemployed_married|\n",
            "| 33|   services| married|secondary|     no|   4789|    yes| yes| CELLULAR| 11|  may|     220|       1|  339|       4| failure| no|      2|   services_married|\n",
            "| 35| management|  single| tertiary|     no|   1350|    yes|  no| CELLULAR| 16|  apr|     185|       1|  330|       1| failure| no|      2|  management_single|\n",
            "| 30| management| married| tertiary|     no|   1476|    yes| yes|  UNKNOWN|  3|  jun|     199|       4|   -1|       0| unknown| no|      2| management_married|\n",
            "| 39|   services| married|secondary|     no|   9374|    yes|  no|  UNKNOWN| 20|  may|     273|       1|   -1|       0| unknown| no|      2|   services_married|\n",
            "| 36| technician| married| tertiary|     no|   1109|     no|  no| CELLULAR| 13|  aug|     328|       2|   -1|       0| unknown| no|      3| technician_married|\n",
            "| 56| technician| married|secondary|     no|   4073|     no|  no| CELLULAR| 27|  aug|     239|       5|   -1|       0| unknown| no|      3| technician_married|\n",
            "| 37|     admin.|  single| tertiary|     no|   2317|    yes|  no| CELLULAR| 20|  apr|     114|       1|  152|       2| failure| no|      2|      admin._single|\n",
            "| 41| management| married| tertiary|     no|   5883|     no|  no| CELLULAR| 20|  nov|     182|       2|   -1|       0| unknown| no|      4| management_married|\n",
            "| 68|    retired|divorced|secondary|     no|   4189|     no|  no|TELEPHONE| 14|  jul|     897|       2|   -1|       0| unknown|yes|      3|   retired_divorced|\n",
            "| 32| management|  single| tertiary|     no|   2536|    yes|  no| CELLULAR| 26|  aug|     958|       6|   -1|       0| unknown|yes|      3|  management_single|\n",
            "| 49| technician| married| tertiary|     no|   1235|     no|  no| CELLULAR| 13|  aug|     354|       3|   -1|       0| unknown|yes|      3| technician_married|\n",
            "| 42|     admin.|divorced|secondary|     no|   1811|    yes|  no|  UNKNOWN| 14|  may|     150|       1|   -1|       0| unknown| no|      2|    admin._divorced|\n",
            "| 32|blue-collar| married|secondary|     no|   2089|    yes|  no| CELLULAR| 14|  nov|     132|       1|   -1|       0| unknown|yes|      4|blue-collar_married|\n",
            "| 33| management| married|secondary|     no|   3935|    yes|  no| CELLULAR|  6|  may|     765|       1|  342|       2| failure|yes|      2| management_married|\n",
            "| 38| management|  single| tertiary|     no|  11971|    yes|  no|  UNKNOWN| 17|  nov|     609|       2|  101|       3| failure| no|      4|  management_single|\n",
            "| 52|blue-collar| married|secondary|     no|   1117|    yes|  no| CELLULAR| 13|  may|     365|       1|   -1|       0| unknown| no|      2|blue-collar_married|\n",
            "| 32| technician|  single| tertiary|     no|   2204|    yes|  no| CELLULAR| 21|  nov|      11|       4|   -1|       0| unknown| no|      4|  technician_single|\n",
            "| 61|     admin.| married|  unknown|     no|   4629|    yes|  no| CELLULAR| 27|  jan|     181|       1|   92|       1| success|yes|      1|     admin._married|\n",
            "| 34| technician| married| tertiary|     no|   1539|    yes|  no| CELLULAR| 15|  jun|     441|       1|   56|       1|   other|yes|      2| technician_married|\n",
            "+---+-----------+--------+---------+-------+-------+-------+----+---------+---+-----+--------+--------+-----+--------+--------+---+-------+-------------------+\n",
            "only showing top 20 rows\n",
            "\n"
          ]
        }
      ]
    },
    {
      "cell_type": "markdown",
      "source": [
        "## **Data Visualization**\n",
        "\n",
        "Convert the Spark DataFrame to a Pandas DataFrame.\n",
        "\n"
      ],
      "metadata": {
        "id": "KanimXcDDr_y"
      }
    },
    {
      "cell_type": "code",
      "source": [
        "import matplotlib.pyplot as plt\n",
        "import pandas as pd\n",
        "from pyspark.sql.functions import col"
      ],
      "metadata": {
        "id": "RUsceCgFDsUK"
      },
      "execution_count": 59,
      "outputs": []
    },
    {
      "cell_type": "code",
      "source": [
        "pandas_bank_df = bank_data.toPandas()"
      ],
      "metadata": {
        "id": "u2sFlOYKDueR"
      },
      "execution_count": 60,
      "outputs": []
    },
    {
      "cell_type": "code",
      "source": [
        "# Create a bar plot showing the count of clients by job type\n",
        "job_counts = pandas_bank_df['job'].value_counts()\n",
        "\n",
        "# Plot the bar chart\n",
        "plt.figure(figsize=(10, 6))\n",
        "job_counts.plot(kind='bar', color='cyan')\n",
        "plt.title('Count of Clients by Job Type')\n",
        "plt.xlabel('Job Type')\n",
        "plt.ylabel('Count of Clients')\n",
        "plt.xticks(rotation=45)\n",
        "plt.grid(axis='y')\n",
        "\n",
        "# Show the plot\n",
        "plt.show()"
      ],
      "metadata": {
        "colab": {
          "base_uri": "https://localhost:8080/",
          "height": 629
        },
        "id": "TH99w2OtDucD",
        "outputId": "1faa6d1d-29b7-4726-e16d-d5489ef6ac15"
      },
      "execution_count": 62,
      "outputs": [
        {
          "output_type": "display_data",
          "data": {
            "text/plain": [
              "<Figure size 1000x600 with 1 Axes>"
            ],
            "image/png": "[encoded data removed]"
          },
          "metadata": {}
        }
      ]
    },
    {
      "cell_type": "markdown",
      "source": [
        "## **Complex Queries for Insights:**\n",
        "\n",
        "Analyze which month of the year has the highest number of clients contacted, and determine the success rate of the campaign in that month"
      ],
      "metadata": {
        "id": "snjGktkTD9if"
      }
    },
    {
      "cell_type": "code",
      "source": [
        "month_contacted_counts = bank_data.groupBy(\"month\").agg(count(\"*\").alias(\"num_contacts\")).orderBy(col(\"num_contacts\").desc())\n",
        "month_with_max_contacts = month_contacted_counts.first()[\"month\"]"
      ],
      "metadata": {
        "id": "JdMcXx4JDuUr"
      },
      "execution_count": 65,
      "outputs": []
    },
    {
      "cell_type": "code",
      "source": [
        "month_df = bank_data.filter(col(\"month\") == month_with_max_contacts)\n",
        "success_rate = month_df.groupBy(\"month\").agg(\n",
        "    (count(when(col(\"y\") == \"yes\", True)) / count(\"*\") * 100).alias(\"success_rate\")\n",
        ")"
      ],
      "metadata": {
        "id": "AX69RpmtEBI9"
      },
      "execution_count": 66,
      "outputs": []
    },
    {
      "cell_type": "code",
      "source": [
        "# Show the month with the highest number of contacts and its success rate\n",
        "month_contacted_counts.show()\n",
        "success_rate.show()"
      ],
      "metadata": {
        "colab": {
          "base_uri": "https://localhost:8080/"
        },
        "id": "UbJKodywEBGn",
        "outputId": "44281542-8c03-4d5b-bee5-806216c7134b"
      },
      "execution_count": 67,
      "outputs": [
        {
          "output_type": "stream",
          "name": "stdout",
          "text": [
            "+-----+------------+\n",
            "|month|num_contacts|\n",
            "+-----+------------+\n",
            "|  may|         384|\n",
            "|  jun|         224|\n",
            "|  nov|         207|\n",
            "|  aug|         195|\n",
            "|  jul|         154|\n",
            "|  apr|         118|\n",
            "|  feb|          76|\n",
            "|  jan|          36|\n",
            "|  oct|          33|\n",
            "|  mar|          24|\n",
            "|  sep|          18|\n",
            "|  dec|          12|\n",
            "+-----+------------+\n",
            "\n",
            "+-----+------------+\n",
            "|month|success_rate|\n",
            "+-----+------------+\n",
            "|  may|     8.59375|\n",
            "+-----+------------+\n",
            "\n"
          ]
        }
      ]
    },
    {
      "cell_type": "code",
      "source": [
        "# Find the average duration of contact for clients who subscribed versus those who did not\n",
        "average_duration_df = bank_data.groupBy(\"y\").agg(\n",
        "    avg(\"duration\").alias(\"average_duration\")\n",
        ")\n",
        "\n",
        "average_duration_df.show()"
      ],
      "metadata": {
        "colab": {
          "base_uri": "https://localhost:8080/"
        },
        "id": "SStyFxRkEOTB",
        "outputId": "72315a43-d933-4e90-89e6-21bebf6f37a8"
      },
      "execution_count": 68,
      "outputs": [
        {
          "output_type": "stream",
          "name": "stdout",
          "text": [
            "+---+-----------------+\n",
            "|  y| average_duration|\n",
            "+---+-----------------+\n",
            "| no|232.7579365079365|\n",
            "|yes|484.3393665158371|\n",
            "+---+-----------------+\n",
            "\n"
          ]
        }
      ]
    },
    {
      "cell_type": "markdown",
      "source": [
        "## **Correlation Between Age and Balance:**\n",
        "\n",
        "Calculate the correlation coefficient between 'age' and 'balance' to see if there’s any linear relationship between these two variables.\n"
      ],
      "metadata": {
        "id": "M_zKTuBDEUL1"
      }
    },
    {
      "cell_type": "code",
      "source": [
        "# Calculate the correlation coefficient between 'age' and 'balance'\n",
        "correlation = bank_data.stat.corr(\"age\", \"balance\")\n",
        "\n",
        "# Show the result\n",
        "print(f\"The correlation coefficient between 'age' and 'balance' is: {correlation}\")"
      ],
      "metadata": {
        "colab": {
          "base_uri": "https://localhost:8080/"
        },
        "id": "FI-xpLh3EORI",
        "outputId": "407e0995-b82a-4960-9749-688cfd07c05d"
      },
      "execution_count": 69,
      "outputs": [
        {
          "output_type": "stream",
          "name": "stdout",
          "text": [
            "The correlation coefficient between 'age' and 'balance' is: 0.07437391587538528\n"
          ]
        }
      ]
    },
    {
      "cell_type": "markdown",
      "source": [
        "## **Exploring Loan Defaults:**\n",
        "\n",
        "Analyze the proportion of clients with and without a credit default and visualize the count of defaulters and non-defaulters.\n"
      ],
      "metadata": {
        "id": "NZPSDeeLEaiR"
      }
    },
    {
      "cell_type": "code",
      "source": [
        "# Calculate the proportion of clients with and without a credit default\n",
        "default_proportion_df = bank_data.groupBy(\"loan\").agg(\n",
        "    count(\"*\").alias(\"count\")\n",
        ")\n",
        "\n",
        "# Convert Spark DataFrame to Pandas DataFrame for visualization\n",
        "default_proportion_pdf = default_proportion_df.toPandas()\n",
        "\n",
        "# Visualize the count of defaulters and non-defaulters\n",
        "plt.figure(figsize=(8, 5))\n",
        "plt.bar(default_proportion_pdf[\"loan\"], default_proportion_pdf[\"count\"], color=['lightcoral', 'darkslategrey'])\n",
        "plt.title('Count of Defaulters and Non-Defaulters')\n",
        "plt.xlabel('Credit Default')\n",
        "plt.ylabel('Count')\n",
        "plt.xticks(rotation=0)\n",
        "plt.grid(axis='y')"
      ],
      "metadata": {
        "colab": {
          "base_uri": "https://localhost:8080/",
          "height": 487
        },
        "id": "bC8EHDOGDuR2",
        "outputId": "60fb4854-e873-4623-d8c6-5b730f6558c2"
      },
      "execution_count": 72,
      "outputs": [
        {
          "output_type": "display_data",
          "data": {
            "text/plain": [
              "<Figure size 800x500 with 1 Axes>"
            ],
            "image/png": "[encoded data removed]"
          },
          "metadata": {}
        }
      ]
    },
    {
      "cell_type": "code",
      "source": [
        "# Filter data for term deposit subscriptions and non-unknown contact methods\n",
        "term_deposit_df = df.filter((col(\"y\") == \"yes\") & (col(\"contact\") != \"unknown\"))\n",
        "\n",
        "# Calculate success rate for each contact method\n",
        "success_rate_df = term_deposit_df.groupBy(\"contact\").agg(\n",
        "    (count(when(col(\"y\") == \"yes\", True)) / count(\"*\") * 100).alias(\"success_rate\")\n",
        ")\n",
        "\n",
        "# Identify contact method with the highest success rate\n",
        "highest_success_rate = success_rate_df.orderBy(col(\"success_rate\").desc()).first()\n",
        "\n",
        "# Show the result\n",
        "print(f\"The contact method with the highest success rate for term deposit subscriptions is: {highest_success_rate['contact']}\")\n",
        "print(f\"Success rate: {highest_success_rate['success_rate']}%\")"
      ],
      "metadata": {
        "colab": {
          "base_uri": "https://localhost:8080/"
        },
        "id": "ezaNdkJWEyGG",
        "outputId": "b028c8df-d27b-4eea-adef-56bf5a423b80"
      },
      "execution_count": 73,
      "outputs": [
        {
          "output_type": "stream",
          "name": "stdout",
          "text": [
            "The contact method with the highest success rate for term deposit subscriptions is: UNKNOWN\n",
            "Success rate: 100.0%\n"
          ]
        }
      ]
    },
    {
      "cell_type": "markdown",
      "source": [
        "## **Data Processing with Spark SQL:**\n",
        "\n",
        "Calculate the average account balance for different age groups or the most common job types. (Use CREATE TEMPORARY VIEW in Spark SQL to query data using SQL syntax.)\n"
      ],
      "metadata": {
        "id": "odoEc9VfE2j5"
      }
    },
    {
      "cell_type": "code",
      "source": [
        "# Create a temporary view\n",
        "bank_data.createOrReplaceTempView(\"bank\")\n",
        "\n",
        "# Calculate the average account balance for different age groups\n",
        "age_balance_avg = spark.sql(\"\"\"\n",
        "    SELECT\n",
        "        CASE\n",
        "            WHEN age < 30 THEN 'Under 30'\n",
        "            WHEN age BETWEEN 30 AND 60 THEN '30-60'\n",
        "            ELSE 'Over 60'\n",
        "        END AS age_group,\n",
        "        AVG(balance) AS avg_balance\n",
        "    FROM\n",
        "        bank\n",
        "    GROUP BY\n",
        "        age_group\n",
        "    ORDER BY\n",
        "        age_group\n",
        "\"\"\")\n",
        "\n",
        "age_balance_avg.show()\n",
        "\n",
        "# Calculate the most common job types\n",
        "common_jobs = spark.sql(\"\"\"\n",
        "    SELECT\n",
        "        job,\n",
        "        COUNT(*) AS count\n",
        "    FROM\n",
        "        bank\n",
        "    GROUP BY\n",
        "        job\n",
        "    ORDER BY\n",
        "        count DESC\n",
        "    LIMIT 5\n",
        "\"\"\")\n",
        "\n",
        "common_jobs.show()"
      ],
      "metadata": {
        "colab": {
          "base_uri": "https://localhost:8080/"
        },
        "id": "fWKfho2qE2-1",
        "outputId": "bc0db073-8d2e-4572-92c7-1c66ac49a044"
      },
      "execution_count": 74,
      "outputs": [
        {
          "output_type": "stream",
          "name": "stdout",
          "text": [
            "+---------+-----------------+\n",
            "|age_group|      avg_balance|\n",
            "+---------+-----------------+\n",
            "|    30-60|3853.557440246723|\n",
            "|  Over 60|4993.548387096775|\n",
            "| Under 30|3488.909836065574|\n",
            "+---------+-----------------+\n",
            "\n",
            "+-----------+-----+\n",
            "|        job|count|\n",
            "+-----------+-----+\n",
            "| management|  370|\n",
            "|blue-collar|  278|\n",
            "| technician|  239|\n",
            "|     admin.|  152|\n",
            "|   services|  116|\n",
            "+-----------+-----+\n",
            "\n"
          ]
        }
      ]
    },
    {
      "cell_type": "markdown",
      "source": [
        "# ***Task 4: Real-Time Transaction Analysis***\n"
      ],
      "metadata": {
        "id": "GF8Ens_Soomf"
      }
    },
    {
      "cell_type": "markdown",
      "source": [
        "## **Data Loading:**\n",
        "\n",
        "Loading data is the first step in any data analysis process. PySpark supports various data sources such as CSV files, Parquet files, and databases. Here's an example of loading data from a CSV file:"
      ],
      "metadata": {
        "id": "0wOQAZs5pc--"
      }
    },
    {
      "cell_type": "code",
      "source": [
        "bank_df = pd.read_csv(\"/content/drive/MyDrive/AlmaBetter Masters Projects/Financial Forecasting Frontier /bank.csv\")\n",
        "bank_df.head(10)"
      ],
      "metadata": {
        "id": "7v_ESjsspbW7",
        "colab": {
          "base_uri": "https://localhost:8080/",
          "height": 363
        },
        "outputId": "b742bbc0-ac54-4505-e5a2-829d84f7520e"
      },
      "execution_count": 76,
      "outputs": [
        {
          "output_type": "execute_result",
          "data": {
            "text/plain": [
              "   age            job  marital  education default  balance housing loan  \\\n",
              "0   30     unemployed  married    primary      no     1787      no   no   \n",
              "1   33       services  married  secondary      no     4789     yes  yes   \n",
              "2   35     management   single   tertiary      no     1350     yes   no   \n",
              "3   30     management  married   tertiary      no     1476     yes  yes   \n",
              "4   59    blue-collar  married  secondary      no        0     yes   no   \n",
              "5   35     management   single   tertiary      no      747      no   no   \n",
              "6   36  self-employed  married   tertiary      no      307     yes   no   \n",
              "7   39     technician  married  secondary      no      147     yes   no   \n",
              "8   41   entrepreneur  married   tertiary      no      221     yes   no   \n",
              "9   43       services  married    primary      no      -88     yes  yes   \n",
              "\n",
              "    contact  day month  duration  campaign  pdays  previous poutcome   y  \n",
              "0  cellular   19   oct        79         1     -1         0  unknown  no  \n",
              "1  cellular   11   may       220         1    339         4  failure  no  \n",
              "2  cellular   16   apr       185         1    330         1  failure  no  \n",
              "3   unknown    3   jun       199         4     -1         0  unknown  no  \n",
              "4   unknown    5   may       226         1     -1         0  unknown  no  \n",
              "5  cellular   23   feb       141         2    176         3  failure  no  \n",
              "6  cellular   14   may       341         1    330         2    other  no  \n",
              "7  cellular    6   may       151         2     -1         0  unknown  no  \n",
              "8   unknown   14   may        57         2     -1         0  unknown  no  \n",
              "9  cellular   17   apr       313         1    147         2  failure  no  "
            ],
            "text/html": [
              "\n",
              "  <div id=\"df-e41db331-eabd-4d33-b136-2274b3a1190e\" class=\"colab-df-container\">\n",
              "    <div>\n",
              "<style scoped>\n",
              "    .dataframe tbody tr th:only-of-type {\n",
              "        vertical-align: middle;\n",
              "    }\n",
              "\n",
              "    .dataframe tbody tr th {\n",
              "        vertical-align: top;\n",
              "    }\n",
              "\n",
              "    .dataframe thead th {\n",
              "        text-align: right;\n",
              "    }\n",
              "</style>\n",
              "<table border=\"1\" class=\"dataframe\">\n",
              "  <thead>\n",
              "    <tr style=\"text-align: right;\">\n",
              "      <th></th>\n",
              "      <th>age</th>\n",
              "      <th>job</th>\n",
              "      <th>marital</th>\n",
              "      <th>education</th>\n",
              "      <th>default</th>\n",
              "      <th>balance</th>\n",
              "      <th>housing</th>\n",
              "      <th>loan</th>\n",
              "      <th>contact</th>\n",
              "      <th>day</th>\n",
              "      <th>month</th>\n",
              "      <th>duration</th>\n",
              "      <th>campaign</th>\n",
              "      <th>pdays</th>\n",
              "      <th>previous</th>\n",
              "      <th>poutcome</th>\n",
              "      <th>y</th>\n",
              "    </tr>\n",
              "  </thead>\n",
              "  <tbody>\n",
              "    <tr>\n",
              "      <th>0</th>\n",
              "      <td>30</td>\n",
              "      <td>unemployed</td>\n",
              "      <td>married</td>\n",
              "      <td>primary</td>\n",
              "      <td>no</td>\n",
              "      <td>1787</td>\n",
              "      <td>no</td>\n",
              "      <td>no</td>\n",
              "      <td>cellular</td>\n",
              "      <td>19</td>\n",
              "      <td>oct</td>\n",
              "      <td>79</td>\n",
              "      <td>1</td>\n",
              "      <td>-1</td>\n",
              "      <td>0</td>\n",
              "      <td>unknown</td>\n",
              "      <td>no</td>\n",
              "    </tr>\n",
              "    <tr>\n",
              "      <th>1</th>\n",
              "      <td>33</td>\n",
              "      <td>services</td>\n",
              "      <td>married</td>\n",
              "      <td>secondary</td>\n",
              "      <td>no</td>\n",
              "      <td>4789</td>\n",
              "      <td>yes</td>\n",
              "      <td>yes</td>\n",
              "      <td>cellular</td>\n",
              "      <td>11</td>\n",
              "      <td>may</td>\n",
              "      <td>220</td>\n",
              "      <td>1</td>\n",
              "      <td>339</td>\n",
              "      <td>4</td>\n",
              "      <td>failure</td>\n",
              "      <td>no</td>\n",
              "    </tr>\n",
              "    <tr>\n",
              "      <th>2</th>\n",
              "      <td>35</td>\n",
              "      <td>management</td>\n",
              "      <td>single</td>\n",
              "      <td>tertiary</td>\n",
              "      <td>no</td>\n",
              "      <td>1350</td>\n",
              "      <td>yes</td>\n",
              "      <td>no</td>\n",
              "      <td>cellular</td>\n",
              "      <td>16</td>\n",
              "      <td>apr</td>\n",
              "      <td>185</td>\n",
              "      <td>1</td>\n",
              "      <td>330</td>\n",
              "      <td>1</td>\n",
              "      <td>failure</td>\n",
              "      <td>no</td>\n",
              "    </tr>\n",
              "    <tr>\n",
              "      <th>3</th>\n",
              "      <td>30</td>\n",
              "      <td>management</td>\n",
              "      <td>married</td>\n",
              "      <td>tertiary</td>\n",
              "      <td>no</td>\n",
              "      <td>1476</td>\n",
              "      <td>yes</td>\n",
              "      <td>yes</td>\n",
              "      <td>unknown</td>\n",
              "      <td>3</td>\n",
              "      <td>jun</td>\n",
              "      <td>199</td>\n",
              "      <td>4</td>\n",
              "      <td>-1</td>\n",
              "      <td>0</td>\n",
              "      <td>unknown</td>\n",
              "      <td>no</td>\n",
              "    </tr>\n",
              "    <tr>\n",
              "      <th>4</th>\n",
              "      <td>59</td>\n",
              "      <td>blue-collar</td>\n",
              "      <td>married</td>\n",
              "      <td>secondary</td>\n",
              "      <td>no</td>\n",
              "      <td>0</td>\n",
              "      <td>yes</td>\n",
              "      <td>no</td>\n",
              "      <td>unknown</td>\n",
              "      <td>5</td>\n",
              "      <td>may</td>\n",
              "      <td>226</td>\n",
              "      <td>1</td>\n",
              "      <td>-1</td>\n",
              "      <td>0</td>\n",
              "      <td>unknown</td>\n",
              "      <td>no</td>\n",
              "    </tr>\n",
              "    <tr>\n",
              "      <th>5</th>\n",
              "      <td>35</td>\n",
              "      <td>management</td>\n",
              "      <td>single</td>\n",
              "      <td>tertiary</td>\n",
              "      <td>no</td>\n",
              "      <td>747</td>\n",
              "      <td>no</td>\n",
              "      <td>no</td>\n",
              "      <td>cellular</td>\n",
              "      <td>23</td>\n",
              "      <td>feb</td>\n",
              "      <td>141</td>\n",
              "      <td>2</td>\n",
              "      <td>176</td>\n",
              "      <td>3</td>\n",
              "      <td>failure</td>\n",
              "      <td>no</td>\n",
              "    </tr>\n",
              "    <tr>\n",
              "      <th>6</th>\n",
              "      <td>36</td>\n",
              "      <td>self-employed</td>\n",
              "      <td>married</td>\n",
              "      <td>tertiary</td>\n",
              "      <td>no</td>\n",
              "      <td>307</td>\n",
              "      <td>yes</td>\n",
              "      <td>no</td>\n",
              "      <td>cellular</td>\n",
              "      <td>14</td>\n",
              "      <td>may</td>\n",
              "      <td>341</td>\n",
              "      <td>1</td>\n",
              "      <td>330</td>\n",
              "      <td>2</td>\n",
              "      <td>other</td>\n",
              "      <td>no</td>\n",
              "    </tr>\n",
              "    <tr>\n",
              "      <th>7</th>\n",
              "      <td>39</td>\n",
              "      <td>technician</td>\n",
              "      <td>married</td>\n",
              "      <td>secondary</td>\n",
              "      <td>no</td>\n",
              "      <td>147</td>\n",
              "      <td>yes</td>\n",
              "      <td>no</td>\n",
              "      <td>cellular</td>\n",
              "      <td>6</td>\n",
              "      <td>may</td>\n",
              "      <td>151</td>\n",
              "      <td>2</td>\n",
              "      <td>-1</td>\n",
              "      <td>0</td>\n",
              "      <td>unknown</td>\n",
              "      <td>no</td>\n",
              "    </tr>\n",
              "    <tr>\n",
              "      <th>8</th>\n",
              "      <td>41</td>\n",
              "      <td>entrepreneur</td>\n",
              "      <td>married</td>\n",
              "      <td>tertiary</td>\n",
              "      <td>no</td>\n",
              "      <td>221</td>\n",
              "      <td>yes</td>\n",
              "      <td>no</td>\n",
              "      <td>unknown</td>\n",
              "      <td>14</td>\n",
              "      <td>may</td>\n",
              "      <td>57</td>\n",
              "      <td>2</td>\n",
              "      <td>-1</td>\n",
              "      <td>0</td>\n",
              "      <td>unknown</td>\n",
              "      <td>no</td>\n",
              "    </tr>\n",
              "    <tr>\n",
              "      <th>9</th>\n",
              "      <td>43</td>\n",
              "      <td>services</td>\n",
              "      <td>married</td>\n",
              "      <td>primary</td>\n",
              "      <td>no</td>\n",
              "      <td>-88</td>\n",
              "      <td>yes</td>\n",
              "      <td>yes</td>\n",
              "      <td>cellular</td>\n",
              "      <td>17</td>\n",
              "      <td>apr</td>\n",
              "      <td>313</td>\n",
              "      <td>1</td>\n",
              "      <td>147</td>\n",
              "      <td>2</td>\n",
              "      <td>failure</td>\n",
              "      <td>no</td>\n",
              "    </tr>\n",
              "  </tbody>\n",
              "</table>\n",
              "</div>\n",
              "    <div class=\"colab-df-buttons\">\n",
              "\n",
              "  <div class=\"colab-df-container\">\n",
              "    <button class=\"colab-df-convert\" onclick=\"convertToInteractive('df-e41db331-eabd-4d33-b136-2274b3a1190e')\"\n",
              "            title=\"Convert this dataframe to an interactive table.\"\n",
              "            style=\"display:none;\">\n",
              "\n",
              "  <svg xmlns=\"http://www.w3.org/2000/svg\" height=\"24px\" viewBox=\"0 -960 960 960\">\n",
              "    <path d=\"M120-120v-720h720v720H120Zm60-500h600v-160H180v160Zm220 220h160v-160H400v160Zm0 220h160v-160H400v160ZM180-400h160v-160H180v160Zm440 0h160v-160H620v160ZM180-180h160v-160H180v160Zm440 0h160v-160H620v160Z\"/>\n",
              "  </svg>\n",
              "    </button>\n",
              "\n",
              "  <style>\n",
              "    .colab-df-container {\n",
              "      display:flex;\n",
              "      gap: 12px;\n",
              "    }\n",
              "\n",
              "    .colab-df-convert {\n",
              "      background-color: #E8F0FE;\n",
              "      border: none;\n",
              "      border-radius: 50%;\n",
              "      cursor: pointer;\n",
              "      display: none;\n",
              "      fill: #1967D2;\n",
              "      height: 32px;\n",
              "      padding: 0 0 0 0;\n",
              "      width: 32px;\n",
              "    }\n",
              "\n",
              "    .colab-df-convert:hover {\n",
              "      background-color: #E2EBFA;\n",
              "      box-shadow: 0px 1px 2px rgba(60, 64, 67, 0.3), 0px 1px 3px 1px rgba(60, 64, 67, 0.15);\n",
              "      fill: #174EA6;\n",
              "    }\n",
              "\n",
              "    .colab-df-buttons div {\n",
              "      margin-bottom: 4px;\n",
              "    }\n",
              "\n",
              "    [theme=dark] .colab-df-convert {\n",
              "      background-color: #3B4455;\n",
              "      fill: #D2E3FC;\n",
              "    }\n",
              "\n",
              "    [theme=dark] .colab-df-convert:hover {\n",
              "      background-color: #434B5C;\n",
              "      box-shadow: 0px 1px 3px 1px rgba(0, 0, 0, 0.15);\n",
              "      filter: drop-shadow(0px 1px 2px rgba(0, 0, 0, 0.3));\n",
              "      fill: #FFFFFF;\n",
              "    }\n",
              "  </style>\n",
              "\n",
              "    <script>\n",
              "      const buttonEl =\n",
              "        document.querySelector('#df-e41db331-eabd-4d33-b136-2274b3a1190e button.colab-df-convert');\n",
              "      buttonEl.style.display =\n",
              "        google.colab.kernel.accessAllowed ? 'block' : 'none';\n",
              "\n",
              "      async function convertToInteractive(key) {\n",
              "        const element = document.querySelector('#df-e41db331-eabd-4d33-b136-2274b3a1190e');\n",
              "        const dataTable =\n",
              "          await google.colab.kernel.invokeFunction('convertToInteractive',\n",
              "                                                    [key], {});\n",
              "        if (!dataTable) return;\n",
              "\n",
              "        const docLinkHtml = 'Like what you see? Visit the ' +\n",
              "          '<a target=\"_blank\" href=https://colab.research.google.com/notebooks/data_table.ipynb>data table notebook</a>'\n",
              "          + ' to learn more about interactive tables.';\n",
              "        element.innerHTML = '';\n",
              "        dataTable['output_type'] = 'display_data';\n",
              "        await google.colab.output.renderOutput(dataTable, element);\n",
              "        const docLink = document.createElement('div');\n",
              "        docLink.innerHTML = docLinkHtml;\n",
              "        element.appendChild(docLink);\n",
              "      }\n",
              "    </script>\n",
              "  </div>\n",
              "\n",
              "\n",
              "    <div id=\"df-44fcc606-a3ea-4b9a-a173-cfb2f89049ba\">\n",
              "      <button class=\"colab-df-quickchart\" onclick=\"quickchart('df-44fcc606-a3ea-4b9a-a173-cfb2f89049ba')\"\n",
              "                title=\"Suggest charts\"\n",
              "                style=\"display:none;\">\n",
              "\n",
              "<svg xmlns=\"http://www.w3.org/2000/svg\" height=\"24px\"viewBox=\"0 0 24 24\"\n",
              "     width=\"24px\">\n",
              "    <g>\n",
              "        <path d=\"M19 3H5c-1.1 0-2 .9-2 2v14c0 1.1.9 2 2 2h14c1.1 0 2-.9 2-2V5c0-1.1-.9-2-2-2zM9 17H7v-7h2v7zm4 0h-2V7h2v10zm4 0h-2v-4h2v4z\"/>\n",
              "    </g>\n",
              "</svg>\n",
              "      </button>\n",
              "\n",
              "<style>\n",
              "  .colab-df-quickchart {\n",
              "      --bg-color: #E8F0FE;\n",
              "      --fill-color: #1967D2;\n",
              "      --hover-bg-color: #E2EBFA;\n",
              "      --hover-fill-color: #174EA6;\n",
              "      --disabled-fill-color: #AAA;\n",
              "      --disabled-bg-color: #DDD;\n",
              "  }\n",
              "\n",
              "  [theme=dark] .colab-df-quickchart {\n",
              "      --bg-color: #3B4455;\n",
              "      --fill-color: #D2E3FC;\n",
              "      --hover-bg-color: #434B5C;\n",
              "      --hover-fill-color: #FFFFFF;\n",
              "      --disabled-bg-color: #3B4455;\n",
              "      --disabled-fill-color: #666;\n",
              "  }\n",
              "\n",
              "  .colab-df-quickchart {\n",
              "    background-color: var(--bg-color);\n",
              "    border: none;\n",
              "    border-radius: 50%;\n",
              "    cursor: pointer;\n",
              "    display: none;\n",
              "    fill: var(--fill-color);\n",
              "    height: 32px;\n",
              "    padding: 0;\n",
              "    width: 32px;\n",
              "  }\n",
              "\n",
              "  .colab-df-quickchart:hover {\n",
              "    background-color: var(--hover-bg-color);\n",
              "    box-shadow: 0 1px 2px rgba(60, 64, 67, 0.3), 0 1px 3px 1px rgba(60, 64, 67, 0.15);\n",
              "    fill: var(--button-hover-fill-color);\n",
              "  }\n",
              "\n",
              "  .colab-df-quickchart-complete:disabled,\n",
              "  .colab-df-quickchart-complete:disabled:hover {\n",
              "    background-color: var(--disabled-bg-color);\n",
              "    fill: var(--disabled-fill-color);\n",
              "    box-shadow: none;\n",
              "  }\n",
              "\n",
              "  .colab-df-spinner {\n",
              "    border: 2px solid var(--fill-color);\n",
              "    border-color: transparent;\n",
              "    border-bottom-color: var(--fill-color);\n",
              "    animation:\n",
              "      spin 1s steps(1) infinite;\n",
              "  }\n",
              "\n",
              "  @keyframes spin {\n",
              "    0% {\n",
              "      border-color: transparent;\n",
              "      border-bottom-color: var(--fill-color);\n",
              "      border-left-color: var(--fill-color);\n",
              "    }\n",
              "    20% {\n",
              "      border-color: transparent;\n",
              "      border-left-color: var(--fill-color);\n",
              "      border-top-color: var(--fill-color);\n",
              "    }\n",
              "    30% {\n",
              "      border-color: transparent;\n",
              "      border-left-color: var(--fill-color);\n",
              "      border-top-color: var(--fill-color);\n",
              "      border-right-color: var(--fill-color);\n",
              "    }\n",
              "    40% {\n",
              "      border-color: transparent;\n",
              "      border-right-color: var(--fill-color);\n",
              "      border-top-color: var(--fill-color);\n",
              "    }\n",
              "    60% {\n",
              "      border-color: transparent;\n",
              "      border-right-color: var(--fill-color);\n",
              "    }\n",
              "    80% {\n",
              "      border-color: transparent;\n",
              "      border-right-color: var(--fill-color);\n",
              "      border-bottom-color: var(--fill-color);\n",
              "    }\n",
              "    90% {\n",
              "      border-color: transparent;\n",
              "      border-bottom-color: var(--fill-color);\n",
              "    }\n",
              "  }\n",
              "</style>\n",
              "\n",
              "      <script>\n",
              "        async function quickchart(key) {\n",
              "          const quickchartButtonEl =\n",
              "            document.querySelector('#' + key + ' button');\n",
              "          quickchartButtonEl.disabled = true;  // To prevent multiple clicks.\n",
              "          quickchartButtonEl.classList.add('colab-df-spinner');\n",
              "          try {\n",
              "            const charts = await google.colab.kernel.invokeFunction(\n",
              "                'suggestCharts', [key], {});\n",
              "          } catch (error) {\n",
              "            console.error('Error during call to suggestCharts:', error);\n",
              "          }\n",
              "          quickchartButtonEl.classList.remove('colab-df-spinner');\n",
              "          quickchartButtonEl.classList.add('colab-df-quickchart-complete');\n",
              "        }\n",
              "        (() => {\n",
              "          let quickchartButtonEl =\n",
              "            document.querySelector('#df-44fcc606-a3ea-4b9a-a173-cfb2f89049ba button');\n",
              "          quickchartButtonEl.style.display =\n",
              "            google.colab.kernel.accessAllowed ? 'block' : 'none';\n",
              "        })();\n",
              "      </script>\n",
              "    </div>\n",
              "\n",
              "    </div>\n",
              "  </div>\n"
            ],
            "application/vnd.google.colaboratory.intrinsic+json": {
              "type": "dataframe",
              "variable_name": "bank_df",
              "summary": "{\n  \"name\": \"bank_df\",\n  \"rows\": 4521,\n  \"fields\": [\n    {\n      \"column\": \"age\",\n      \"properties\": {\n        \"dtype\": \"number\",\n        \"std\": 10,\n        \"min\": 19,\n        \"max\": 87,\n        \"num_unique_values\": 67,\n        \"samples\": [\n          50,\n          44,\n          36\n        ],\n        \"semantic_type\": \"\",\n        \"description\": \"\"\n      }\n    },\n    {\n      \"column\": \"job\",\n      \"properties\": {\n        \"dtype\": \"category\",\n        \"num_unique_values\": 12,\n        \"samples\": [\n          \"retired\",\n          \"housemaid\",\n          \"unemployed\"\n        ],\n        \"semantic_type\": \"\",\n        \"description\": \"\"\n      }\n    },\n    {\n      \"column\": \"marital\",\n      \"properties\": {\n        \"dtype\": \"category\",\n        \"num_unique_values\": 3,\n        \"samples\": [\n          \"married\",\n          \"single\",\n          \"divorced\"\n        ],\n        \"semantic_type\": \"\",\n        \"description\": \"\"\n      }\n    },\n    {\n      \"column\": \"education\",\n      \"properties\": {\n        \"dtype\": \"category\",\n        \"num_unique_values\": 4,\n        \"samples\": [\n          \"secondary\",\n          \"unknown\",\n          \"primary\"\n        ],\n        \"semantic_type\": \"\",\n        \"description\": \"\"\n      }\n    },\n    {\n      \"column\": \"default\",\n      \"properties\": {\n        \"dtype\": \"category\",\n        \"num_unique_values\": 2,\n        \"samples\": [\n          \"yes\",\n          \"no\"\n        ],\n        \"semantic_type\": \"\",\n        \"description\": \"\"\n      }\n    },\n    {\n      \"column\": \"balance\",\n      \"properties\": {\n        \"dtype\": \"number\",\n        \"std\": 3009,\n        \"min\": -3313,\n        \"max\": 71188,\n        \"num_unique_values\": 2353,\n        \"samples\": [\n          1988,\n          7010\n        ],\n        \"semantic_type\": \"\",\n        \"description\": \"\"\n      }\n    },\n    {\n      \"column\": \"housing\",\n      \"properties\": {\n        \"dtype\": \"category\",\n        \"num_unique_values\": 2,\n        \"samples\": [\n          \"yes\",\n          \"no\"\n        ],\n        \"semantic_type\": \"\",\n        \"description\": \"\"\n      }\n    },\n    {\n      \"column\": \"loan\",\n      \"properties\": {\n        \"dtype\": \"category\",\n        \"num_unique_values\": 2,\n        \"samples\": [\n          \"yes\",\n          \"no\"\n        ],\n        \"semantic_type\": \"\",\n        \"description\": \"\"\n      }\n    },\n    {\n      \"column\": \"contact\",\n      \"properties\": {\n        \"dtype\": \"category\",\n        \"num_unique_values\": 3,\n        \"samples\": [\n          \"cellular\",\n          \"unknown\"\n        ],\n        \"semantic_type\": \"\",\n        \"description\": \"\"\n      }\n    },\n    {\n      \"column\": \"day\",\n      \"properties\": {\n        \"dtype\": \"number\",\n        \"std\": 8,\n        \"min\": 1,\n        \"max\": 31,\n        \"num_unique_values\": 31,\n        \"samples\": [\n          10,\n          18\n        ],\n        \"semantic_type\": \"\",\n        \"description\": \"\"\n      }\n    },\n    {\n      \"column\": \"month\",\n      \"properties\": {\n        \"dtype\": \"category\",\n        \"num_unique_values\": 12,\n        \"samples\": [\n          \"mar\",\n          \"sep\"\n        ],\n        \"semantic_type\": \"\",\n        \"description\": \"\"\n      }\n    },\n    {\n      \"column\": \"duration\",\n      \"properties\": {\n        \"dtype\": \"number\",\n        \"std\": 259,\n        \"min\": 4,\n        \"max\": 3025,\n        \"num_unique_values\": 875,\n        \"samples\": [\n          1516,\n          722\n        ],\n        \"semantic_type\": \"\",\n        \"description\": \"\"\n      }\n    },\n    {\n      \"column\": \"campaign\",\n      \"properties\": {\n        \"dtype\": \"number\",\n        \"std\": 3,\n        \"min\": 1,\n        \"max\": 50,\n        \"num_unique_values\": 32,\n        \"samples\": [\n          28,\n          8\n        ],\n        \"semantic_type\": \"\",\n        \"description\": \"\"\n      }\n    },\n    {\n      \"column\": \"pdays\",\n      \"properties\": {\n        \"dtype\": \"number\",\n        \"std\": 100,\n        \"min\": -1,\n        \"max\": 871,\n        \"num_unique_values\": 292,\n        \"samples\": [\n          63,\n          385\n        ],\n        \"semantic_type\": \"\",\n        \"description\": \"\"\n      }\n    },\n    {\n      \"column\": \"previous\",\n      \"properties\": {\n        \"dtype\": \"number\",\n        \"std\": 1,\n        \"min\": 0,\n        \"max\": 25,\n        \"num_unique_values\": 24,\n        \"samples\": [\n          6,\n          11\n        ],\n        \"semantic_type\": \"\",\n        \"description\": \"\"\n      }\n    },\n    {\n      \"column\": \"poutcome\",\n      \"properties\": {\n        \"dtype\": \"category\",\n        \"num_unique_values\": 4,\n        \"samples\": [\n          \"failure\",\n          \"success\"\n        ],\n        \"semantic_type\": \"\",\n        \"description\": \"\"\n      }\n    },\n    {\n      \"column\": \"y\",\n      \"properties\": {\n        \"dtype\": \"category\",\n        \"num_unique_values\": 2,\n        \"samples\": [\n          \"yes\",\n          \"no\"\n        ],\n        \"semantic_type\": \"\",\n        \"description\": \"\"\n      }\n    }\n  ]\n}"
            }
          },
          "metadata": {},
          "execution_count": 76
        }
      ]
    },
    {
      "cell_type": "code",
      "source": [
        "bank_df.shape"
      ],
      "metadata": {
        "colab": {
          "base_uri": "https://localhost:8080/"
        },
        "id": "C-8WnYOdFq5H",
        "outputId": "e1c652aa-6fb1-44b4-e608-06b9ceef9b6f"
      },
      "execution_count": 77,
      "outputs": [
        {
          "output_type": "execute_result",
          "data": {
            "text/plain": [
              "(4521, 17)"
            ]
          },
          "metadata": {},
          "execution_count": 77
        }
      ]
    },
    {
      "cell_type": "code",
      "source": [
        "df = bank_df.drop(columns=['marital','education','default','housing','loan','contact','day','month','campaign','pdays','previous','poutcome'])\n",
        "df.head(10)"
      ],
      "metadata": {
        "colab": {
          "base_uri": "https://localhost:8080/",
          "height": 363
        },
        "id": "XbspR6DMFw0X",
        "outputId": "55cd6222-863b-4ba6-dd53-68514fa11545"
      },
      "execution_count": 79,
      "outputs": [
        {
          "output_type": "execute_result",
          "data": {
            "text/plain": [
              "   age            job  balance  duration   y\n",
              "0   30     unemployed     1787        79  no\n",
              "1   33       services     4789       220  no\n",
              "2   35     management     1350       185  no\n",
              "3   30     management     1476       199  no\n",
              "4   59    blue-collar        0       226  no\n",
              "5   35     management      747       141  no\n",
              "6   36  self-employed      307       341  no\n",
              "7   39     technician      147       151  no\n",
              "8   41   entrepreneur      221        57  no\n",
              "9   43       services      -88       313  no"
            ],
            "text/html": [
              "\n",
              "  <div id=\"df-71a5f519-2da1-45e2-ade8-c01985c9a7d7\" class=\"colab-df-container\">\n",
              "    <div>\n",
              "<style scoped>\n",
              "    .dataframe tbody tr th:only-of-type {\n",
              "        vertical-align: middle;\n",
              "    }\n",
              "\n",
              "    .dataframe tbody tr th {\n",
              "        vertical-align: top;\n",
              "    }\n",
              "\n",
              "    .dataframe thead th {\n",
              "        text-align: right;\n",
              "    }\n",
              "</style>\n",
              "<table border=\"1\" class=\"dataframe\">\n",
              "  <thead>\n",
              "    <tr style=\"text-align: right;\">\n",
              "      <th></th>\n",
              "      <th>age</th>\n",
              "      <th>job</th>\n",
              "      <th>balance</th>\n",
              "      <th>duration</th>\n",
              "      <th>y</th>\n",
              "    </tr>\n",
              "  </thead>\n",
              "  <tbody>\n",
              "    <tr>\n",
              "      <th>0</th>\n",
              "      <td>30</td>\n",
              "      <td>unemployed</td>\n",
              "      <td>1787</td>\n",
              "      <td>79</td>\n",
              "      <td>no</td>\n",
              "    </tr>\n",
              "    <tr>\n",
              "      <th>1</th>\n",
              "      <td>33</td>\n",
              "      <td>services</td>\n",
              "      <td>4789</td>\n",
              "      <td>220</td>\n",
              "      <td>no</td>\n",
              "    </tr>\n",
              "    <tr>\n",
              "      <th>2</th>\n",
              "      <td>35</td>\n",
              "      <td>management</td>\n",
              "      <td>1350</td>\n",
              "      <td>185</td>\n",
              "      <td>no</td>\n",
              "    </tr>\n",
              "    <tr>\n",
              "      <th>3</th>\n",
              "      <td>30</td>\n",
              "      <td>management</td>\n",
              "      <td>1476</td>\n",
              "      <td>199</td>\n",
              "      <td>no</td>\n",
              "    </tr>\n",
              "    <tr>\n",
              "      <th>4</th>\n",
              "      <td>59</td>\n",
              "      <td>blue-collar</td>\n",
              "      <td>0</td>\n",
              "      <td>226</td>\n",
              "      <td>no</td>\n",
              "    </tr>\n",
              "    <tr>\n",
              "      <th>5</th>\n",
              "      <td>35</td>\n",
              "      <td>management</td>\n",
              "      <td>747</td>\n",
              "      <td>141</td>\n",
              "      <td>no</td>\n",
              "    </tr>\n",
              "    <tr>\n",
              "      <th>6</th>\n",
              "      <td>36</td>\n",
              "      <td>self-employed</td>\n",
              "      <td>307</td>\n",
              "      <td>341</td>\n",
              "      <td>no</td>\n",
              "    </tr>\n",
              "    <tr>\n",
              "      <th>7</th>\n",
              "      <td>39</td>\n",
              "      <td>technician</td>\n",
              "      <td>147</td>\n",
              "      <td>151</td>\n",
              "      <td>no</td>\n",
              "    </tr>\n",
              "    <tr>\n",
              "      <th>8</th>\n",
              "      <td>41</td>\n",
              "      <td>entrepreneur</td>\n",
              "      <td>221</td>\n",
              "      <td>57</td>\n",
              "      <td>no</td>\n",
              "    </tr>\n",
              "    <tr>\n",
              "      <th>9</th>\n",
              "      <td>43</td>\n",
              "      <td>services</td>\n",
              "      <td>-88</td>\n",
              "      <td>313</td>\n",
              "      <td>no</td>\n",
              "    </tr>\n",
              "  </tbody>\n",
              "</table>\n",
              "</div>\n",
              "    <div class=\"colab-df-buttons\">\n",
              "\n",
              "  <div class=\"colab-df-container\">\n",
              "    <button class=\"colab-df-convert\" onclick=\"convertToInteractive('df-71a5f519-2da1-45e2-ade8-c01985c9a7d7')\"\n",
              "            title=\"Convert this dataframe to an interactive table.\"\n",
              "            style=\"display:none;\">\n",
              "\n",
              "  <svg xmlns=\"http://www.w3.org/2000/svg\" height=\"24px\" viewBox=\"0 -960 960 960\">\n",
              "    <path d=\"M120-120v-720h720v720H120Zm60-500h600v-160H180v160Zm220 220h160v-160H400v160Zm0 220h160v-160H400v160ZM180-400h160v-160H180v160Zm440 0h160v-160H620v160ZM180-180h160v-160H180v160Zm440 0h160v-160H620v160Z\"/>\n",
              "  </svg>\n",
              "    </button>\n",
              "\n",
              "  <style>\n",
              "    .colab-df-container {\n",
              "      display:flex;\n",
              "      gap: 12px;\n",
              "    }\n",
              "\n",
              "    .colab-df-convert {\n",
              "      background-color: #E8F0FE;\n",
              "      border: none;\n",
              "      border-radius: 50%;\n",
              "      cursor: pointer;\n",
              "      display: none;\n",
              "      fill: #1967D2;\n",
              "      height: 32px;\n",
              "      padding: 0 0 0 0;\n",
              "      width: 32px;\n",
              "    }\n",
              "\n",
              "    .colab-df-convert:hover {\n",
              "      background-color: #E2EBFA;\n",
              "      box-shadow: 0px 1px 2px rgba(60, 64, 67, 0.3), 0px 1px 3px 1px rgba(60, 64, 67, 0.15);\n",
              "      fill: #174EA6;\n",
              "    }\n",
              "\n",
              "    .colab-df-buttons div {\n",
              "      margin-bottom: 4px;\n",
              "    }\n",
              "\n",
              "    [theme=dark] .colab-df-convert {\n",
              "      background-color: #3B4455;\n",
              "      fill: #D2E3FC;\n",
              "    }\n",
              "\n",
              "    [theme=dark] .colab-df-convert:hover {\n",
              "      background-color: #434B5C;\n",
              "      box-shadow: 0px 1px 3px 1px rgba(0, 0, 0, 0.15);\n",
              "      filter: drop-shadow(0px 1px 2px rgba(0, 0, 0, 0.3));\n",
              "      fill: #FFFFFF;\n",
              "    }\n",
              "  </style>\n",
              "\n",
              "    <script>\n",
              "      const buttonEl =\n",
              "        document.querySelector('#df-71a5f519-2da1-45e2-ade8-c01985c9a7d7 button.colab-df-convert');\n",
              "      buttonEl.style.display =\n",
              "        google.colab.kernel.accessAllowed ? 'block' : 'none';\n",
              "\n",
              "      async function convertToInteractive(key) {\n",
              "        const element = document.querySelector('#df-71a5f519-2da1-45e2-ade8-c01985c9a7d7');\n",
              "        const dataTable =\n",
              "          await google.colab.kernel.invokeFunction('convertToInteractive',\n",
              "                                                    [key], {});\n",
              "        if (!dataTable) return;\n",
              "\n",
              "        const docLinkHtml = 'Like what you see? Visit the ' +\n",
              "          '<a target=\"_blank\" href=https://colab.research.google.com/notebooks/data_table.ipynb>data table notebook</a>'\n",
              "          + ' to learn more about interactive tables.';\n",
              "        element.innerHTML = '';\n",
              "        dataTable['output_type'] = 'display_data';\n",
              "        await google.colab.output.renderOutput(dataTable, element);\n",
              "        const docLink = document.createElement('div');\n",
              "        docLink.innerHTML = docLinkHtml;\n",
              "        element.appendChild(docLink);\n",
              "      }\n",
              "    </script>\n",
              "  </div>\n",
              "\n",
              "\n",
              "    <div id=\"df-d79b0b4f-fd04-42ab-b288-88c01214cbcb\">\n",
              "      <button class=\"colab-df-quickchart\" onclick=\"quickchart('df-d79b0b4f-fd04-42ab-b288-88c01214cbcb')\"\n",
              "                title=\"Suggest charts\"\n",
              "                style=\"display:none;\">\n",
              "\n",
              "<svg xmlns=\"http://www.w3.org/2000/svg\" height=\"24px\"viewBox=\"0 0 24 24\"\n",
              "     width=\"24px\">\n",
              "    <g>\n",
              "        <path d=\"M19 3H5c-1.1 0-2 .9-2 2v14c0 1.1.9 2 2 2h14c1.1 0 2-.9 2-2V5c0-1.1-.9-2-2-2zM9 17H7v-7h2v7zm4 0h-2V7h2v10zm4 0h-2v-4h2v4z\"/>\n",
              "    </g>\n",
              "</svg>\n",
              "      </button>\n",
              "\n",
              "<style>\n",
              "  .colab-df-quickchart {\n",
              "      --bg-color: #E8F0FE;\n",
              "      --fill-color: #1967D2;\n",
              "      --hover-bg-color: #E2EBFA;\n",
              "      --hover-fill-color: #174EA6;\n",
              "      --disabled-fill-color: #AAA;\n",
              "      --disabled-bg-color: #DDD;\n",
              "  }\n",
              "\n",
              "  [theme=dark] .colab-df-quickchart {\n",
              "      --bg-color: #3B4455;\n",
              "      --fill-color: #D2E3FC;\n",
              "      --hover-bg-color: #434B5C;\n",
              "      --hover-fill-color: #FFFFFF;\n",
              "      --disabled-bg-color: #3B4455;\n",
              "      --disabled-fill-color: #666;\n",
              "  }\n",
              "\n",
              "  .colab-df-quickchart {\n",
              "    background-color: var(--bg-color);\n",
              "    border: none;\n",
              "    border-radius: 50%;\n",
              "    cursor: pointer;\n",
              "    display: none;\n",
              "    fill: var(--fill-color);\n",
              "    height: 32px;\n",
              "    padding: 0;\n",
              "    width: 32px;\n",
              "  }\n",
              "\n",
              "  .colab-df-quickchart:hover {\n",
              "    background-color: var(--hover-bg-color);\n",
              "    box-shadow: 0 1px 2px rgba(60, 64, 67, 0.3), 0 1px 3px 1px rgba(60, 64, 67, 0.15);\n",
              "    fill: var(--button-hover-fill-color);\n",
              "  }\n",
              "\n",
              "  .colab-df-quickchart-complete:disabled,\n",
              "  .colab-df-quickchart-complete:disabled:hover {\n",
              "    background-color: var(--disabled-bg-color);\n",
              "    fill: var(--disabled-fill-color);\n",
              "    box-shadow: none;\n",
              "  }\n",
              "\n",
              "  .colab-df-spinner {\n",
              "    border: 2px solid var(--fill-color);\n",
              "    border-color: transparent;\n",
              "    border-bottom-color: var(--fill-color);\n",
              "    animation:\n",
              "      spin 1s steps(1) infinite;\n",
              "  }\n",
              "\n",
              "  @keyframes spin {\n",
              "    0% {\n",
              "      border-color: transparent;\n",
              "      border-bottom-color: var(--fill-color);\n",
              "      border-left-color: var(--fill-color);\n",
              "    }\n",
              "    20% {\n",
              "      border-color: transparent;\n",
              "      border-left-color: var(--fill-color);\n",
              "      border-top-color: var(--fill-color);\n",
              "    }\n",
              "    30% {\n",
              "      border-color: transparent;\n",
              "      border-left-color: var(--fill-color);\n",
              "      border-top-color: var(--fill-color);\n",
              "      border-right-color: var(--fill-color);\n",
              "    }\n",
              "    40% {\n",
              "      border-color: transparent;\n",
              "      border-right-color: var(--fill-color);\n",
              "      border-top-color: var(--fill-color);\n",
              "    }\n",
              "    60% {\n",
              "      border-color: transparent;\n",
              "      border-right-color: var(--fill-color);\n",
              "    }\n",
              "    80% {\n",
              "      border-color: transparent;\n",
              "      border-right-color: var(--fill-color);\n",
              "      border-bottom-color: var(--fill-color);\n",
              "    }\n",
              "    90% {\n",
              "      border-color: transparent;\n",
              "      border-bottom-color: var(--fill-color);\n",
              "    }\n",
              "  }\n",
              "</style>\n",
              "\n",
              "      <script>\n",
              "        async function quickchart(key) {\n",
              "          const quickchartButtonEl =\n",
              "            document.querySelector('#' + key + ' button');\n",
              "          quickchartButtonEl.disabled = true;  // To prevent multiple clicks.\n",
              "          quickchartButtonEl.classList.add('colab-df-spinner');\n",
              "          try {\n",
              "            const charts = await google.colab.kernel.invokeFunction(\n",
              "                'suggestCharts', [key], {});\n",
              "          } catch (error) {\n",
              "            console.error('Error during call to suggestCharts:', error);\n",
              "          }\n",
              "          quickchartButtonEl.classList.remove('colab-df-spinner');\n",
              "          quickchartButtonEl.classList.add('colab-df-quickchart-complete');\n",
              "        }\n",
              "        (() => {\n",
              "          let quickchartButtonEl =\n",
              "            document.querySelector('#df-d79b0b4f-fd04-42ab-b288-88c01214cbcb button');\n",
              "          quickchartButtonEl.style.display =\n",
              "            google.colab.kernel.accessAllowed ? 'block' : 'none';\n",
              "        })();\n",
              "      </script>\n",
              "    </div>\n",
              "\n",
              "    </div>\n",
              "  </div>\n"
            ],
            "application/vnd.google.colaboratory.intrinsic+json": {
              "type": "dataframe",
              "variable_name": "df",
              "summary": "{\n  \"name\": \"df\",\n  \"rows\": 4521,\n  \"fields\": [\n    {\n      \"column\": \"age\",\n      \"properties\": {\n        \"dtype\": \"number\",\n        \"std\": 10,\n        \"min\": 19,\n        \"max\": 87,\n        \"num_unique_values\": 67,\n        \"samples\": [\n          50,\n          44,\n          36\n        ],\n        \"semantic_type\": \"\",\n        \"description\": \"\"\n      }\n    },\n    {\n      \"column\": \"job\",\n      \"properties\": {\n        \"dtype\": \"category\",\n        \"num_unique_values\": 12,\n        \"samples\": [\n          \"retired\",\n          \"housemaid\",\n          \"unemployed\"\n        ],\n        \"semantic_type\": \"\",\n        \"description\": \"\"\n      }\n    },\n    {\n      \"column\": \"balance\",\n      \"properties\": {\n        \"dtype\": \"number\",\n        \"std\": 3009,\n        \"min\": -3313,\n        \"max\": 71188,\n        \"num_unique_values\": 2353,\n        \"samples\": [\n          1988,\n          7010,\n          1562\n        ],\n        \"semantic_type\": \"\",\n        \"description\": \"\"\n      }\n    },\n    {\n      \"column\": \"duration\",\n      \"properties\": {\n        \"dtype\": \"number\",\n        \"std\": 259,\n        \"min\": 4,\n        \"max\": 3025,\n        \"num_unique_values\": 875,\n        \"samples\": [\n          1516,\n          722,\n          447\n        ],\n        \"semantic_type\": \"\",\n        \"description\": \"\"\n      }\n    },\n    {\n      \"column\": \"y\",\n      \"properties\": {\n        \"dtype\": \"category\",\n        \"num_unique_values\": 2,\n        \"samples\": [\n          \"yes\",\n          \"no\"\n        ],\n        \"semantic_type\": \"\",\n        \"description\": \"\"\n      }\n    }\n  ]\n}"
            }
          },
          "metadata": {},
          "execution_count": 79
        }
      ]
    },
    {
      "cell_type": "markdown",
      "source": [
        "## **Stream Processing and Data Aggregation:**\n",
        "\n",
        "Implement a Spark Streaming application that reads a stream of data simulating real-time bank transactions. The stream should include columns such as 'age', 'job', 'balance', 'duration', and 'y' (target variable). You can create this stream by breaking the \"bank.csv\" dataset into smaller chunks and sending them as a simulated stream.\n",
        "\n",
        "Use Spark Streaming to calculate the average account balance and transaction duration, aggregating the data by job category in real-time. Display the aggregated results as they are updated.\n"
      ],
      "metadata": {
        "id": "0chKJFckF1g3"
      }
    },
    {
      "cell_type": "code",
      "source": [
        "# Import necessary libraries\n",
        "from pyspark.sql import SparkSession\n",
        "from pyspark.sql.functions import avg, max, min, count, when\n",
        "\n",
        "# Create a SparkSession\n",
        "spark = SparkSession.builder.appName(\"AggregateDataInsights\").getOrCreate()\n",
        "\n",
        "# Load your PySpark DataFrame\n",
        "spark_df = spark.createDataFrame(df)\n",
        "\n",
        "# Group by a specific columnand perform aggregation\n",
        "grouped_data = spark_df.groupBy(\"job\")\n",
        "\n",
        "# Calculate average sentiment\n",
        "average_balance = grouped_data.agg(avg(\"balance\").alias(\"avg_balance\"))\n",
        "\n",
        "# Calculate the maximum sentiment value\n",
        "avg_duration = grouped_data.agg(max(\"duration\").alias(\"avg_duration\"))\n",
        "\n",
        "\n",
        "\n",
        "# Show the results\n",
        "average_balance.show()\n",
        "avg_duration.show()\n",
        "\n",
        "\n",
        "# Stop the SparkSession\n",
        "spark.stop()"
      ],
      "metadata": {
        "colab": {
          "base_uri": "https://localhost:8080/"
        },
        "id": "0_EQHHqeF2Ge",
        "outputId": "24cd03ad-a158-4c12-da5e-15df34bcb406"
      },
      "execution_count": 80,
      "outputs": [
        {
          "output_type": "stream",
          "name": "stdout",
          "text": [
            "+-------------+------------------+\n",
            "|          job|       avg_balance|\n",
            "+-------------+------------------+\n",
            "|   unemployed|       1089.421875|\n",
            "|     services|1103.9568345323742|\n",
            "|      student|1543.8214285714287|\n",
            "|      unknown|1501.7105263157894|\n",
            "|   management|1766.9287925696594|\n",
            "|  blue-collar| 1085.161733615222|\n",
            "|self-employed|1392.4098360655737|\n",
            "|       admin.|  1226.73640167364|\n",
            "|   technician|     1330.99609375|\n",
            "|    housemaid|2083.8035714285716|\n",
            "| entrepreneur|          1645.125|\n",
            "|      retired| 2319.191304347826|\n",
            "+-------------+------------------+\n",
            "\n",
            "+-------------+------------+\n",
            "|          job|avg_duration|\n",
            "+-------------+------------+\n",
            "|   unemployed|        3025|\n",
            "|     services|        1971|\n",
            "|      student|        1124|\n",
            "|      unknown|         789|\n",
            "|   management|        2087|\n",
            "|  blue-collar|        2456|\n",
            "|self-employed|        1877|\n",
            "|       admin.|        1713|\n",
            "|   technician|        2029|\n",
            "|    housemaid|        1558|\n",
            "| entrepreneur|        2769|\n",
            "|      retired|        1386|\n",
            "+-------------+------------+\n",
            "\n"
          ]
        }
      ]
    },
    {
      "cell_type": "markdown",
      "source": [
        "## **Real-Time Model Predictions:**\n",
        "\n",
        "Develop a machine learning model using the historical data from the \"bank.csv\" dataset to predict whether a client will subscribe to a term deposit ('y'). You may choose any classification algorithm.\n",
        "\n",
        "Integrate the trained model into the Spark Streaming application. Use the model to make real-time predictions as new transaction data is streamed. Ensure that each incoming transaction is accompanied by a prediction of whether the client will subscribe to a term deposit.\n",
        "\n",
        "To integrate a real-time machine learning model into a Spark Streaming application, we'll follow these steps:\n",
        "\n",
        "**Train a Classification Model:** Use the historical bank.csv dataset to train a classification model.\n",
        "\n",
        "**Save the Trained Model:** Save the trained model so it can be loaded in the streaming application.\n",
        "\n",
        "**Stream Processing and Model Predictions:** Develop the Spark Streaming application to read incoming data, load the trained model, and make real-time predictions.\n"
      ],
      "metadata": {
        "id": "Iud_yNOAGC1k"
      }
    },
    {
      "cell_type": "code",
      "source": [
        "from pyspark.sql import SparkSession\n",
        "from pyspark.ml.feature import StringIndexer, VectorAssembler\n",
        "from pyspark.ml.classification import RandomForestClassifier\n",
        "from pyspark.ml import Pipeline\n",
        "from pyspark.ml.evaluation import BinaryClassificationEvaluator\n",
        "import pandas as pd\n",
        "import matplotlib.pyplot as plt\n",
        "\n",
        "# Create a Spark session\n",
        "spark = SparkSession.builder \\\n",
        "    .appName(\"BankTermDepositPrediction\") \\\n",
        "    .config(\"spark.sql.shuffle.partitions\", \"4\") \\\n",
        "    .config(\"spark.executor.memory\", \"2g\") \\\n",
        "    .config(\"spark.driver.memory\", \"2g\") \\\n",
        "    .getOrCreate()\n",
        "\n",
        "# Load the dataset\n",
        "data_path = \"/content/drive/MyDrive/AlmaBetter Masters Projects/Financial Forecasting Frontier /bank.csv\"\n",
        "data = spark.read.csv(data_path, header=True, inferSchema=True)\n",
        "\n",
        "# Handle categorical variables using StringIndexer\n",
        "categorical_columns = [\"job\", \"marital\", \"education\", \"default\", \"housing\", \"loan\", \"contact\", \"month\", \"poutcome\"]\n",
        "indexers = [StringIndexer(inputCol=col, outputCol=col+\"_index\") for col in categorical_columns]\n",
        "\n",
        "# Rename the target column to 'label'\n",
        "data = data.withColumnRenamed(\"y\", \"label\")\n",
        "\n",
        "# Convert the label column to numerical values\n",
        "label_indexer = StringIndexer(inputCol=\"label\", outputCol=\"label_index\")\n",
        "data = label_indexer.fit(data).transform(data)\n",
        "\n",
        "# Assemble features into a single vector\n",
        "assembler = VectorAssembler(\n",
        "    inputCols=[\"age\", \"balance\", \"day\", \"duration\", \"campaign\", \"pdays\", \"previous\"] + [col+\"_index\" for col in categorical_columns],\n",
        "    outputCol=\"features\"\n",
        ")\n",
        "\n",
        "# Initialize the Random Forest classifier\n",
        "rf = RandomForestClassifier(labelCol=\"label_index\", featuresCol=\"features\", numTrees=100)\n",
        "\n",
        "# Define the pipeline\n",
        "pipeline = Pipeline(stages=indexers + [assembler, rf])\n",
        "\n",
        "# Split the data into training and test sets\n",
        "train_data, test_data = data.randomSplit([0.8, 0.2], seed=1234)\n",
        "\n",
        "# Train the model\n",
        "model = pipeline.fit(train_data)\n",
        "\n",
        "# Evaluate the model\n",
        "predictions = model.transform(test_data)\n",
        "predictions_tr = model.transform(train_data)\n",
        "\n",
        "evaluator = BinaryClassificationEvaluator(labelCol=\"label_index\")\n",
        "\n",
        "# Calculate training accuracy\n",
        "train_accuracy = predictions_tr.filter(predictions_tr.label_index == predictions_tr.prediction).count() / float(train_data.count())\n",
        "print(f\"Train Accuracy: {train_accuracy}\")\n",
        "\n",
        "# Calculate test accuracy\n",
        "test_accuracy = predictions.filter(predictions.label_index == predictions.prediction).count() / float(test_data.count())\n",
        "print(f\"Test Accuracy: {test_accuracy}\")\n",
        "\n",
        "# Stop the Spark session\n",
        "spark.stop()"
      ],
      "metadata": {
        "colab": {
          "base_uri": "https://localhost:8080/"
        },
        "id": "SU08iK0fGDQk",
        "outputId": "2255d610-beb5-4af4-dd5d-b84db6684ba8"
      },
      "execution_count": 81,
      "outputs": [
        {
          "output_type": "stream",
          "name": "stdout",
          "text": [
            "Train Accuracy: 0.8987964989059081\n",
            "Test Accuracy: 0.8890173410404625\n"
          ]
        }
      ]
    },
    {
      "cell_type": "code",
      "source": [
        "# Visualize the comparison of train and test accuracy\n",
        "metrics = pd.DataFrame({\n",
        "    'Data Set': ['Train', 'Test'],\n",
        "    'Accuracy': [train_accuracy, test_accuracy]\n",
        "})\n",
        "\n",
        "# Plot the comparison\n",
        "plt.figure(figsize=(10, 6))\n",
        "plt.bar(metrics['Data Set'], metrics['Accuracy'], color=['c', 'm'])\n",
        "plt.ylim(0, 1)\n",
        "plt.xlabel('Data Set')\n",
        "plt.ylabel('Accuracy')\n",
        "plt.title('Comparison of Train and Test Accuracy')\n",
        "plt.show()"
      ],
      "metadata": {
        "colab": {
          "base_uri": "https://localhost:8080/",
          "height": 564
        },
        "id": "o-9NQG0zGPvJ",
        "outputId": "11ffad08-ae94-4d87-ba68-a5425b9a39fa"
      },
      "execution_count": 82,
      "outputs": [
        {
          "output_type": "display_data",
          "data": {
            "text/plain": [
              "<Figure size 1000x600 with 1 Axes>"
            ],
            "image/png": "[encoded data removed]"
          },
          "metadata": {}
        }
      ]
    },
    {
      "cell_type": "markdown",
      "source": [
        "## **Window Operations and Trend Analysis:**\n",
        "\n",
        "Implement window operations in your Spark Streaming application to analyze trends over different time windows. Calculate and display the count of transactions and the average balance within these windows.\n",
        "\n",
        "Write a brief analysis of the trends observed in the streaming data. Discuss any interesting patterns or anomalies detected in the transaction count or average balance over the specified windows.\n"
      ],
      "metadata": {
        "id": "K5QZ13OEpz2H"
      }
    },
    {
      "cell_type": "code",
      "source": [
        "from pyspark.sql import SparkSession\n",
        "from pyspark.sql.functions import window, count, avg, current_timestamp\n",
        "from pyspark.sql.types import StructType, StructField, StringType, IntegerType, DoubleType\n",
        "\n",
        "# Create a Spark session\n",
        "spark = SparkSession.builder \\\n",
        "    .appName(\"TransactionAnalysis\") \\\n",
        "    .getOrCreate()\n",
        "\n",
        "# Assuming `df` is your Pandas DataFrame\n",
        "\n",
        "# Define the schema for the CSV files\n",
        "schema = StructType([\n",
        "    StructField(\"age\", IntegerType(), True),\n",
        "    StructField(\"job\", StringType(), True),\n",
        "    StructField(\"marital\", StringType(), True),\n",
        "    StructField(\"education\", StringType(), True),\n",
        "    StructField(\"default\", StringType(), True),\n",
        "    StructField(\"balance\", IntegerType(), True),  # Assuming balance is an integer\n",
        "    StructField(\"housing\", StringType(), True),\n",
        "    StructField(\"loan\", StringType(), True),\n",
        "    StructField(\"contact\", StringType(), True),\n",
        "    StructField(\"day\", IntegerType(), True),\n",
        "    StructField(\"month\", StringType(), True),\n",
        "    StructField(\"duration\", IntegerType(), True),\n",
        "    StructField(\"campaign\", IntegerType(), True),\n",
        "    StructField(\"pdays\", IntegerType(), True),\n",
        "    StructField(\"previous\", IntegerType(), True),\n",
        "    StructField(\"poutcome\", StringType(), True),\n",
        "    StructField(\"y\", StringType(), True)\n",
        "])"
      ],
      "metadata": {
        "id": "1BhmfTOEGdtF"
      },
      "execution_count": 83,
      "outputs": []
    },
    {
      "cell_type": "code",
      "source": [
        "# Create a PySpark DataFrame from the Pandas DataFrame\n",
        "streaming_df = spark.createDataFrame(df)\n",
        "\n",
        "# Import necessary libraries for stateful processing\n",
        "from pyspark.sql.window import Window\n",
        "from pyspark.sql import functions as F\n",
        "\n",
        "# Add a timestamp column using current_timestamp()\n",
        "streaming_df = streaming_df.withColumn(\"timestamp\", current_timestamp())\n",
        "\n",
        "# Cast balance column to double type\n",
        "streaming_df = streaming_df.withColumn(\"balance\", streaming_df[\"balance\"].cast(\"double\"))\n",
        "\n",
        "# Sort the DataFrame by timestamp\n",
        "sorted_df = streaming_df.orderBy(\"timestamp\")\n",
        "\n",
        "# Define window duration and sliding interval\n",
        "windowDuration = \"1 minute\"\n",
        "slideInterval = \"30 seconds\"\n",
        "\n",
        "# Define a window specification\n",
        "window_spec = Window.orderBy(\"timestamp\").rowsBetween(-5, 0)\n",
        "\n",
        "\n",
        "\n",
        "# Calculate a rolling average sentiment over a window of 6 rows\n",
        "rolling_avg_balance_df = sorted_df.withColumn(\"rolling_avg_balance\", F.avg(\"balance\").over(window_spec))\n",
        "rolling_avg_transaction_df = sorted_df.withColumn(\"rolling_avg_transcation\", F.count(\"balance\").over(window_spec))\n",
        "\n",
        "# Show the resulting DataFrame\n",
        "rolling_avg_balance_df.show()\n",
        "rolling_avg_transaction_df.show()"
      ],
      "metadata": {
        "colab": {
          "base_uri": "https://localhost:8080/"
        },
        "id": "x5jwH8zqGi3p",
        "outputId": "33d7c33f-00b9-4535-9e23-f1e7065c28f9"
      },
      "execution_count": 84,
      "outputs": [
        {
          "output_type": "stream",
          "name": "stdout",
          "text": [
            "+---+-------------+-------+--------+---+--------------------+-------------------+\n",
            "|age|          job|balance|duration|  y|           timestamp|rolling_avg_balance|\n",
            "+---+-------------+-------+--------+---+--------------------+-------------------+\n",
            "| 30|   unemployed| 1787.0|      79| no|2025-06-04 08:42:...|             1787.0|\n",
            "| 33|     services| 4789.0|     220| no|2025-06-04 08:42:...|             3288.0|\n",
            "| 35|   management| 1350.0|     185| no|2025-06-04 08:42:...|             2642.0|\n",
            "| 30|   management| 1476.0|     199| no|2025-06-04 08:42:...|             2350.5|\n",
            "| 59|  blue-collar|    0.0|     226| no|2025-06-04 08:42:...|             1880.4|\n",
            "| 35|   management|  747.0|     141| no|2025-06-04 08:42:...|             1691.5|\n",
            "| 36|self-employed|  307.0|     341| no|2025-06-04 08:42:...| 1444.8333333333333|\n",
            "| 39|   technician|  147.0|     151| no|2025-06-04 08:42:...|  671.1666666666666|\n",
            "| 41| entrepreneur|  221.0|      57| no|2025-06-04 08:42:...|              483.0|\n",
            "| 43|     services|  -88.0|     313| no|2025-06-04 08:42:...| 222.33333333333334|\n",
            "| 39|     services| 9374.0|     273| no|2025-06-04 08:42:...| 1784.6666666666667|\n",
            "| 43|       admin.|  264.0|     113| no|2025-06-04 08:42:...| 1704.1666666666667|\n",
            "| 36|   technician| 1109.0|     328| no|2025-06-04 08:42:...| 1837.8333333333333|\n",
            "| 20|      student|  502.0|     261|yes|2025-06-04 08:42:...|             1897.0|\n",
            "| 31|  blue-collar|  360.0|      89| no|2025-06-04 08:42:...| 1920.1666666666667|\n",
            "| 40|   management|  194.0|     189| no|2025-06-04 08:42:...| 1967.1666666666667|\n",
            "| 56|   technician| 4073.0|     239| no|2025-06-04 08:42:...| 1083.6666666666667|\n",
            "| 37|       admin.| 2317.0|     114| no|2025-06-04 08:42:...| 1425.8333333333333|\n",
            "| 25|  blue-collar| -221.0|     250| no|2025-06-04 08:42:...| 1204.1666666666667|\n",
            "| 31|     services|  132.0|     148| no|2025-06-04 08:42:...|             1142.5|\n",
            "+---+-------------+-------+--------+---+--------------------+-------------------+\n",
            "only showing top 20 rows\n",
            "\n",
            "+---+-------------+-------+--------+---+--------------------+-----------------------+\n",
            "|age|          job|balance|duration|  y|           timestamp|rolling_avg_transcation|\n",
            "+---+-------------+-------+--------+---+--------------------+-----------------------+\n",
            "| 30|   unemployed| 1787.0|      79| no|2025-06-04 08:42:...|                      1|\n",
            "| 33|     services| 4789.0|     220| no|2025-06-04 08:42:...|                      2|\n",
            "| 35|   management| 1350.0|     185| no|2025-06-04 08:42:...|                      3|\n",
            "| 30|   management| 1476.0|     199| no|2025-06-04 08:42:...|                      4|\n",
            "| 59|  blue-collar|    0.0|     226| no|2025-06-04 08:42:...|                      5|\n",
            "| 35|   management|  747.0|     141| no|2025-06-04 08:42:...|                      6|\n",
            "| 36|self-employed|  307.0|     341| no|2025-06-04 08:42:...|                      6|\n",
            "| 39|   technician|  147.0|     151| no|2025-06-04 08:42:...|                      6|\n",
            "| 41| entrepreneur|  221.0|      57| no|2025-06-04 08:42:...|                      6|\n",
            "| 43|     services|  -88.0|     313| no|2025-06-04 08:42:...|                      6|\n",
            "| 39|     services| 9374.0|     273| no|2025-06-04 08:42:...|                      6|\n",
            "| 43|       admin.|  264.0|     113| no|2025-06-04 08:42:...|                      6|\n",
            "| 36|   technician| 1109.0|     328| no|2025-06-04 08:42:...|                      6|\n",
            "| 20|      student|  502.0|     261|yes|2025-06-04 08:42:...|                      6|\n",
            "| 31|  blue-collar|  360.0|      89| no|2025-06-04 08:42:...|                      6|\n",
            "| 40|   management|  194.0|     189| no|2025-06-04 08:42:...|                      6|\n",
            "| 56|   technician| 4073.0|     239| no|2025-06-04 08:42:...|                      6|\n",
            "| 37|       admin.| 2317.0|     114| no|2025-06-04 08:42:...|                      6|\n",
            "| 25|  blue-collar| -221.0|     250| no|2025-06-04 08:42:...|                      6|\n",
            "| 31|     services|  132.0|     148| no|2025-06-04 08:42:...|                      6|\n",
            "+---+-------------+-------+--------+---+--------------------+-----------------------+\n",
            "only showing top 20 rows\n",
            "\n"
          ]
        }
      ]
    },
    {
      "cell_type": "code",
      "source": [
        "import matplotlib.pyplot as plt\n",
        "\n",
        "# Extract timestamps and rolling average balance values\n",
        "\n",
        "balance_values = rolling_avg_balance_df.select(\"rolling_avg_balance\").collect()\n",
        "\n",
        "transaction_count_values = rolling_avg_transaction_df.select(\"rolling_avg_transcation\").collect()\n",
        "\n",
        "\n",
        "\n",
        "# Plot rolling average balance\n",
        "plt.figure(figsize=(12, 6))\n",
        "plt.plot(transaction_count_values,balance_values, label=\"Rolling Avg. Balance\", color=\"red\")\n",
        "plt.xlabel(\"Transaction Count\")\n",
        "plt.ylabel(\"Rolling Average Balance\")\n",
        "plt.title(\"Rolling Average Balance Over Transaction Counts\")\n",
        "plt.legend()\n",
        "plt.grid(True)\n",
        "plt.show()"
      ],
      "metadata": {
        "colab": {
          "base_uri": "https://localhost:8080/",
          "height": 564
        },
        "id": "ZYyPT1F9GpG4",
        "outputId": "dc6eca34-3669-4fb0-c645-d658c786843f"
      },
      "execution_count": 85,
      "outputs": [
        {
          "output_type": "display_data",
          "data": {
            "text/plain": [
              "<Figure size 1200x600 with 1 Axes>"
            ],
            "image/png": "[encoded data removed]"
          },
          "metadata": {}
        }
      ]
    },
    {
      "cell_type": "markdown",
      "source": [
        "## **Handling Late and Out-of-Order Data:**\n",
        "\n",
        "Modify your Spark Streaming application to handle late and out-of-order data using watermarking. Explain your approach and how it improves the accuracy of real-time analytics.\n"
      ],
      "metadata": {
        "id": "lQ7QKXXCp7Bj"
      }
    },
    {
      "cell_type": "markdown",
      "source": [
        "Handling late and out-of-order data is crucial in real-time analytics to ensure the accuracy and reliability of the analysis results. Spark Structured Streaming provides a feature called watermarking to address these challenges effectively.\n",
        "\n",
        "Watermarking allows Spark to track the event time of data and specify a threshold beyond which late data is considered irrelevant for computations. It works by associating a timestamp with each event and discarding events that arrive after a certain delay relative to the latest event seen so far.\n",
        "\n",
        "Here's how you can modify your Spark Streaming application to handle late and out-of-order data using watermarking:\n",
        "\n",
        "**Define Event Time:** Ensure that your streaming data contains a timestamp indicating the event time. This timestamp should represent when the event occurred, not when it was processed.\n",
        "\n",
        "**Specify Watermark:** Set a watermark for your streaming DataFrame or Dataset using the withWatermark function. This function specifies the maximum delay allowed for late data.\n",
        "\n",
        "**Use Event Time in Windowing:** When defining window operations (e.g., aggregations over time windows), specify the column representing the event time. This ensures that Spark uses the event time for windowing calculations.\n",
        "\n",
        "**Handle Late Data:** Spark will automatically handle late data based on the watermark specified. Late data that arrives after the watermark threshold will be considered irrelevant for computations and will be dropped.\n",
        "\n",
        "**Ensure Data Ordering:** It's essential to ensure that your streaming data is ordered by event time before performing window operations. You can achieve this by sorting your DataFrame or Dataset by the event time column.\n",
        "\n",
        "**By implementing watermarking in your Spark Structured Streaming application, you can improve the accuracy of real-time analytics by:**\n",
        "\n",
        "Ensuring that only relevant data within the specified event time window is considered for computations.\n",
        "\n",
        "Handling out-of-order data gracefully by accommodating delays in data arrival.\n",
        "Preventing over-counting or under-counting of events that arrive late or out of order.\n",
        "\n",
        "Providing more accurate insights and analytics results based on a complete and consistent view of the data within the defined time windows."
      ],
      "metadata": {
        "id": "7z6yLS-AGz8W"
      }
    },
    {
      "cell_type": "code",
      "source": [
        "from pyspark.sql import SparkSession\n",
        "from pyspark.sql.functions import window, count, avg, current_timestamp\n",
        "from pyspark.sql.types import StructType, StructField, StringType, IntegerType, DoubleType\n",
        "\n",
        "# Create a Spark session\n",
        "spark = SparkSession.builder \\\n",
        "    .appName(\"TransactionWatermarking\") \\\n",
        "    .getOrCreate()\n",
        "\n",
        "# Create a PySpark DataFrame from the Pandas DataFrame\n",
        "streaming_df = spark.createDataFrame(df)\n",
        "\n",
        "# Add a timestamp column using current_timestamp()\n",
        "streaming_df = streaming_df.withColumn(\"timestamp\", current_timestamp())\n",
        "\n",
        "# Define watermark for late data handling\n",
        "watermark_duration = \"10 seconds\"\n",
        "\n",
        "# Define window duration and sliding interval\n",
        "windowDuration = \"1 minute\"\n",
        "slideInterval = \"30 seconds\"\n",
        "\n",
        "# Cast balance column to double type\n",
        "streaming_df = streaming_df.withColumn(\"balance\", streaming_df[\"balance\"].cast(\"double\"))\n",
        "\n",
        "# Apply watermarking to handle late data\n",
        "streaming_df = streaming_df.withWatermark(\"timestamp\", watermark_duration)\n",
        "\n",
        "# Sort the DataFrame by timestamp\n",
        "sorted_df = streaming_df.orderBy(\"timestamp\")\n",
        "\n",
        "# Define a window specification\n",
        "window_spec = window(\"timestamp\", windowDuration, slideInterval)\n",
        "\n",
        "# Calculate a rolling average balance over a window of 6 rows\n",
        "rolling_avg_balance_df = sorted_df \\\n",
        "    .groupBy(window_spec) \\\n",
        "    .agg(F.avg(\"balance\").alias(\"rolling_avg_balance\"))\n",
        "\n",
        "# Calculate the count of transactions within the window\n",
        "rolling_avg_transaction_df = sorted_df \\\n",
        "    .groupBy(window_spec) \\\n",
        "    .agg(count(\"*\").alias(\"transaction_count\"))\n",
        "\n",
        "rolling_avg_balance_df.show()\n",
        "rolling_avg_transaction_df.show()"
      ],
      "metadata": {
        "colab": {
          "base_uri": "https://localhost:8080/"
        },
        "id": "0nHd1_w8G3lc",
        "outputId": "e8dd36b3-6c16-490f-a315-15a5164f2c7d"
      },
      "execution_count": 86,
      "outputs": [
        {
          "output_type": "stream",
          "name": "stdout",
          "text": [
            "+--------------------+-------------------+\n",
            "|              window|rolling_avg_balance|\n",
            "+--------------------+-------------------+\n",
            "|{2025-06-04 08:43...| 1422.6578190665782|\n",
            "|{2025-06-04 08:43...| 1422.6578190665782|\n",
            "+--------------------+-------------------+\n",
            "\n",
            "+--------------------+-----------------+\n",
            "|              window|transaction_count|\n",
            "+--------------------+-----------------+\n",
            "|{2025-06-04 08:43...|             4521|\n",
            "|{2025-06-04 08:43...|             4521|\n",
            "+--------------------+-----------------+\n",
            "\n"
          ]
        }
      ]
    },
    {
      "cell_type": "markdown",
      "source": [
        "# **Conclusion**"
      ],
      "metadata": {
        "id": "gCX9965dhzqZ"
      }
    },
    {
      "cell_type": "markdown",
      "source": [
        "This project successfully demonstrated the power and applicability of distributed computing and machine learning in the context of banking analytics. Leveraging Apache Spark and PySpark, we processed and analyzed a real-world dataset (bank.csv) to extract meaningful insights and build scalable, data-driven models."
      ],
      "metadata": {
        "id": "Fjb1IsQkh3yE"
      }
    },
    {
      "cell_type": "markdown",
      "source": [
        "\n",
        "\n",
        "**1.   Efficient Data Management with Spark:**\n",
        "\n",
        "The dataset was loaded and processed using Apache Spark, ensuring fast, parallelized data operations.\n",
        "\n",
        "Data was repartitioned based on the balance column to enhance load balancing and computational efficiency across nodes. This resulted in optimized memory usage and reduced shuffle overhead.\n",
        "\n",
        "**2.   Exploratory Data Analysis (EDA):**\n",
        "\n",
        "EDA revealed important trends and customer behavior patterns. For instance, age, balance, and education level were key differentiators for customer decisions.\n",
        "\n",
        "Visualizations helped uncover the distribution of account balances, education levels, job categories, and subscription rates to term deposits.\n",
        "\n",
        "**3.   Predictive Modeling (Classification):**\n",
        "\n",
        "A classification model was built using Spark ML to predict whether a customer would subscribe to a term deposit.\n",
        "\n",
        "Logistic Regression was applied after preprocessing categorical features through StringIndexer and OneHotEncoder, followed by assembling them into a feature vector.\n",
        "\n",
        "The model was evaluated using metrics such as accuracy, precision, recall, and F1-score, indicating a reasonable predictive performance.\n",
        "\n",
        "**4.   Real-Time Processing with Spark Streaming:**\n",
        "\n",
        "Simulated streaming data was used to perform real-time transaction monitoring.\n",
        "\n",
        "Rolling average balances and transaction counts were computed using time windows, demonstrating how banks can use Spark Streaming for timely insights and anomaly detection.\n",
        "\n",
        "Results showed that during a given time window, the system processed 4,521 transactions with an average balance of approximately 1,422.66, showcasing real-time capability.\n",
        "\n",
        "\n",
        "**5.   Scalability and Performance Optimization:**\n",
        "\n",
        "\n",
        "Techniques like repartitioning and caching were utilized to manage performance at scale.\n",
        "\n",
        "The pipeline demonstrated adaptability to increasing data volumes and evolving analytics requirements, a critical aspect for financial institutions dealing with big data.\n"
      ],
      "metadata": {
        "id": "rMezu2CyHjga"
      }
    },
    {
      "cell_type": "markdown",
      "source": [
        "This project exemplifies how modern financial organizations can transform raw data into actionable insights using distributed machine learning systems, ultimately leading to smarter decision-making and enhanced customer experience."
      ],
      "metadata": {
        "id": "xMoVungaI5zD"
      }
    },
    {
      "cell_type": "markdown",
      "source": [
        "### ***Hurrah! You have successfully completed your Distributed Machine Learning Capstone Project !!!***"
      ],
      "metadata": {
        "id": "gIfDvo9L0UH2"
      }
    }
  ]
}